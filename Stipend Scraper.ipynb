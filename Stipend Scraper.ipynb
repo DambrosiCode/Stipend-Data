{
 "cells": [
  {
   "cell_type": "code",
   "execution_count": 1,
   "metadata": {
    "collapsed": true
   },
   "outputs": [],
   "source": [
    "from bs4 import BeautifulSoup\n",
    "import requests\n",
    "from selenium import webdriver\n",
    "from selenium.webdriver.common.keys import Keys\n",
    "\n",
    "url=\"http://www.phdstipends.com/results\"\n",
    "\n",
    "#get table to open\n",
    "driver=webdriver.Firefox()\n",
    "driver.get(url)"
   ]
  },
  {
   "cell_type": "code",
   "execution_count": 4,
   "metadata": {
    "collapsed": true
   },
   "outputs": [],
   "source": [
    "col=[]\n",
    "page=0\n",
    "def page_parser():\n",
    "    stipend_soup=BeautifulSoup(driver.page_source, 'lxml')\n",
    "    level1=stipend_soup.find('table',{'id':'mytable'})\n",
    "    level2=level1.find('tbody')\n",
    "    global page\n",
    "    i = 0\n",
    "    for stats in level2.findAll('td'):\n",
    "        col.append(stats.get_text())\n",
    "        i+=1\n",
    "        #run for 350 items in table in 128 pages\n",
    "        if i==350 and page<=128:\n",
    "            page+=1\n",
    "            try:\n",
    "                #click to the next page and then run the function again\n",
    "                driver.find_element_by_xpath('//*[@id=\"mytable_next\"]/a').click()\n",
    "                page_parser()\n",
    "            except:\n",
    "                pass\n",
    "        else:\n",
    "            pass\n",
    "    \n",
    "page_parser()"
   ]
  },
  {
   "cell_type": "code",
   "execution_count": 19,
   "metadata": {
    "collapsed": true
   },
   "outputs": [],
   "source": [
    "import pandas as pd\n",
    "import numpy as np\n",
    "\n",
    "stipend_stats=pd.DataFrame(np.reshape(col,(-1,7)))\n",
    "stipend_stats.columns=[\"University\",\n",
    "                       \"Subject\",\n",
    "                       \"Stipend\",\n",
    "                       \"LW Ratio\",\n",
    "                       \"Academic Year\",\n",
    "                       \"Program Year\",\n",
    "                       \"Comments\"]\n",
    "stipend_stats.to_csv(\"stipend_stats.txt\",sep='\\t')\n",
    "stipend_stats = pd.read_csv('Stipend_Stats.txt', sep='\\t')\n",
    "\n",
    "stipend_stats = stipend_stats.iloc[:,:-1].dropna().reset_index(drop=True)"
   ]
  },
  {
   "cell_type": "code",
   "execution_count": 20,
   "metadata": {},
   "outputs": [
    {
     "data": {
      "text/html": [
       "<div>\n",
       "<style scoped>\n",
       "    .dataframe tbody tr th:only-of-type {\n",
       "        vertical-align: middle;\n",
       "    }\n",
       "\n",
       "    .dataframe tbody tr th {\n",
       "        vertical-align: top;\n",
       "    }\n",
       "\n",
       "    .dataframe thead th {\n",
       "        text-align: right;\n",
       "    }\n",
       "</style>\n",
       "<table border=\"1\" class=\"dataframe\">\n",
       "  <thead>\n",
       "    <tr style=\"text-align: right;\">\n",
       "      <th></th>\n",
       "      <th>Unnamed: 0</th>\n",
       "      <th>University</th>\n",
       "      <th>Subject</th>\n",
       "      <th>Stipend</th>\n",
       "      <th>LW Ratio</th>\n",
       "      <th>Academic Year</th>\n",
       "      <th>Program Year</th>\n",
       "    </tr>\n",
       "  </thead>\n",
       "  <tbody>\n",
       "    <tr>\n",
       "      <th>0</th>\n",
       "      <td>0</td>\n",
       "      <td>Duke University</td>\n",
       "      <td>Bioengineering</td>\n",
       "      <td>$29,700</td>\n",
       "      <td>1.34</td>\n",
       "      <td>2018-2019</td>\n",
       "      <td>3rd</td>\n",
       "    </tr>\n",
       "    <tr>\n",
       "      <th>1</th>\n",
       "      <td>2</td>\n",
       "      <td>University of Colorado - Denver</td>\n",
       "      <td>Molecular Biology PhD</td>\n",
       "      <td>$31,000</td>\n",
       "      <td>1.38</td>\n",
       "      <td>2019-2020</td>\n",
       "      <td>2nd</td>\n",
       "    </tr>\n",
       "    <tr>\n",
       "      <th>2</th>\n",
       "      <td>3</td>\n",
       "      <td>Michigan State University</td>\n",
       "      <td>Physics/Nuclear</td>\n",
       "      <td>$33,000</td>\n",
       "      <td>1.61</td>\n",
       "      <td>2019-2020</td>\n",
       "      <td>1st</td>\n",
       "    </tr>\n",
       "    <tr>\n",
       "      <th>3</th>\n",
       "      <td>4</td>\n",
       "      <td>University of Denver</td>\n",
       "      <td>Mathematics</td>\n",
       "      <td>$20,700</td>\n",
       "      <td>0.92</td>\n",
       "      <td>2019-2020</td>\n",
       "      <td>1st</td>\n",
       "    </tr>\n",
       "    <tr>\n",
       "      <th>4</th>\n",
       "      <td>5</td>\n",
       "      <td>University of California - Los Angeles</td>\n",
       "      <td>biology</td>\n",
       "      <td>$42,000</td>\n",
       "      <td>1.62</td>\n",
       "      <td>2018-2019</td>\n",
       "      <td>1st</td>\n",
       "    </tr>\n",
       "    <tr>\n",
       "      <th>5</th>\n",
       "      <td>6</td>\n",
       "      <td>Oregon Health and Science University</td>\n",
       "      <td>Neuroscience</td>\n",
       "      <td>$30,000</td>\n",
       "      <td>1.28</td>\n",
       "      <td>2018-2019</td>\n",
       "      <td>1st</td>\n",
       "    </tr>\n",
       "    <tr>\n",
       "      <th>6</th>\n",
       "      <td>7</td>\n",
       "      <td>Wake Forest University</td>\n",
       "      <td>Biomedical Informatics</td>\n",
       "      <td>$45,000</td>\n",
       "      <td>2.06</td>\n",
       "      <td>2019-2020</td>\n",
       "      <td>1st</td>\n",
       "    </tr>\n",
       "    <tr>\n",
       "      <th>7</th>\n",
       "      <td>8</td>\n",
       "      <td>University of Arizona</td>\n",
       "      <td>Entomology</td>\n",
       "      <td>$22,022</td>\n",
       "      <td>1.06</td>\n",
       "      <td>2018-2019</td>\n",
       "      <td>1st</td>\n",
       "    </tr>\n",
       "    <tr>\n",
       "      <th>8</th>\n",
       "      <td>9</td>\n",
       "      <td>University of Wisconsin - Madison</td>\n",
       "      <td>Computer Sciences</td>\n",
       "      <td>$20,700</td>\n",
       "      <td>0.91</td>\n",
       "      <td>2019-2020</td>\n",
       "      <td>1st</td>\n",
       "    </tr>\n",
       "    <tr>\n",
       "      <th>9</th>\n",
       "      <td>10</td>\n",
       "      <td>Oregon State University</td>\n",
       "      <td>Microbiology</td>\n",
       "      <td>$1,600</td>\n",
       "      <td>0.08</td>\n",
       "      <td>2018-2019</td>\n",
       "      <td>2nd</td>\n",
       "    </tr>\n",
       "    <tr>\n",
       "      <th>10</th>\n",
       "      <td>11</td>\n",
       "      <td>University of Central Florida</td>\n",
       "      <td>Mechanical Engineering</td>\n",
       "      <td>$24,000</td>\n",
       "      <td>1.04</td>\n",
       "      <td>2019-2020</td>\n",
       "      <td>1st</td>\n",
       "    </tr>\n",
       "    <tr>\n",
       "      <th>11</th>\n",
       "      <td>14</td>\n",
       "      <td>University of Cincinnati</td>\n",
       "      <td>School Psychology</td>\n",
       "      <td>$12,540</td>\n",
       "      <td>0.65</td>\n",
       "      <td>2018-2019</td>\n",
       "      <td>1st</td>\n",
       "    </tr>\n",
       "    <tr>\n",
       "      <th>12</th>\n",
       "      <td>15</td>\n",
       "      <td>Clark Atlanta University</td>\n",
       "      <td>Chemistry</td>\n",
       "      <td>$17,100</td>\n",
       "      <td>0.73</td>\n",
       "      <td>2019-2020</td>\n",
       "      <td>1st</td>\n",
       "    </tr>\n",
       "    <tr>\n",
       "      <th>13</th>\n",
       "      <td>17</td>\n",
       "      <td>Yeshiva University</td>\n",
       "      <td>Biomedical Sciences</td>\n",
       "      <td>$35,000</td>\n",
       "      <td>1.18</td>\n",
       "      <td>2018-2019</td>\n",
       "      <td>1st</td>\n",
       "    </tr>\n",
       "    <tr>\n",
       "      <th>14</th>\n",
       "      <td>18</td>\n",
       "      <td>Miami University</td>\n",
       "      <td>Mechanical Engineering</td>\n",
       "      <td>$15,800</td>\n",
       "      <td>0.82</td>\n",
       "      <td>2019-2020</td>\n",
       "      <td>1st</td>\n",
       "    </tr>\n",
       "    <tr>\n",
       "      <th>15</th>\n",
       "      <td>19</td>\n",
       "      <td>Northeastern University</td>\n",
       "      <td>Electrical and Computer Engineering</td>\n",
       "      <td>$33,007</td>\n",
       "      <td>1.15</td>\n",
       "      <td>2018-2019</td>\n",
       "      <td>2nd</td>\n",
       "    </tr>\n",
       "    <tr>\n",
       "      <th>16</th>\n",
       "      <td>20</td>\n",
       "      <td>Stanford University</td>\n",
       "      <td>Civil and Environmental Enineering</td>\n",
       "      <td>$42,000</td>\n",
       "      <td>1.46</td>\n",
       "      <td>2019-2020</td>\n",
       "      <td>1st</td>\n",
       "    </tr>\n",
       "    <tr>\n",
       "      <th>17</th>\n",
       "      <td>21</td>\n",
       "      <td>University of California - Los Angeles</td>\n",
       "      <td>Electrical Engineering</td>\n",
       "      <td>$28,000</td>\n",
       "      <td>1.08</td>\n",
       "      <td>2019-2020</td>\n",
       "      <td>1st</td>\n",
       "    </tr>\n",
       "    <tr>\n",
       "      <th>18</th>\n",
       "      <td>22</td>\n",
       "      <td>University of California - Berkeley</td>\n",
       "      <td>MCB</td>\n",
       "      <td>$37,000</td>\n",
       "      <td>1.33</td>\n",
       "      <td>2019-2020</td>\n",
       "      <td>1st</td>\n",
       "    </tr>\n",
       "    <tr>\n",
       "      <th>19</th>\n",
       "      <td>23</td>\n",
       "      <td>University of Minnesota - Twin Cities</td>\n",
       "      <td>German Nordic Slavic and Dutch</td>\n",
       "      <td>$23,500</td>\n",
       "      <td>1.03</td>\n",
       "      <td>2018-2019</td>\n",
       "      <td>1st</td>\n",
       "    </tr>\n",
       "    <tr>\n",
       "      <th>20</th>\n",
       "      <td>24</td>\n",
       "      <td>University of North Carolina - Chapel Hill</td>\n",
       "      <td>Biomedical Engineering</td>\n",
       "      <td>$37,500</td>\n",
       "      <td>1.69</td>\n",
       "      <td>2019-2020</td>\n",
       "      <td>1st</td>\n",
       "    </tr>\n",
       "    <tr>\n",
       "      <th>21</th>\n",
       "      <td>25</td>\n",
       "      <td>University of California - Los Angeles</td>\n",
       "      <td>Linguistics</td>\n",
       "      <td>$33,000</td>\n",
       "      <td>1.28</td>\n",
       "      <td>2019-2020</td>\n",
       "      <td>1st</td>\n",
       "    </tr>\n",
       "    <tr>\n",
       "      <th>22</th>\n",
       "      <td>26</td>\n",
       "      <td>Clemson University</td>\n",
       "      <td>Automotive</td>\n",
       "      <td>$20,500</td>\n",
       "      <td>0.98</td>\n",
       "      <td>2018-2019</td>\n",
       "      <td>3rd</td>\n",
       "    </tr>\n",
       "    <tr>\n",
       "      <th>23</th>\n",
       "      <td>27</td>\n",
       "      <td>University of California - Los Angeles</td>\n",
       "      <td>Molecular Biology Interdepartmental Doctoral P...</td>\n",
       "      <td>$33,500</td>\n",
       "      <td>1.29</td>\n",
       "      <td>2019-2020</td>\n",
       "      <td>1st</td>\n",
       "    </tr>\n",
       "    <tr>\n",
       "      <th>24</th>\n",
       "      <td>28</td>\n",
       "      <td>Duke University</td>\n",
       "      <td>Public Policy</td>\n",
       "      <td>$25,000</td>\n",
       "      <td>1.12</td>\n",
       "      <td>2019-2020</td>\n",
       "      <td>1st</td>\n",
       "    </tr>\n",
       "    <tr>\n",
       "      <th>25</th>\n",
       "      <td>30</td>\n",
       "      <td>University of California - San Francisco</td>\n",
       "      <td>Chemistry and Chemical biology</td>\n",
       "      <td>$40,000</td>\n",
       "      <td>1.34</td>\n",
       "      <td>2019-2020</td>\n",
       "      <td>1st</td>\n",
       "    </tr>\n",
       "    <tr>\n",
       "      <th>26</th>\n",
       "      <td>31</td>\n",
       "      <td>University of California - San Francisco</td>\n",
       "      <td>Chemistry and Chemical biology</td>\n",
       "      <td>$40,000</td>\n",
       "      <td>1.34</td>\n",
       "      <td>2019-2020</td>\n",
       "      <td>1st</td>\n",
       "    </tr>\n",
       "    <tr>\n",
       "      <th>27</th>\n",
       "      <td>32</td>\n",
       "      <td>University of Cincinnati</td>\n",
       "      <td>Communication</td>\n",
       "      <td>$12,550</td>\n",
       "      <td>0.65</td>\n",
       "      <td>2018-2019</td>\n",
       "      <td>1st</td>\n",
       "    </tr>\n",
       "    <tr>\n",
       "      <th>28</th>\n",
       "      <td>33</td>\n",
       "      <td>California Institute of Technology</td>\n",
       "      <td>Computing and Mathematical Sciences</td>\n",
       "      <td>$35,000</td>\n",
       "      <td>1.35</td>\n",
       "      <td>2018-2019</td>\n",
       "      <td>4th</td>\n",
       "    </tr>\n",
       "    <tr>\n",
       "      <th>29</th>\n",
       "      <td>34</td>\n",
       "      <td>Duke University</td>\n",
       "      <td>University Program in Genetics and Genomics</td>\n",
       "      <td>$31,800</td>\n",
       "      <td>1.43</td>\n",
       "      <td>2018-2019</td>\n",
       "      <td>3rd</td>\n",
       "    </tr>\n",
       "    <tr>\n",
       "      <th>...</th>\n",
       "      <td>...</td>\n",
       "      <td>...</td>\n",
       "      <td>...</td>\n",
       "      <td>...</td>\n",
       "      <td>...</td>\n",
       "      <td>...</td>\n",
       "      <td>...</td>\n",
       "    </tr>\n",
       "    <tr>\n",
       "      <th>4985</th>\n",
       "      <td>6316</td>\n",
       "      <td>New Mexico State University</td>\n",
       "      <td>Astronomy</td>\n",
       "      <td>$18,058</td>\n",
       "      <td>1.07</td>\n",
       "      <td>2011-2012</td>\n",
       "      <td>2nd</td>\n",
       "    </tr>\n",
       "    <tr>\n",
       "      <th>4986</th>\n",
       "      <td>6317</td>\n",
       "      <td>New Mexico State University</td>\n",
       "      <td>Astronomy</td>\n",
       "      <td>$14,842</td>\n",
       "      <td>0.88</td>\n",
       "      <td>2010-2011</td>\n",
       "      <td>1st</td>\n",
       "    </tr>\n",
       "    <tr>\n",
       "      <th>4987</th>\n",
       "      <td>6318</td>\n",
       "      <td>Georgia Institute of Technology</td>\n",
       "      <td>ECE</td>\n",
       "      <td>$28,083</td>\n",
       "      <td>1.34</td>\n",
       "      <td>2014-2015</td>\n",
       "      <td>2nd</td>\n",
       "    </tr>\n",
       "    <tr>\n",
       "      <th>4988</th>\n",
       "      <td>6320</td>\n",
       "      <td>University of Connecticut</td>\n",
       "      <td>Ecology and Evolution</td>\n",
       "      <td>$21,212</td>\n",
       "      <td>1.01</td>\n",
       "      <td>2013-2014</td>\n",
       "      <td>3rd</td>\n",
       "    </tr>\n",
       "    <tr>\n",
       "      <th>4989</th>\n",
       "      <td>6321</td>\n",
       "      <td>University of Connecticut</td>\n",
       "      <td>Ecology and Evolution</td>\n",
       "      <td>$22,061</td>\n",
       "      <td>1.05</td>\n",
       "      <td>2014-2015</td>\n",
       "      <td>4th</td>\n",
       "    </tr>\n",
       "    <tr>\n",
       "      <th>4990</th>\n",
       "      <td>6322</td>\n",
       "      <td>University of Connecticut</td>\n",
       "      <td>Ecology and Evolutionary Biology</td>\n",
       "      <td>$22,000</td>\n",
       "      <td>1.05</td>\n",
       "      <td>2014-2015</td>\n",
       "      <td>3rd</td>\n",
       "    </tr>\n",
       "    <tr>\n",
       "      <th>4991</th>\n",
       "      <td>6324</td>\n",
       "      <td>Georgia State University</td>\n",
       "      <td>Communication</td>\n",
       "      <td>$15,000</td>\n",
       "      <td>0.71</td>\n",
       "      <td>2011-2012</td>\n",
       "      <td>3rd</td>\n",
       "    </tr>\n",
       "    <tr>\n",
       "      <th>4992</th>\n",
       "      <td>6325</td>\n",
       "      <td>University of Mississippi</td>\n",
       "      <td>Biology</td>\n",
       "      <td>$19,000</td>\n",
       "      <td>1.09</td>\n",
       "      <td>2013-2014</td>\n",
       "      <td>5th</td>\n",
       "    </tr>\n",
       "    <tr>\n",
       "      <th>4993</th>\n",
       "      <td>6326</td>\n",
       "      <td>New Mexico State University</td>\n",
       "      <td>Astronomy</td>\n",
       "      <td>$32,000</td>\n",
       "      <td>1.89</td>\n",
       "      <td>2014-2015</td>\n",
       "      <td>3rd</td>\n",
       "    </tr>\n",
       "    <tr>\n",
       "      <th>4994</th>\n",
       "      <td>6327</td>\n",
       "      <td>University of California - San Diego</td>\n",
       "      <td>Neurosciences</td>\n",
       "      <td>$31,000</td>\n",
       "      <td>1.31</td>\n",
       "      <td>2013-2014</td>\n",
       "      <td>3rd</td>\n",
       "    </tr>\n",
       "    <tr>\n",
       "      <th>4995</th>\n",
       "      <td>6329</td>\n",
       "      <td>University of Washington</td>\n",
       "      <td>Chemistry</td>\n",
       "      <td>$26,000</td>\n",
       "      <td>1.30</td>\n",
       "      <td>2012-2013</td>\n",
       "      <td>1st</td>\n",
       "    </tr>\n",
       "    <tr>\n",
       "      <th>4996</th>\n",
       "      <td>6330</td>\n",
       "      <td>University of Colorado - Boulder</td>\n",
       "      <td>EBIO</td>\n",
       "      <td>$32,000</td>\n",
       "      <td>1.55</td>\n",
       "      <td>2014-2015</td>\n",
       "      <td>2nd</td>\n",
       "    </tr>\n",
       "    <tr>\n",
       "      <th>4997</th>\n",
       "      <td>6332</td>\n",
       "      <td>Georgia Institute of Technology</td>\n",
       "      <td>Biomedical Engineering</td>\n",
       "      <td>$32,000</td>\n",
       "      <td>1.52</td>\n",
       "      <td>2013-2014</td>\n",
       "      <td>3rd</td>\n",
       "    </tr>\n",
       "    <tr>\n",
       "      <th>4998</th>\n",
       "      <td>6333</td>\n",
       "      <td>Georgia Institute of Technology</td>\n",
       "      <td>Mechanical Engineering</td>\n",
       "      <td>$31,200</td>\n",
       "      <td>1.49</td>\n",
       "      <td>2013-2014</td>\n",
       "      <td>6th and up</td>\n",
       "    </tr>\n",
       "    <tr>\n",
       "      <th>4999</th>\n",
       "      <td>6334</td>\n",
       "      <td>Harvard University</td>\n",
       "      <td>Epidemiology</td>\n",
       "      <td>$22,000</td>\n",
       "      <td>0.84</td>\n",
       "      <td>2013-2014</td>\n",
       "      <td>1st</td>\n",
       "    </tr>\n",
       "    <tr>\n",
       "      <th>5000</th>\n",
       "      <td>6335</td>\n",
       "      <td>Georgia Institute of Technology</td>\n",
       "      <td>Biomedical Engineering</td>\n",
       "      <td>$28,000</td>\n",
       "      <td>1.33</td>\n",
       "      <td>2013-2014</td>\n",
       "      <td>4th</td>\n",
       "    </tr>\n",
       "    <tr>\n",
       "      <th>5001</th>\n",
       "      <td>6336</td>\n",
       "      <td>Georgia Institute of Technology</td>\n",
       "      <td>Aerospace Engineering</td>\n",
       "      <td>$26,000</td>\n",
       "      <td>1.24</td>\n",
       "      <td>2013-2014</td>\n",
       "      <td>6th and up</td>\n",
       "    </tr>\n",
       "    <tr>\n",
       "      <th>5002</th>\n",
       "      <td>6337</td>\n",
       "      <td>University of Illinois - Urbana- Champaign</td>\n",
       "      <td>Computer Science</td>\n",
       "      <td>$32,000</td>\n",
       "      <td>1.85</td>\n",
       "      <td>2013-2014</td>\n",
       "      <td>5th</td>\n",
       "    </tr>\n",
       "    <tr>\n",
       "      <th>5003</th>\n",
       "      <td>6338</td>\n",
       "      <td>Georgia Institute of Technology</td>\n",
       "      <td>Aerospace Engineering</td>\n",
       "      <td>$33,000</td>\n",
       "      <td>1.57</td>\n",
       "      <td>2013-2014</td>\n",
       "      <td>4th</td>\n",
       "    </tr>\n",
       "    <tr>\n",
       "      <th>5004</th>\n",
       "      <td>6339</td>\n",
       "      <td>University of California - San Francisco</td>\n",
       "      <td>Neuroscience</td>\n",
       "      <td>$32,000</td>\n",
       "      <td>1.20</td>\n",
       "      <td>2013-2014</td>\n",
       "      <td>3rd</td>\n",
       "    </tr>\n",
       "    <tr>\n",
       "      <th>5005</th>\n",
       "      <td>6340</td>\n",
       "      <td>Stanford University</td>\n",
       "      <td>Graduate School of Education</td>\n",
       "      <td>$24,000</td>\n",
       "      <td>0.96</td>\n",
       "      <td>2013-2014</td>\n",
       "      <td>4th</td>\n",
       "    </tr>\n",
       "    <tr>\n",
       "      <th>5006</th>\n",
       "      <td>6341</td>\n",
       "      <td>Georgia Institute of Technology</td>\n",
       "      <td>Aerospace Engineering</td>\n",
       "      <td>$33,360</td>\n",
       "      <td>1.59</td>\n",
       "      <td>2012-2013</td>\n",
       "      <td>6th and up</td>\n",
       "    </tr>\n",
       "    <tr>\n",
       "      <th>5007</th>\n",
       "      <td>6342</td>\n",
       "      <td>Georgia Institute of Technology</td>\n",
       "      <td>aerospace engineering</td>\n",
       "      <td>$27,000</td>\n",
       "      <td>1.29</td>\n",
       "      <td>2012-2013</td>\n",
       "      <td>6th and up</td>\n",
       "    </tr>\n",
       "    <tr>\n",
       "      <th>5008</th>\n",
       "      <td>6344</td>\n",
       "      <td>Massachusetts Institute of Technology</td>\n",
       "      <td>Math</td>\n",
       "      <td>$33,000</td>\n",
       "      <td>1.29</td>\n",
       "      <td>2013-2014</td>\n",
       "      <td>6th and up</td>\n",
       "    </tr>\n",
       "    <tr>\n",
       "      <th>5009</th>\n",
       "      <td>6345</td>\n",
       "      <td>Massachusetts Institute of Technology</td>\n",
       "      <td>Biology</td>\n",
       "      <td>$34,000</td>\n",
       "      <td>1.33</td>\n",
       "      <td>2014-2015</td>\n",
       "      <td>6th and up</td>\n",
       "    </tr>\n",
       "    <tr>\n",
       "      <th>5010</th>\n",
       "      <td>6347</td>\n",
       "      <td>Duke University</td>\n",
       "      <td>Biochemistry</td>\n",
       "      <td>$29,840</td>\n",
       "      <td>1.59</td>\n",
       "      <td>2012-2013</td>\n",
       "      <td>6th and up</td>\n",
       "    </tr>\n",
       "    <tr>\n",
       "      <th>5011</th>\n",
       "      <td>6348</td>\n",
       "      <td>University of Virginia</td>\n",
       "      <td>Chemical Engineering</td>\n",
       "      <td>$32,000</td>\n",
       "      <td>1.63</td>\n",
       "      <td>2013-2014</td>\n",
       "      <td>4th</td>\n",
       "    </tr>\n",
       "    <tr>\n",
       "      <th>5012</th>\n",
       "      <td>6349</td>\n",
       "      <td>Duke University</td>\n",
       "      <td>Biomedical Engineering</td>\n",
       "      <td>$32,000</td>\n",
       "      <td>1.70</td>\n",
       "      <td>2013-2014</td>\n",
       "      <td>2nd</td>\n",
       "    </tr>\n",
       "    <tr>\n",
       "      <th>5013</th>\n",
       "      <td>6350</td>\n",
       "      <td>University of Virginia</td>\n",
       "      <td>Chemical Engineering</td>\n",
       "      <td>$25,000</td>\n",
       "      <td>1.28</td>\n",
       "      <td>2013-2014</td>\n",
       "      <td>4th</td>\n",
       "    </tr>\n",
       "    <tr>\n",
       "      <th>5014</th>\n",
       "      <td>6351</td>\n",
       "      <td>Duke University</td>\n",
       "      <td>Biomedical Engineering</td>\n",
       "      <td>$27,850</td>\n",
       "      <td>1.48</td>\n",
       "      <td>2013-2014</td>\n",
       "      <td>6th and up</td>\n",
       "    </tr>\n",
       "  </tbody>\n",
       "</table>\n",
       "<p>5015 rows × 7 columns</p>\n",
       "</div>"
      ],
      "text/plain": [
       "      Unnamed: 0                                   University  \\\n",
       "0              0                             Duke University    \n",
       "1              2             University of Colorado - Denver    \n",
       "2              3                   Michigan State University    \n",
       "3              4                        University of Denver    \n",
       "4              5      University of California - Los Angeles    \n",
       "5              6         Oregon Health and Science University   \n",
       "6              7                      Wake Forest University    \n",
       "7              8                       University of Arizona    \n",
       "8              9           University of Wisconsin - Madison    \n",
       "9             10                     Oregon State University    \n",
       "10            11               University of Central Florida    \n",
       "11            14                    University of Cincinnati    \n",
       "12            15                     Clark Atlanta University   \n",
       "13            17                          Yeshiva University    \n",
       "14            18                            Miami University    \n",
       "15            19                     Northeastern University    \n",
       "16            20                         Stanford University    \n",
       "17            21      University of California - Los Angeles    \n",
       "18            22          University of California - Berkeley   \n",
       "19            23       University of Minnesota - Twin Cities    \n",
       "20            24  University of North Carolina - Chapel Hill    \n",
       "21            25      University of California - Los Angeles    \n",
       "22            26                          Clemson University    \n",
       "23            27      University of California - Los Angeles    \n",
       "24            28                             Duke University    \n",
       "25            30    University of California - San Francisco    \n",
       "26            31    University of California - San Francisco    \n",
       "27            32                    University of Cincinnati    \n",
       "28            33          California Institute of Technology    \n",
       "29            34                             Duke University    \n",
       "...          ...                                          ...   \n",
       "4985        6316                 New Mexico State University    \n",
       "4986        6317                 New Mexico State University    \n",
       "4987        6318             Georgia Institute of Technology    \n",
       "4988        6320                   University of Connecticut    \n",
       "4989        6321                   University of Connecticut    \n",
       "4990        6322                   University of Connecticut    \n",
       "4991        6324                    Georgia State University    \n",
       "4992        6325                   University of Mississippi    \n",
       "4993        6326                 New Mexico State University    \n",
       "4994        6327        University of California - San Diego    \n",
       "4995        6329                    University of Washington    \n",
       "4996        6330            University of Colorado - Boulder    \n",
       "4997        6332             Georgia Institute of Technology    \n",
       "4998        6333             Georgia Institute of Technology    \n",
       "4999        6334                          Harvard University    \n",
       "5000        6335             Georgia Institute of Technology    \n",
       "5001        6336             Georgia Institute of Technology    \n",
       "5002        6337  University of Illinois - Urbana- Champaign    \n",
       "5003        6338             Georgia Institute of Technology    \n",
       "5004        6339    University of California - San Francisco    \n",
       "5005        6340                         Stanford University    \n",
       "5006        6341             Georgia Institute of Technology    \n",
       "5007        6342             Georgia Institute of Technology    \n",
       "5008        6344       Massachusetts Institute of Technology    \n",
       "5009        6345       Massachusetts Institute of Technology    \n",
       "5010        6347                             Duke University    \n",
       "5011        6348                      University of Virginia    \n",
       "5012        6349                             Duke University    \n",
       "5013        6350                      University of Virginia    \n",
       "5014        6351                             Duke University    \n",
       "\n",
       "                                                Subject  Stipend  LW Ratio  \\\n",
       "0                                        Bioengineering  $29,700      1.34   \n",
       "1                                 Molecular Biology PhD  $31,000      1.38   \n",
       "2                                       Physics/Nuclear  $33,000      1.61   \n",
       "3                                           Mathematics  $20,700      0.92   \n",
       "4                                               biology  $42,000      1.62   \n",
       "5                                          Neuroscience  $30,000      1.28   \n",
       "6                                Biomedical Informatics  $45,000      2.06   \n",
       "7                                            Entomology  $22,022      1.06   \n",
       "8                                     Computer Sciences  $20,700      0.91   \n",
       "9                                          Microbiology   $1,600      0.08   \n",
       "10                               Mechanical Engineering  $24,000      1.04   \n",
       "11                                    School Psychology  $12,540      0.65   \n",
       "12                                           Chemistry   $17,100      0.73   \n",
       "13                                  Biomedical Sciences  $35,000      1.18   \n",
       "14                               Mechanical Engineering  $15,800      0.82   \n",
       "15                  Electrical and Computer Engineering  $33,007      1.15   \n",
       "16                   Civil and Environmental Enineering  $42,000      1.46   \n",
       "17                               Electrical Engineering  $28,000      1.08   \n",
       "18                                                  MCB  $37,000      1.33   \n",
       "19                       German Nordic Slavic and Dutch  $23,500      1.03   \n",
       "20                               Biomedical Engineering  $37,500      1.69   \n",
       "21                                          Linguistics  $33,000      1.28   \n",
       "22                                           Automotive  $20,500      0.98   \n",
       "23    Molecular Biology Interdepartmental Doctoral P...  $33,500      1.29   \n",
       "24                                        Public Policy  $25,000      1.12   \n",
       "25                      Chemistry and Chemical biology   $40,000      1.34   \n",
       "26                      Chemistry and Chemical biology   $40,000      1.34   \n",
       "27                                        Communication  $12,550      0.65   \n",
       "28                  Computing and Mathematical Sciences  $35,000      1.35   \n",
       "29          University Program in Genetics and Genomics  $31,800      1.43   \n",
       "...                                                 ...      ...       ...   \n",
       "4985                                          Astronomy  $18,058      1.07   \n",
       "4986                                          Astronomy  $14,842      0.88   \n",
       "4987                                                ECE  $28,083      1.34   \n",
       "4988                              Ecology and Evolution  $21,212      1.01   \n",
       "4989                              Ecology and Evolution  $22,061      1.05   \n",
       "4990                   Ecology and Evolutionary Biology  $22,000      1.05   \n",
       "4991                                     Communication   $15,000      0.71   \n",
       "4992                                            Biology  $19,000      1.09   \n",
       "4993                                          Astronomy  $32,000      1.89   \n",
       "4994                                      Neurosciences  $31,000      1.31   \n",
       "4995                                          Chemistry  $26,000      1.30   \n",
       "4996                                               EBIO  $32,000      1.55   \n",
       "4997                             Biomedical Engineering  $32,000      1.52   \n",
       "4998                             Mechanical Engineering  $31,200      1.49   \n",
       "4999                                       Epidemiology  $22,000      0.84   \n",
       "5000                             Biomedical Engineering  $28,000      1.33   \n",
       "5001                              Aerospace Engineering  $26,000      1.24   \n",
       "5002                                   Computer Science  $32,000      1.85   \n",
       "5003                              Aerospace Engineering  $33,000      1.57   \n",
       "5004                                       Neuroscience  $32,000      1.20   \n",
       "5005                       Graduate School of Education  $24,000      0.96   \n",
       "5006                              Aerospace Engineering  $33,360      1.59   \n",
       "5007                              aerospace engineering  $27,000      1.29   \n",
       "5008                                               Math  $33,000      1.29   \n",
       "5009                                            Biology  $34,000      1.33   \n",
       "5010                                       Biochemistry  $29,840      1.59   \n",
       "5011                               Chemical Engineering  $32,000      1.63   \n",
       "5012                             Biomedical Engineering  $32,000      1.70   \n",
       "5013                               Chemical Engineering  $25,000      1.28   \n",
       "5014                             Biomedical Engineering  $27,850      1.48   \n",
       "\n",
       "     Academic Year Program Year  \n",
       "0        2018-2019          3rd  \n",
       "1        2019-2020          2nd  \n",
       "2        2019-2020          1st  \n",
       "3        2019-2020          1st  \n",
       "4        2018-2019          1st  \n",
       "5        2018-2019          1st  \n",
       "6        2019-2020          1st  \n",
       "7        2018-2019          1st  \n",
       "8        2019-2020          1st  \n",
       "9        2018-2019          2nd  \n",
       "10       2019-2020          1st  \n",
       "11       2018-2019          1st  \n",
       "12       2019-2020          1st  \n",
       "13       2018-2019          1st  \n",
       "14       2019-2020          1st  \n",
       "15       2018-2019          2nd  \n",
       "16       2019-2020          1st  \n",
       "17       2019-2020          1st  \n",
       "18       2019-2020          1st  \n",
       "19       2018-2019          1st  \n",
       "20       2019-2020          1st  \n",
       "21       2019-2020          1st  \n",
       "22       2018-2019          3rd  \n",
       "23       2019-2020          1st  \n",
       "24       2019-2020          1st  \n",
       "25       2019-2020          1st  \n",
       "26       2019-2020          1st  \n",
       "27       2018-2019          1st  \n",
       "28       2018-2019          4th  \n",
       "29       2018-2019          3rd  \n",
       "...            ...          ...  \n",
       "4985     2011-2012          2nd  \n",
       "4986     2010-2011          1st  \n",
       "4987     2014-2015          2nd  \n",
       "4988     2013-2014          3rd  \n",
       "4989     2014-2015          4th  \n",
       "4990     2014-2015          3rd  \n",
       "4991     2011-2012          3rd  \n",
       "4992     2013-2014          5th  \n",
       "4993     2014-2015          3rd  \n",
       "4994     2013-2014          3rd  \n",
       "4995     2012-2013          1st  \n",
       "4996     2014-2015          2nd  \n",
       "4997     2013-2014          3rd  \n",
       "4998     2013-2014   6th and up  \n",
       "4999     2013-2014          1st  \n",
       "5000     2013-2014          4th  \n",
       "5001     2013-2014   6th and up  \n",
       "5002     2013-2014          5th  \n",
       "5003     2013-2014          4th  \n",
       "5004     2013-2014          3rd  \n",
       "5005     2013-2014          4th  \n",
       "5006     2012-2013   6th and up  \n",
       "5007     2012-2013   6th and up  \n",
       "5008     2013-2014   6th and up  \n",
       "5009     2014-2015   6th and up  \n",
       "5010     2012-2013   6th and up  \n",
       "5011     2013-2014          4th  \n",
       "5012     2013-2014          2nd  \n",
       "5013     2013-2014          4th  \n",
       "5014     2013-2014   6th and up  \n",
       "\n",
       "[5015 rows x 7 columns]"
      ]
     },
     "execution_count": 20,
     "metadata": {},
     "output_type": "execute_result"
    }
   ],
   "source": [
    "import re \n",
    "  \n",
    "#remove anything in parenthesis\n",
    "def Clean_names(name): \n",
    "    if re.search(r'\\([^)]*\\)', str(name)): \n",
    "        pos = re.search(r'\\([^)]*\\)', str(name)).start() \n",
    "        return name[:pos] \n",
    "  \n",
    "    else: \n",
    "        return name \n",
    "\n",
    "stipend_stats['University'] = stipend_stats['University'].apply(Clean_names) \n",
    "stipend_stats"
   ]
  },
  {
   "cell_type": "code",
   "execution_count": 21,
   "metadata": {},
   "outputs": [
    {
     "name": "stderr",
     "output_type": "stream",
     "text": [
      "  0%|                                                                                         | 0/5015 [00:00<?, ?it/s]c:\\users\\mattd\\appdata\\local\\programs\\python\\python37-32\\lib\\site-packages\\ipykernel_launcher.py:19: SettingWithCopyWarning: \n",
      "A value is trying to be set on a copy of a slice from a DataFrame\n",
      "\n",
      "See the caveats in the documentation: http://pandas.pydata.org/pandas-docs/stable/indexing.html#indexing-view-versus-copy\n",
      "  1%|▍                                                                             | 30/5015 [00:30<1:24:56,  1.02s/it]"
     ]
    },
    {
     "name": "stdout",
     "output_type": "stream",
     "text": [
      "ERROR\n"
     ]
    },
    {
     "name": "stderr",
     "output_type": "stream",
     "text": [
      "  1%|▌                                                                             | 34/5015 [00:34<1:24:41,  1.02s/it]"
     ]
    },
    {
     "name": "stdout",
     "output_type": "stream",
     "text": [
      "ERROR\n"
     ]
    },
    {
     "name": "stderr",
     "output_type": "stream",
     "text": [
      "  1%|▌                                                                             | 37/5015 [00:37<1:24:36,  1.02s/it]"
     ]
    },
    {
     "name": "stdout",
     "output_type": "stream",
     "text": [
      "ERROR\n"
     ]
    },
    {
     "name": "stderr",
     "output_type": "stream",
     "text": [
      "\r",
      "  1%|▌                                                                             | 38/5015 [00:38<1:25:05,  1.03s/it]"
     ]
    },
    {
     "name": "stdout",
     "output_type": "stream",
     "text": [
      "ERROR\n"
     ]
    },
    {
     "name": "stderr",
     "output_type": "stream",
     "text": [
      "  3%|██▎                                                                          | 154/5015 [02:37<1:28:32,  1.09s/it]"
     ]
    },
    {
     "name": "stdout",
     "output_type": "stream",
     "text": [
      "ERROR\n"
     ]
    },
    {
     "name": "stderr",
     "output_type": "stream",
     "text": [
      "  4%|██▋                                                                          | 179/5015 [03:02<1:22:07,  1.02s/it]"
     ]
    },
    {
     "name": "stdout",
     "output_type": "stream",
     "text": [
      "ERROR\n"
     ]
    },
    {
     "name": "stderr",
     "output_type": "stream",
     "text": [
      "  4%|███                                                                          | 196/5015 [03:20<1:22:09,  1.02s/it]"
     ]
    },
    {
     "name": "stdout",
     "output_type": "stream",
     "text": [
      "ERROR\n"
     ]
    },
    {
     "name": "stderr",
     "output_type": "stream",
     "text": [
      "  5%|███▍                                                                         | 226/5015 [03:51<1:20:57,  1.01s/it]"
     ]
    },
    {
     "name": "stdout",
     "output_type": "stream",
     "text": [
      "ERROR\n"
     ]
    },
    {
     "name": "stderr",
     "output_type": "stream",
     "text": [
      "  6%|████▌                                                                        | 301/5015 [05:08<1:19:48,  1.02s/it]"
     ]
    },
    {
     "name": "stdout",
     "output_type": "stream",
     "text": [
      "ERROR\n"
     ]
    },
    {
     "name": "stderr",
     "output_type": "stream",
     "text": [
      "  8%|██████▍                                                                      | 422/5015 [07:12<1:18:28,  1.03s/it]"
     ]
    },
    {
     "name": "stdout",
     "output_type": "stream",
     "text": [
      "ERROR\n"
     ]
    },
    {
     "name": "stderr",
     "output_type": "stream",
     "text": [
      "  9%|██████▌                                                                      | 429/5015 [07:19<1:17:59,  1.02s/it]"
     ]
    },
    {
     "name": "stdout",
     "output_type": "stream",
     "text": [
      "ERROR\n"
     ]
    },
    {
     "name": "stderr",
     "output_type": "stream",
     "text": [
      " 10%|███████▋                                                                     | 501/5015 [08:34<1:17:10,  1.03s/it]"
     ]
    },
    {
     "name": "stdout",
     "output_type": "stream",
     "text": [
      "ERROR\n"
     ]
    },
    {
     "name": "stderr",
     "output_type": "stream",
     "text": [
      " 11%|████████▌                                                                    | 561/5015 [09:36<1:15:53,  1.02s/it]"
     ]
    },
    {
     "name": "stdout",
     "output_type": "stream",
     "text": [
      "ERROR\n"
     ]
    },
    {
     "name": "stderr",
     "output_type": "stream",
     "text": [
      "\r",
      " 11%|████████▋                                                                    | 562/5015 [09:37<1:16:44,  1.03s/it]"
     ]
    },
    {
     "name": "stdout",
     "output_type": "stream",
     "text": [
      "ERROR\n"
     ]
    },
    {
     "name": "stderr",
     "output_type": "stream",
     "text": [
      " 12%|████████▉                                                                    | 583/5015 [10:01<1:24:50,  1.15s/it]"
     ]
    },
    {
     "name": "stdout",
     "output_type": "stream",
     "text": [
      "ERROR\n"
     ]
    },
    {
     "name": "stderr",
     "output_type": "stream",
     "text": [
      " 12%|█████████                                                                    | 593/5015 [10:16<1:53:21,  1.54s/it]"
     ]
    },
    {
     "name": "stdout",
     "output_type": "stream",
     "text": [
      "ERROR\n"
     ]
    },
    {
     "name": "stderr",
     "output_type": "stream",
     "text": [
      " 12%|█████████▏                                                                   | 597/5015 [10:21<1:29:42,  1.22s/it]"
     ]
    },
    {
     "name": "stdout",
     "output_type": "stream",
     "text": [
      "ERROR\n"
     ]
    },
    {
     "name": "stderr",
     "output_type": "stream",
     "text": [
      " 13%|██████████▏                                                                  | 660/5015 [11:30<1:21:04,  1.12s/it]"
     ]
    },
    {
     "name": "stdout",
     "output_type": "stream",
     "text": [
      "ERROR\n"
     ]
    },
    {
     "name": "stderr",
     "output_type": "stream",
     "text": [
      " 14%|███████████                                                                  | 717/5015 [12:30<1:13:14,  1.02s/it]"
     ]
    },
    {
     "name": "stdout",
     "output_type": "stream",
     "text": [
      "ERROR\n"
     ]
    },
    {
     "name": "stderr",
     "output_type": "stream",
     "text": [
      " 14%|███████████                                                                  | 719/5015 [12:33<1:13:36,  1.03s/it]"
     ]
    },
    {
     "name": "stdout",
     "output_type": "stream",
     "text": [
      "ERROR\n"
     ]
    },
    {
     "name": "stderr",
     "output_type": "stream",
     "text": [
      " 15%|███████████▉                                                                 | 776/5015 [13:32<1:12:40,  1.03s/it]"
     ]
    },
    {
     "name": "stdout",
     "output_type": "stream",
     "text": [
      "ERROR\n"
     ]
    },
    {
     "name": "stderr",
     "output_type": "stream",
     "text": [
      "\r",
      " 15%|███████████▉                                                                 | 777/5015 [13:33<1:13:15,  1.04s/it]"
     ]
    },
    {
     "name": "stdout",
     "output_type": "stream",
     "text": [
      "ERROR\n"
     ]
    },
    {
     "name": "stderr",
     "output_type": "stream",
     "text": [
      " 16%|████████████                                                                 | 787/5015 [13:43<1:12:19,  1.03s/it]"
     ]
    },
    {
     "name": "stdout",
     "output_type": "stream",
     "text": [
      "ERROR\n"
     ]
    },
    {
     "name": "stderr",
     "output_type": "stream",
     "text": [
      " 17%|████████████▉                                                                | 843/5015 [14:41<1:11:07,  1.02s/it]"
     ]
    },
    {
     "name": "stdout",
     "output_type": "stream",
     "text": [
      "ERROR\n"
     ]
    },
    {
     "name": "stderr",
     "output_type": "stream",
     "text": [
      " 17%|█████████████                                                                | 850/5015 [14:48<1:11:38,  1.03s/it]"
     ]
    },
    {
     "name": "stdout",
     "output_type": "stream",
     "text": [
      "ERROR\n"
     ]
    },
    {
     "name": "stderr",
     "output_type": "stream",
     "text": [
      " 17%|█████████████▎                                                               | 865/5015 [15:04<1:11:35,  1.04s/it]"
     ]
    },
    {
     "name": "stdout",
     "output_type": "stream",
     "text": [
      "ERROR\n"
     ]
    },
    {
     "name": "stderr",
     "output_type": "stream",
     "text": [
      "\r",
      " 17%|█████████████▎                                                               | 866/5015 [15:05<1:12:00,  1.04s/it]"
     ]
    },
    {
     "name": "stdout",
     "output_type": "stream",
     "text": [
      "ERROR\n"
     ]
    },
    {
     "name": "stderr",
     "output_type": "stream",
     "text": [
      " 18%|█████████████▋                                                               | 888/5015 [15:28<1:14:51,  1.09s/it]"
     ]
    },
    {
     "name": "stdout",
     "output_type": "stream",
     "text": [
      "ERROR\n"
     ]
    },
    {
     "name": "stderr",
     "output_type": "stream",
     "text": [
      " 18%|██████████████▏                                                              | 922/5015 [16:03<1:12:29,  1.06s/it]"
     ]
    },
    {
     "name": "stdout",
     "output_type": "stream",
     "text": [
      "ERROR\n"
     ]
    },
    {
     "name": "stderr",
     "output_type": "stream",
     "text": [
      " 20%|███████████████▎                                                             | 998/5015 [17:29<1:12:54,  1.09s/it]"
     ]
    },
    {
     "name": "stdout",
     "output_type": "stream",
     "text": [
      "ERROR\n"
     ]
    },
    {
     "name": "stderr",
     "output_type": "stream",
     "text": [
      " 20%|███████████████▍                                                            | 1016/5015 [17:50<1:21:20,  1.22s/it]"
     ]
    },
    {
     "name": "stdout",
     "output_type": "stream",
     "text": [
      "ERROR\n"
     ]
    },
    {
     "name": "stderr",
     "output_type": "stream",
     "text": [
      " 21%|███████████████▋                                                            | 1034/5015 [18:11<1:17:43,  1.17s/it]"
     ]
    },
    {
     "name": "stdout",
     "output_type": "stream",
     "text": [
      "ERROR\n"
     ]
    },
    {
     "name": "stderr",
     "output_type": "stream",
     "text": [
      " 21%|███████████████▉                                                            | 1049/5015 [18:29<1:18:32,  1.19s/it]"
     ]
    },
    {
     "name": "stdout",
     "output_type": "stream",
     "text": [
      "ERROR\n"
     ]
    },
    {
     "name": "stderr",
     "output_type": "stream",
     "text": [
      " 22%|████████████████▌                                                           | 1089/5015 [19:15<1:14:32,  1.14s/it]"
     ]
    },
    {
     "name": "stdout",
     "output_type": "stream",
     "text": [
      "ERROR\n"
     ]
    },
    {
     "name": "stderr",
     "output_type": "stream",
     "text": [
      " 22%|████████████████▋                                                           | 1103/5015 [19:31<1:16:20,  1.17s/it]"
     ]
    },
    {
     "name": "stdout",
     "output_type": "stream",
     "text": [
      "ERROR\n"
     ]
    },
    {
     "name": "stderr",
     "output_type": "stream",
     "text": [
      "\r",
      " 22%|████████████████▋                                                           | 1104/5015 [19:32<1:19:29,  1.22s/it]"
     ]
    },
    {
     "name": "stdout",
     "output_type": "stream",
     "text": [
      "ERROR\n"
     ]
    },
    {
     "name": "stderr",
     "output_type": "stream",
     "text": [
      "\r",
      " 22%|████████████████▋                                                           | 1105/5015 [19:34<1:18:11,  1.20s/it]"
     ]
    },
    {
     "name": "stdout",
     "output_type": "stream",
     "text": [
      "ERROR\n"
     ]
    },
    {
     "name": "stderr",
     "output_type": "stream",
     "text": [
      " 22%|████████████████▊                                                           | 1108/5015 [19:37<1:20:25,  1.23s/it]"
     ]
    },
    {
     "name": "stdout",
     "output_type": "stream",
     "text": [
      "ERROR\n"
     ]
    },
    {
     "name": "stderr",
     "output_type": "stream",
     "text": [
      " 22%|████████████████▉                                                           | 1121/5015 [19:52<1:14:49,  1.15s/it]"
     ]
    },
    {
     "name": "stdout",
     "output_type": "stream",
     "text": [
      "ERROR\n"
     ]
    },
    {
     "name": "stderr",
     "output_type": "stream",
     "text": [
      " 23%|█████████████████▊                                                          | 1178/5015 [20:56<1:08:01,  1.06s/it]"
     ]
    },
    {
     "name": "stdout",
     "output_type": "stream",
     "text": [
      "ERROR\n"
     ]
    },
    {
     "name": "stderr",
     "output_type": "stream",
     "text": [
      " 24%|█████████████████▉                                                          | 1187/5015 [21:07<1:11:15,  1.12s/it]"
     ]
    },
    {
     "name": "stdout",
     "output_type": "stream",
     "text": [
      "ERROR\n"
     ]
    },
    {
     "name": "stderr",
     "output_type": "stream",
     "text": [
      " 24%|██████████████████▎                                                         | 1206/5015 [21:29<1:15:26,  1.19s/it]"
     ]
    },
    {
     "name": "stdout",
     "output_type": "stream",
     "text": [
      "ERROR\n"
     ]
    },
    {
     "name": "stderr",
     "output_type": "stream",
     "text": [
      " 24%|██████████████████▍                                                         | 1220/5015 [21:44<1:07:57,  1.07s/it]"
     ]
    },
    {
     "name": "stdout",
     "output_type": "stream",
     "text": [
      "ERROR\n"
     ]
    },
    {
     "name": "stderr",
     "output_type": "stream",
     "text": [
      " 25%|███████████████████▎                                                        | 1273/5015 [22:45<1:17:57,  1.25s/it]"
     ]
    },
    {
     "name": "stdout",
     "output_type": "stream",
     "text": [
      "ERROR\n"
     ]
    },
    {
     "name": "stderr",
     "output_type": "stream",
     "text": [
      " 26%|███████████████████▍                                                        | 1281/5015 [22:55<1:13:13,  1.18s/it]"
     ]
    },
    {
     "name": "stdout",
     "output_type": "stream",
     "text": [
      "ERROR\n"
     ]
    },
    {
     "name": "stderr",
     "output_type": "stream",
     "text": [
      "\r",
      " 26%|███████████████████▍                                                        | 1282/5015 [22:56<1:14:34,  1.20s/it]"
     ]
    },
    {
     "name": "stdout",
     "output_type": "stream",
     "text": [
      "ERROR\n"
     ]
    },
    {
     "name": "stderr",
     "output_type": "stream",
     "text": [
      " 26%|███████████████████▋                                                        | 1300/5015 [23:16<1:06:34,  1.08s/it]"
     ]
    },
    {
     "name": "stdout",
     "output_type": "stream",
     "text": [
      "ERROR\n"
     ]
    },
    {
     "name": "stderr",
     "output_type": "stream",
     "text": [
      "\r",
      " 26%|███████████████████▋                                                        | 1301/5015 [23:17<1:06:32,  1.07s/it]"
     ]
    },
    {
     "name": "stdout",
     "output_type": "stream",
     "text": [
      "ERROR\n"
     ]
    },
    {
     "name": "stderr",
     "output_type": "stream",
     "text": [
      " 26%|███████████████████▋                                                        | 1303/5015 [23:19<1:11:51,  1.16s/it]"
     ]
    },
    {
     "name": "stdout",
     "output_type": "stream",
     "text": [
      "ERROR\n"
     ]
    },
    {
     "name": "stderr",
     "output_type": "stream",
     "text": [
      " 27%|████████████████████▎                                                       | 1339/5015 [24:00<1:07:05,  1.09s/it]"
     ]
    },
    {
     "name": "stdout",
     "output_type": "stream",
     "text": [
      "ERROR\n"
     ]
    },
    {
     "name": "stderr",
     "output_type": "stream",
     "text": [
      " 27%|████████████████████▌                                                       | 1360/5015 [24:26<1:09:40,  1.14s/it]"
     ]
    },
    {
     "name": "stdout",
     "output_type": "stream",
     "text": [
      "ERROR\n"
     ]
    },
    {
     "name": "stderr",
     "output_type": "stream",
     "text": [
      " 27%|████████████████████▊                                                       | 1374/5015 [24:42<1:07:22,  1.11s/it]"
     ]
    },
    {
     "name": "stdout",
     "output_type": "stream",
     "text": [
      "ERROR\n"
     ]
    },
    {
     "name": "stderr",
     "output_type": "stream",
     "text": [
      " 28%|████████████████████▉                                                       | 1380/5015 [24:48<1:07:19,  1.11s/it]"
     ]
    },
    {
     "name": "stdout",
     "output_type": "stream",
     "text": [
      "ERROR\n"
     ]
    },
    {
     "name": "stderr",
     "output_type": "stream",
     "text": [
      " 28%|████████████████████▉                                                       | 1384/5015 [24:53<1:10:20,  1.16s/it]"
     ]
    },
    {
     "name": "stdout",
     "output_type": "stream",
     "text": [
      "ERROR\n"
     ]
    },
    {
     "name": "stderr",
     "output_type": "stream",
     "text": [
      " 28%|█████████████████████                                                       | 1391/5015 [25:01<1:11:26,  1.18s/it]"
     ]
    },
    {
     "name": "stdout",
     "output_type": "stream",
     "text": [
      "ERROR\n"
     ]
    },
    {
     "name": "stderr",
     "output_type": "stream",
     "text": [
      " 28%|█████████████████████                                                       | 1393/5015 [25:04<1:12:04,  1.19s/it]"
     ]
    },
    {
     "name": "stdout",
     "output_type": "stream",
     "text": [
      "ERROR\n"
     ]
    },
    {
     "name": "stderr",
     "output_type": "stream",
     "text": [
      " 28%|█████████████████████▎                                                      | 1407/5015 [25:20<1:08:21,  1.14s/it]"
     ]
    },
    {
     "name": "stdout",
     "output_type": "stream",
     "text": [
      "ERROR\n"
     ]
    },
    {
     "name": "stderr",
     "output_type": "stream",
     "text": [
      " 28%|█████████████████████▌                                                      | 1423/5015 [25:38<1:06:42,  1.11s/it]"
     ]
    },
    {
     "name": "stdout",
     "output_type": "stream",
     "text": [
      "ERROR\n"
     ]
    },
    {
     "name": "stderr",
     "output_type": "stream",
     "text": [
      " 29%|█████████████████████▉                                                      | 1451/5015 [26:10<1:05:56,  1.11s/it]"
     ]
    },
    {
     "name": "stdout",
     "output_type": "stream",
     "text": [
      "ERROR\n"
     ]
    },
    {
     "name": "stderr",
     "output_type": "stream",
     "text": [
      " 29%|██████████████████████▏                                                     | 1461/5015 [26:21<1:07:39,  1.14s/it]"
     ]
    },
    {
     "name": "stdout",
     "output_type": "stream",
     "text": [
      "ERROR\n"
     ]
    },
    {
     "name": "stderr",
     "output_type": "stream",
     "text": [
      " 29%|██████████████████████▎                                                     | 1469/5015 [26:30<1:05:25,  1.11s/it]"
     ]
    },
    {
     "name": "stdout",
     "output_type": "stream",
     "text": [
      "ERROR\n"
     ]
    },
    {
     "name": "stderr",
     "output_type": "stream",
     "text": [
      " 30%|██████████████████████▌                                                     | 1486/5015 [26:50<1:06:14,  1.13s/it]"
     ]
    },
    {
     "name": "stdout",
     "output_type": "stream",
     "text": [
      "ERROR\n"
     ]
    },
    {
     "name": "stderr",
     "output_type": "stream",
     "text": [
      " 30%|██████████████████████▉                                                     | 1513/5015 [27:22<1:06:18,  1.14s/it]"
     ]
    },
    {
     "name": "stdout",
     "output_type": "stream",
     "text": [
      "ERROR\n"
     ]
    },
    {
     "name": "stderr",
     "output_type": "stream",
     "text": [
      " 30%|███████████████████████                                                     | 1519/5015 [27:29<1:03:48,  1.10s/it]"
     ]
    },
    {
     "name": "stdout",
     "output_type": "stream",
     "text": [
      "ERROR\n"
     ]
    },
    {
     "name": "stderr",
     "output_type": "stream",
     "text": [
      " 31%|███████████████████████▊                                                    | 1575/5015 [28:36<1:04:25,  1.12s/it]"
     ]
    },
    {
     "name": "stdout",
     "output_type": "stream",
     "text": [
      "ERROR\n"
     ]
    },
    {
     "name": "stderr",
     "output_type": "stream",
     "text": [
      "\r",
      " 31%|███████████████████████▉                                                    | 1576/5015 [28:38<1:15:12,  1.31s/it]"
     ]
    },
    {
     "name": "stdout",
     "output_type": "stream",
     "text": [
      "ERROR\n"
     ]
    },
    {
     "name": "stderr",
     "output_type": "stream",
     "text": [
      "\r",
      " 31%|███████████████████████▉                                                    | 1577/5015 [28:39<1:12:53,  1.27s/it]"
     ]
    },
    {
     "name": "stdout",
     "output_type": "stream",
     "text": [
      "ERROR\n"
     ]
    },
    {
     "name": "stderr",
     "output_type": "stream",
     "text": [
      " 32%|████████████████████████▏                                                   | 1599/5015 [29:06<1:05:22,  1.15s/it]"
     ]
    },
    {
     "name": "stdout",
     "output_type": "stream",
     "text": [
      "ERROR\n"
     ]
    },
    {
     "name": "stderr",
     "output_type": "stream",
     "text": [
      " 32%|████████████████████████▍                                                   | 1609/5015 [29:17<1:04:35,  1.14s/it]"
     ]
    },
    {
     "name": "stdout",
     "output_type": "stream",
     "text": [
      "ERROR\n"
     ]
    },
    {
     "name": "stderr",
     "output_type": "stream",
     "text": [
      " 32%|████████████████████████▍                                                   | 1611/5015 [29:20<1:14:13,  1.31s/it]"
     ]
    },
    {
     "name": "stdout",
     "output_type": "stream",
     "text": [
      "ERROR\n"
     ]
    },
    {
     "name": "stderr",
     "output_type": "stream",
     "text": [
      " 32%|████████████████████████▋                                                   | 1627/5015 [29:39<1:03:40,  1.13s/it]"
     ]
    },
    {
     "name": "stdout",
     "output_type": "stream",
     "text": [
      "ERROR\n"
     ]
    },
    {
     "name": "stderr",
     "output_type": "stream",
     "text": [
      " 33%|████████████████████████▉                                                   | 1648/5015 [30:04<1:05:59,  1.18s/it]"
     ]
    },
    {
     "name": "stdout",
     "output_type": "stream",
     "text": [
      "ERROR\n"
     ]
    },
    {
     "name": "stderr",
     "output_type": "stream",
     "text": [
      " 33%|█████████████████████████▏                                                  | 1662/5015 [30:21<1:06:32,  1.19s/it]"
     ]
    },
    {
     "name": "stdout",
     "output_type": "stream",
     "text": [
      "ERROR\n"
     ]
    },
    {
     "name": "stderr",
     "output_type": "stream",
     "text": [
      " 34%|█████████████████████████▌                                                  | 1686/5015 [30:50<1:05:52,  1.19s/it]"
     ]
    },
    {
     "name": "stdout",
     "output_type": "stream",
     "text": [
      "ERROR\n"
     ]
    },
    {
     "name": "stderr",
     "output_type": "stream",
     "text": [
      " 34%|█████████████████████████▋                                                  | 1694/5015 [30:59<1:02:33,  1.13s/it]"
     ]
    },
    {
     "name": "stdout",
     "output_type": "stream",
     "text": [
      "ERROR\n"
     ]
    },
    {
     "name": "stderr",
     "output_type": "stream",
     "text": [
      " 35%|██████████████████████████▎                                                 | 1735/5015 [31:47<1:05:56,  1.21s/it]"
     ]
    },
    {
     "name": "stdout",
     "output_type": "stream",
     "text": [
      "ERROR\n"
     ]
    },
    {
     "name": "stderr",
     "output_type": "stream",
     "text": [
      " 35%|██████████████████████████▍                                                 | 1745/5015 [31:59<1:01:56,  1.14s/it]"
     ]
    },
    {
     "name": "stdout",
     "output_type": "stream",
     "text": [
      "ERROR\n"
     ]
    },
    {
     "name": "stderr",
     "output_type": "stream",
     "text": [
      " 35%|██████████████████████████▋                                                 | 1762/5015 [32:18<1:06:03,  1.22s/it]"
     ]
    },
    {
     "name": "stdout",
     "output_type": "stream",
     "text": [
      "ERROR\n"
     ]
    },
    {
     "name": "stderr",
     "output_type": "stream",
     "text": [
      " 36%|███████████████████████████                                                 | 1788/5015 [32:49<1:05:52,  1.22s/it]"
     ]
    },
    {
     "name": "stdout",
     "output_type": "stream",
     "text": [
      "ERROR\n"
     ]
    },
    {
     "name": "stderr",
     "output_type": "stream",
     "text": [
      " 36%|███████████████████████████▍                                                | 1810/5015 [33:15<1:02:52,  1.18s/it]"
     ]
    },
    {
     "name": "stdout",
     "output_type": "stream",
     "text": [
      "ERROR\n"
     ]
    },
    {
     "name": "stderr",
     "output_type": "stream",
     "text": [
      " 36%|███████████████████████████▍                                                | 1814/5015 [33:19<1:03:52,  1.20s/it]"
     ]
    },
    {
     "name": "stdout",
     "output_type": "stream",
     "text": [
      "ERROR\n"
     ]
    },
    {
     "name": "stderr",
     "output_type": "stream",
     "text": [
      " 37%|████████████████████████████▋                                                 | 1842/5015 [33:51<58:41,  1.11s/it]"
     ]
    },
    {
     "name": "stdout",
     "output_type": "stream",
     "text": [
      "ERROR\n"
     ]
    },
    {
     "name": "stderr",
     "output_type": "stream",
     "text": [
      " 37%|████████████████████████████▏                                               | 1857/5015 [34:08<1:00:02,  1.14s/it]"
     ]
    },
    {
     "name": "stdout",
     "output_type": "stream",
     "text": [
      "ERROR\n"
     ]
    },
    {
     "name": "stderr",
     "output_type": "stream",
     "text": [
      " 37%|████████████████████████████▏                                               | 1864/5015 [34:16<1:01:00,  1.16s/it]"
     ]
    },
    {
     "name": "stdout",
     "output_type": "stream",
     "text": [
      "ERROR\n"
     ]
    },
    {
     "name": "stderr",
     "output_type": "stream",
     "text": [
      " 37%|████████████████████████████▍                                               | 1880/5015 [34:35<1:00:45,  1.16s/it]"
     ]
    },
    {
     "name": "stdout",
     "output_type": "stream",
     "text": [
      "ERROR\n"
     ]
    },
    {
     "name": "stderr",
     "output_type": "stream",
     "text": [
      " 38%|█████████████████████████████▌                                                | 1900/5015 [34:58<57:01,  1.10s/it]"
     ]
    },
    {
     "name": "stdout",
     "output_type": "stream",
     "text": [
      "ERROR\n"
     ]
    },
    {
     "name": "stderr",
     "output_type": "stream",
     "text": [
      " 38%|█████████████████████████████▋                                                | 1909/5015 [35:08<58:34,  1.13s/it]"
     ]
    },
    {
     "name": "stdout",
     "output_type": "stream",
     "text": [
      "ERROR\n"
     ]
    },
    {
     "name": "stderr",
     "output_type": "stream",
     "text": [
      " 39%|██████████████████████████████▊                                               | 1979/5015 [36:28<57:07,  1.13s/it]"
     ]
    },
    {
     "name": "stdout",
     "output_type": "stream",
     "text": [
      "ERROR\n"
     ]
    },
    {
     "name": "stderr",
     "output_type": "stream",
     "text": [
      " 40%|██████████████████████████████▉                                               | 1993/5015 [36:44<55:32,  1.10s/it]"
     ]
    },
    {
     "name": "stdout",
     "output_type": "stream",
     "text": [
      "ERROR\n"
     ]
    },
    {
     "name": "stderr",
     "output_type": "stream",
     "text": [
      " 40%|███████████████████████████████                                               | 1995/5015 [36:46<56:26,  1.12s/it]"
     ]
    },
    {
     "name": "stdout",
     "output_type": "stream",
     "text": [
      "ERROR\n"
     ]
    },
    {
     "name": "stderr",
     "output_type": "stream",
     "text": [
      "\r",
      " 40%|███████████████████████████████                                               | 1996/5015 [36:47<56:31,  1.12s/it]"
     ]
    },
    {
     "name": "stdout",
     "output_type": "stream",
     "text": [
      "ERROR\n"
     ]
    },
    {
     "name": "stderr",
     "output_type": "stream",
     "text": [
      " 40%|██████████████████████████████▌                                             | 2017/5015 [37:12<1:01:24,  1.23s/it]"
     ]
    },
    {
     "name": "stdout",
     "output_type": "stream",
     "text": [
      "ERROR\n"
     ]
    },
    {
     "name": "stderr",
     "output_type": "stream",
     "text": [
      " 40%|███████████████████████████████▌                                              | 2026/5015 [37:22<57:52,  1.16s/it]"
     ]
    },
    {
     "name": "stdout",
     "output_type": "stream",
     "text": [
      "ERROR\n"
     ]
    },
    {
     "name": "stderr",
     "output_type": "stream",
     "text": [
      " 41%|███████████████████████████████▊                                              | 2044/5015 [37:43<57:27,  1.16s/it]"
     ]
    },
    {
     "name": "stdout",
     "output_type": "stream",
     "text": [
      "ERROR\n"
     ]
    },
    {
     "name": "stderr",
     "output_type": "stream",
     "text": [
      " 41%|████████████████████████████████▏                                             | 2073/5015 [38:17<55:31,  1.13s/it]"
     ]
    },
    {
     "name": "stdout",
     "output_type": "stream",
     "text": [
      "ERROR\n"
     ]
    },
    {
     "name": "stderr",
     "output_type": "stream",
     "text": [
      " 41%|████████████████████████████████▎                                             | 2075/5015 [38:20<57:55,  1.18s/it]"
     ]
    },
    {
     "name": "stdout",
     "output_type": "stream",
     "text": [
      "ERROR\n"
     ]
    },
    {
     "name": "stderr",
     "output_type": "stream",
     "text": [
      " 42%|████████████████████████████████▋                                             | 2102/5015 [38:51<55:01,  1.13s/it]"
     ]
    },
    {
     "name": "stdout",
     "output_type": "stream",
     "text": [
      "ERROR\n"
     ]
    },
    {
     "name": "stderr",
     "output_type": "stream",
     "text": [
      " 42%|████████████████████████████████▊                                             | 2112/5015 [39:03<56:04,  1.16s/it]"
     ]
    },
    {
     "name": "stdout",
     "output_type": "stream",
     "text": [
      "ERROR\n"
     ]
    },
    {
     "name": "stderr",
     "output_type": "stream",
     "text": [
      " 42%|█████████████████████████████████                                             | 2129/5015 [39:22<54:27,  1.13s/it]"
     ]
    },
    {
     "name": "stdout",
     "output_type": "stream",
     "text": [
      "ERROR\n"
     ]
    },
    {
     "name": "stderr",
     "output_type": "stream",
     "text": [
      " 43%|█████████████████████████████████▏                                            | 2137/5015 [39:31<54:26,  1.13s/it]"
     ]
    },
    {
     "name": "stdout",
     "output_type": "stream",
     "text": [
      "ERROR\n"
     ]
    },
    {
     "name": "stderr",
     "output_type": "stream",
     "text": [
      " 44%|██████████████████████████████████▍                                           | 2214/5015 [41:02<59:24,  1.27s/it]"
     ]
    },
    {
     "name": "stdout",
     "output_type": "stream",
     "text": [
      "ERROR\n"
     ]
    },
    {
     "name": "stderr",
     "output_type": "stream",
     "text": [
      " 44%|██████████████████████████████████▌                                           | 2225/5015 [41:15<55:11,  1.19s/it]"
     ]
    },
    {
     "name": "stdout",
     "output_type": "stream",
     "text": [
      "ERROR\n"
     ]
    },
    {
     "name": "stderr",
     "output_type": "stream",
     "text": [
      " 45%|███████████████████████████████████                                           | 2255/5015 [41:49<55:22,  1.20s/it]"
     ]
    },
    {
     "name": "stdout",
     "output_type": "stream",
     "text": [
      "ERROR\n"
     ]
    },
    {
     "name": "stderr",
     "output_type": "stream",
     "text": [
      " 46%|███████████████████████████████████▋                                          | 2292/5015 [42:37<51:24,  1.13s/it]"
     ]
    },
    {
     "name": "stdout",
     "output_type": "stream",
     "text": [
      "ERROR\n"
     ]
    },
    {
     "name": "stderr",
     "output_type": "stream",
     "text": [
      " 46%|████████████████████████████████████▏                                         | 2329/5015 [43:20<51:00,  1.14s/it]"
     ]
    },
    {
     "name": "stdout",
     "output_type": "stream",
     "text": [
      "ERROR\n"
     ]
    },
    {
     "name": "stderr",
     "output_type": "stream",
     "text": [
      " 47%|████████████████████████████████████▍                                         | 2341/5015 [43:34<52:45,  1.18s/it]"
     ]
    },
    {
     "name": "stdout",
     "output_type": "stream",
     "text": [
      "ERROR\n"
     ]
    },
    {
     "name": "stderr",
     "output_type": "stream",
     "text": [
      " 47%|████████████████████████████████████▋                                         | 2357/5015 [43:54<50:31,  1.14s/it]"
     ]
    },
    {
     "name": "stdout",
     "output_type": "stream",
     "text": [
      "ERROR\n"
     ]
    },
    {
     "name": "stderr",
     "output_type": "stream",
     "text": [
      " 47%|████████████████████████████████████▉                                         | 2378/5015 [44:18<50:49,  1.16s/it]"
     ]
    },
    {
     "name": "stdout",
     "output_type": "stream",
     "text": [
      "ERROR\n"
     ]
    },
    {
     "name": "stderr",
     "output_type": "stream",
     "text": [
      " 48%|█████████████████████████████████████▎                                        | 2398/5015 [44:42<51:27,  1.18s/it]"
     ]
    },
    {
     "name": "stdout",
     "output_type": "stream",
     "text": [
      "ERROR\n"
     ]
    },
    {
     "name": "stderr",
     "output_type": "stream",
     "text": [
      " 49%|██████████████████████████████████████▏                                       | 2457/5015 [45:52<58:05,  1.36s/it]"
     ]
    },
    {
     "name": "stdout",
     "output_type": "stream",
     "text": [
      "ERROR\n"
     ]
    },
    {
     "name": "stderr",
     "output_type": "stream",
     "text": [
      " 50%|██████████████████████████████████████▋                                       | 2485/5015 [46:25<49:56,  1.18s/it]"
     ]
    },
    {
     "name": "stdout",
     "output_type": "stream",
     "text": [
      "ERROR\n"
     ]
    },
    {
     "name": "stderr",
     "output_type": "stream",
     "text": [
      "\r",
      " 50%|██████████████████████████████████████▋                                       | 2486/5015 [46:27<50:45,  1.20s/it]"
     ]
    },
    {
     "name": "stdout",
     "output_type": "stream",
     "text": [
      "ERROR\n"
     ]
    },
    {
     "name": "stderr",
     "output_type": "stream",
     "text": [
      " 51%|███████████████████████████████████████▍                                      | 2534/5015 [47:23<47:34,  1.15s/it]"
     ]
    },
    {
     "name": "stdout",
     "output_type": "stream",
     "text": [
      "ERROR\n"
     ]
    },
    {
     "name": "stderr",
     "output_type": "stream",
     "text": [
      " 51%|████████████████████████████████████████                                      | 2579/5015 [48:16<50:26,  1.24s/it]"
     ]
    },
    {
     "name": "stdout",
     "output_type": "stream",
     "text": [
      "ERROR\n"
     ]
    },
    {
     "name": "stderr",
     "output_type": "stream",
     "text": [
      " 52%|████████████████████████████████████████▏                                     | 2585/5015 [48:23<47:30,  1.17s/it]"
     ]
    },
    {
     "name": "stdout",
     "output_type": "stream",
     "text": [
      "ERROR\n"
     ]
    },
    {
     "name": "stderr",
     "output_type": "stream",
     "text": [
      " 52%|████████████████████████████████████████▎                                     | 2594/5015 [48:33<44:42,  1.11s/it]"
     ]
    },
    {
     "name": "stdout",
     "output_type": "stream",
     "text": [
      "ERROR\n"
     ]
    },
    {
     "name": "stderr",
     "output_type": "stream",
     "text": [
      " 52%|████████████████████████████████████████▍                                     | 2600/5015 [48:41<48:23,  1.20s/it]"
     ]
    },
    {
     "name": "stdout",
     "output_type": "stream",
     "text": [
      "ERROR\n"
     ]
    },
    {
     "name": "stderr",
     "output_type": "stream",
     "text": [
      " 52%|████████████████████████████████████████▌                                     | 2607/5015 [48:49<46:14,  1.15s/it]"
     ]
    },
    {
     "name": "stdout",
     "output_type": "stream",
     "text": [
      "ERROR\n"
     ]
    },
    {
     "name": "stderr",
     "output_type": "stream",
     "text": [
      " 52%|████████████████████████████████████████▋                                     | 2620/5015 [49:04<45:09,  1.13s/it]"
     ]
    },
    {
     "name": "stdout",
     "output_type": "stream",
     "text": [
      "ERROR\n"
     ]
    },
    {
     "name": "stderr",
     "output_type": "stream",
     "text": [
      " 53%|█████████████████████████████████████████▎                                    | 2660/5015 [49:50<44:56,  1.14s/it]"
     ]
    },
    {
     "name": "stdout",
     "output_type": "stream",
     "text": [
      "ERROR\n"
     ]
    },
    {
     "name": "stderr",
     "output_type": "stream",
     "text": [
      " 53%|█████████████████████████████████████████▋                                    | 2678/5015 [50:10<43:32,  1.12s/it]"
     ]
    },
    {
     "name": "stdout",
     "output_type": "stream",
     "text": [
      "ERROR\n"
     ]
    },
    {
     "name": "stderr",
     "output_type": "stream",
     "text": [
      " 54%|█████████████████████████████████████████▊                                    | 2688/5015 [50:22<44:14,  1.14s/it]"
     ]
    },
    {
     "name": "stdout",
     "output_type": "stream",
     "text": [
      "ERROR\n"
     ]
    },
    {
     "name": "stderr",
     "output_type": "stream",
     "text": [
      " 55%|██████████████████████████████████████████▊                                   | 2749/5015 [51:32<43:57,  1.16s/it]"
     ]
    },
    {
     "name": "stdout",
     "output_type": "stream",
     "text": [
      "ERROR\n"
     ]
    },
    {
     "name": "stderr",
     "output_type": "stream",
     "text": [
      " 55%|██████████████████████████████████████████▉                                   | 2763/5015 [51:48<42:27,  1.13s/it]"
     ]
    },
    {
     "name": "stdout",
     "output_type": "stream",
     "text": [
      "ERROR\n"
     ]
    },
    {
     "name": "stderr",
     "output_type": "stream",
     "text": [
      " 55%|███████████████████████████████████████████                                   | 2771/5015 [51:57<42:49,  1.15s/it]"
     ]
    },
    {
     "name": "stdout",
     "output_type": "stream",
     "text": [
      "ERROR\n"
     ]
    },
    {
     "name": "stderr",
     "output_type": "stream",
     "text": [
      " 56%|███████████████████████████████████████████▌                                  | 2800/5015 [52:30<42:21,  1.15s/it]"
     ]
    },
    {
     "name": "stdout",
     "output_type": "stream",
     "text": [
      "ERROR\n"
     ]
    },
    {
     "name": "stderr",
     "output_type": "stream",
     "text": [
      " 56%|███████████████████████████████████████████▊                                  | 2820/5015 [52:53<40:42,  1.11s/it]"
     ]
    },
    {
     "name": "stdout",
     "output_type": "stream",
     "text": [
      "ERROR\n"
     ]
    },
    {
     "name": "stderr",
     "output_type": "stream",
     "text": [
      " 57%|████████████████████████████████████████████▏                                 | 2839/5015 [53:15<42:53,  1.18s/it]"
     ]
    },
    {
     "name": "stdout",
     "output_type": "stream",
     "text": [
      "ERROR\n"
     ]
    },
    {
     "name": "stderr",
     "output_type": "stream",
     "text": [
      " 57%|████████████████████████████████████████████▌                                 | 2864/5015 [53:44<41:42,  1.16s/it]"
     ]
    },
    {
     "name": "stdout",
     "output_type": "stream",
     "text": [
      "ERROR\n"
     ]
    },
    {
     "name": "stderr",
     "output_type": "stream",
     "text": [
      " 58%|████████████████████████████████████████████▉                                 | 2888/5015 [54:12<41:11,  1.16s/it]"
     ]
    },
    {
     "name": "stdout",
     "output_type": "stream",
     "text": [
      "ERROR\n"
     ]
    },
    {
     "name": "stderr",
     "output_type": "stream",
     "text": [
      " 58%|████████████████████████████████████████████▉                                 | 2893/5015 [54:17<40:30,  1.15s/it]"
     ]
    },
    {
     "name": "stdout",
     "output_type": "stream",
     "text": [
      "ERROR\n"
     ]
    },
    {
     "name": "stderr",
     "output_type": "stream",
     "text": [
      " 58%|█████████████████████████████████████████████                                 | 2896/5015 [54:21<40:14,  1.14s/it]"
     ]
    },
    {
     "name": "stdout",
     "output_type": "stream",
     "text": [
      "ERROR\n"
     ]
    },
    {
     "name": "stderr",
     "output_type": "stream",
     "text": [
      " 58%|█████████████████████████████████████████████▍                                | 2920/5015 [54:49<45:17,  1.30s/it]"
     ]
    },
    {
     "name": "stdout",
     "output_type": "stream",
     "text": [
      "ERROR\n"
     ]
    },
    {
     "name": "stderr",
     "output_type": "stream",
     "text": [
      " 58%|█████████████████████████████████████████████▌                                | 2926/5015 [54:56<41:31,  1.19s/it]"
     ]
    },
    {
     "name": "stdout",
     "output_type": "stream",
     "text": [
      "ERROR\n"
     ]
    },
    {
     "name": "stderr",
     "output_type": "stream",
     "text": [
      " 58%|█████████████████████████████████████████████▌                                | 2931/5015 [55:02<40:48,  1.17s/it]"
     ]
    },
    {
     "name": "stdout",
     "output_type": "stream",
     "text": [
      "ERROR\n"
     ]
    },
    {
     "name": "stderr",
     "output_type": "stream",
     "text": [
      " 59%|█████████████████████████████████████████████▊                                | 2948/5015 [55:23<42:23,  1.23s/it]"
     ]
    },
    {
     "name": "stdout",
     "output_type": "stream",
     "text": [
      "ERROR\n"
     ]
    },
    {
     "name": "stderr",
     "output_type": "stream",
     "text": [
      " 60%|██████████████████████████████████████████████▍                               | 2987/5015 [56:07<36:37,  1.08s/it]"
     ]
    },
    {
     "name": "stdout",
     "output_type": "stream",
     "text": [
      "ERROR\n"
     ]
    },
    {
     "name": "stderr",
     "output_type": "stream",
     "text": [
      " 60%|██████████████████████████████████████████████▉                               | 3015/5015 [56:38<39:20,  1.18s/it]"
     ]
    },
    {
     "name": "stdout",
     "output_type": "stream",
     "text": [
      "ERROR\n"
     ]
    },
    {
     "name": "stderr",
     "output_type": "stream",
     "text": [
      " 61%|███████████████████████████████████████████████▍                              | 3053/5015 [57:20<35:23,  1.08s/it]"
     ]
    },
    {
     "name": "stdout",
     "output_type": "stream",
     "text": [
      "ERROR\n"
     ]
    },
    {
     "name": "stderr",
     "output_type": "stream",
     "text": [
      " 61%|███████████████████████████████████████████████▌                              | 3062/5015 [57:30<34:16,  1.05s/it]"
     ]
    },
    {
     "name": "stdout",
     "output_type": "stream",
     "text": [
      "ERROR\n"
     ]
    },
    {
     "name": "stderr",
     "output_type": "stream",
     "text": [
      " 61%|███████████████████████████████████████████████▊                              | 3078/5015 [57:47<37:23,  1.16s/it]"
     ]
    },
    {
     "name": "stdout",
     "output_type": "stream",
     "text": [
      "ERROR\n"
     ]
    },
    {
     "name": "stderr",
     "output_type": "stream",
     "text": [
      "\r",
      " 61%|███████████████████████████████████████████████▉                              | 3079/5015 [57:49<37:26,  1.16s/it]"
     ]
    },
    {
     "name": "stdout",
     "output_type": "stream",
     "text": [
      "ERROR\n"
     ]
    },
    {
     "name": "stderr",
     "output_type": "stream",
     "text": [
      " 62%|████████████████████████████████████████████████▎                             | 3106/5015 [58:19<35:53,  1.13s/it]"
     ]
    },
    {
     "name": "stdout",
     "output_type": "stream",
     "text": [
      "ERROR\n"
     ]
    },
    {
     "name": "stderr",
     "output_type": "stream",
     "text": [
      " 62%|████████████████████████████████████████████████▎                             | 3110/5015 [58:23<34:33,  1.09s/it]"
     ]
    },
    {
     "name": "stdout",
     "output_type": "stream",
     "text": [
      "ERROR\n"
     ]
    },
    {
     "name": "stderr",
     "output_type": "stream",
     "text": [
      " 62%|████████████████████████████████████████████████▍                             | 3112/5015 [58:25<34:03,  1.07s/it]"
     ]
    },
    {
     "name": "stdout",
     "output_type": "stream",
     "text": [
      "ERROR\n"
     ]
    },
    {
     "name": "stderr",
     "output_type": "stream",
     "text": [
      " 63%|█████████████████████████████████████████████████▎                            | 3171/5015 [59:28<33:44,  1.10s/it]"
     ]
    },
    {
     "name": "stdout",
     "output_type": "stream",
     "text": [
      "ERROR\n"
     ]
    },
    {
     "name": "stderr",
     "output_type": "stream",
     "text": [
      " 63%|█████████████████████████████████████████████████▍                            | 3181/5015 [59:39<32:09,  1.05s/it]"
     ]
    },
    {
     "name": "stdout",
     "output_type": "stream",
     "text": [
      "ERROR\n"
     ]
    },
    {
     "name": "stderr",
     "output_type": "stream",
     "text": [
      " 64%|█████████████████████████████████████████████████▌                            | 3189/5015 [59:47<32:22,  1.06s/it]"
     ]
    },
    {
     "name": "stdout",
     "output_type": "stream",
     "text": [
      "ERROR\n"
     ]
    },
    {
     "name": "stderr",
     "output_type": "stream",
     "text": [
      " 65%|█████████████████████████████████████████████████                           | 3239/5015 [1:00:40<31:21,  1.06s/it]"
     ]
    },
    {
     "name": "stdout",
     "output_type": "stream",
     "text": [
      "ERROR\n"
     ]
    },
    {
     "name": "stderr",
     "output_type": "stream",
     "text": [
      " 66%|█████████████████████████████████████████████████▊                          | 3289/5015 [1:01:33<30:23,  1.06s/it]"
     ]
    },
    {
     "name": "stdout",
     "output_type": "stream",
     "text": [
      "ERROR\n"
     ]
    },
    {
     "name": "stderr",
     "output_type": "stream",
     "text": [
      " 66%|█████████████████████████████████████████████████▊                          | 3291/5015 [1:01:35<30:21,  1.06s/it]"
     ]
    },
    {
     "name": "stdout",
     "output_type": "stream",
     "text": [
      "ERROR\n"
     ]
    },
    {
     "name": "stderr",
     "output_type": "stream",
     "text": [
      " 66%|██████████████████████████████████████████████████                          | 3303/5015 [1:01:48<30:03,  1.05s/it]"
     ]
    },
    {
     "name": "stdout",
     "output_type": "stream",
     "text": [
      "ERROR\n"
     ]
    },
    {
     "name": "stderr",
     "output_type": "stream",
     "text": [
      " 67%|██████████████████████████████████████████████████▊                         | 3349/5015 [1:02:36<29:05,  1.05s/it]"
     ]
    },
    {
     "name": "stdout",
     "output_type": "stream",
     "text": [
      "ERROR\n"
     ]
    },
    {
     "name": "stderr",
     "output_type": "stream",
     "text": [
      " 67%|██████████████████████████████████████████████████▊                         | 3351/5015 [1:02:39<29:16,  1.06s/it]"
     ]
    },
    {
     "name": "stdout",
     "output_type": "stream",
     "text": [
      "ERROR\n"
     ]
    },
    {
     "name": "stderr",
     "output_type": "stream",
     "text": [
      " 67%|██████████████████████████████████████████████████▊                         | 3354/5015 [1:02:42<29:25,  1.06s/it]"
     ]
    },
    {
     "name": "stdout",
     "output_type": "stream",
     "text": [
      "ERROR\n"
     ]
    },
    {
     "name": "stderr",
     "output_type": "stream",
     "text": [
      " 67%|███████████████████████████████████████████████████                         | 3367/5015 [1:02:56<28:59,  1.06s/it]"
     ]
    },
    {
     "name": "stdout",
     "output_type": "stream",
     "text": [
      "ERROR\n"
     ]
    },
    {
     "name": "stderr",
     "output_type": "stream",
     "text": [
      " 68%|███████████████████████████████████████████████████▋                        | 3413/5015 [1:03:46<31:49,  1.19s/it]"
     ]
    },
    {
     "name": "stdout",
     "output_type": "stream",
     "text": [
      "ERROR\n"
     ]
    },
    {
     "name": "stderr",
     "output_type": "stream",
     "text": [
      " 69%|████████████████████████████████████████████████████▎                       | 3454/5015 [1:04:29<27:28,  1.06s/it]"
     ]
    },
    {
     "name": "stdout",
     "output_type": "stream",
     "text": [
      "ERROR\n"
     ]
    },
    {
     "name": "stderr",
     "output_type": "stream",
     "text": [
      "\r",
      " 69%|████████████████████████████████████████████████████▎                       | 3455/5015 [1:04:30<27:35,  1.06s/it]"
     ]
    },
    {
     "name": "stdout",
     "output_type": "stream",
     "text": [
      "ERROR\n"
     ]
    },
    {
     "name": "stderr",
     "output_type": "stream",
     "text": [
      " 69%|████████████████████████████████████████████████████▍                       | 3460/5015 [1:04:36<27:35,  1.06s/it]"
     ]
    },
    {
     "name": "stdout",
     "output_type": "stream",
     "text": [
      "ERROR\n"
     ]
    },
    {
     "name": "stderr",
     "output_type": "stream",
     "text": [
      " 69%|████████████████████████████████████████████████████▋                       | 3473/5015 [1:04:50<27:31,  1.07s/it]"
     ]
    },
    {
     "name": "stdout",
     "output_type": "stream",
     "text": [
      "ERROR\n"
     ]
    },
    {
     "name": "stderr",
     "output_type": "stream",
     "text": [
      " 70%|█████████████████████████████████████████████████████                       | 3499/5015 [1:05:18<27:37,  1.09s/it]"
     ]
    },
    {
     "name": "stdout",
     "output_type": "stream",
     "text": [
      "ERROR\n"
     ]
    },
    {
     "name": "stderr",
     "output_type": "stream",
     "text": [
      " 70%|█████████████████████████████████████████████████████                       | 3504/5015 [1:05:24<28:18,  1.12s/it]"
     ]
    },
    {
     "name": "stdout",
     "output_type": "stream",
     "text": [
      "ERROR\n"
     ]
    },
    {
     "name": "stderr",
     "output_type": "stream",
     "text": [
      " 70%|█████████████████████████████████████████████████████▌                      | 3532/5015 [1:05:54<26:02,  1.05s/it]"
     ]
    },
    {
     "name": "stdout",
     "output_type": "stream",
     "text": [
      "ERROR\n"
     ]
    },
    {
     "name": "stderr",
     "output_type": "stream",
     "text": [
      " 71%|█████████████████████████████████████████████████████▊                      | 3547/5015 [1:06:10<26:03,  1.07s/it]"
     ]
    },
    {
     "name": "stdout",
     "output_type": "stream",
     "text": [
      "ERROR\n"
     ]
    },
    {
     "name": "stderr",
     "output_type": "stream",
     "text": [
      "\r",
      " 71%|█████████████████████████████████████████████████████▊                      | 3548/5015 [1:06:11<26:13,  1.07s/it]"
     ]
    },
    {
     "name": "stdout",
     "output_type": "stream",
     "text": [
      "ERROR\n"
     ]
    },
    {
     "name": "stderr",
     "output_type": "stream",
     "text": [
      "\r",
      " 71%|█████████████████████████████████████████████████████▊                      | 3549/5015 [1:06:13<26:17,  1.08s/it]"
     ]
    },
    {
     "name": "stdout",
     "output_type": "stream",
     "text": [
      "ERROR\n"
     ]
    },
    {
     "name": "stderr",
     "output_type": "stream",
     "text": [
      "\r",
      " 71%|█████████████████████████████████████████████████████▊                      | 3550/5015 [1:06:14<26:24,  1.08s/it]"
     ]
    },
    {
     "name": "stdout",
     "output_type": "stream",
     "text": [
      "ERROR\n"
     ]
    },
    {
     "name": "stderr",
     "output_type": "stream",
     "text": [
      "\r",
      " 71%|█████████████████████████████████████████████████████▊                      | 3551/5015 [1:06:15<26:36,  1.09s/it]"
     ]
    },
    {
     "name": "stdout",
     "output_type": "stream",
     "text": [
      "ERROR\n"
     ]
    },
    {
     "name": "stderr",
     "output_type": "stream",
     "text": [
      "\r",
      " 71%|█████████████████████████████████████████████████████▊                      | 3552/5015 [1:06:16<26:25,  1.08s/it]"
     ]
    },
    {
     "name": "stdout",
     "output_type": "stream",
     "text": [
      "ERROR\n"
     ]
    },
    {
     "name": "stderr",
     "output_type": "stream",
     "text": [
      " 71%|█████████████████████████████████████████████████████▉                      | 3561/5015 [1:06:25<25:58,  1.07s/it]"
     ]
    },
    {
     "name": "stdout",
     "output_type": "stream",
     "text": [
      "ERROR\n"
     ]
    },
    {
     "name": "stderr",
     "output_type": "stream",
     "text": [
      " 71%|██████████████████████████████████████████████████████▎                     | 3581/5015 [1:06:49<26:35,  1.11s/it]"
     ]
    },
    {
     "name": "stdout",
     "output_type": "stream",
     "text": [
      "ERROR\n"
     ]
    },
    {
     "name": "stderr",
     "output_type": "stream",
     "text": [
      " 71%|██████████████████████████████████████████████████████▎                     | 3583/5015 [1:06:53<39:53,  1.67s/it]"
     ]
    },
    {
     "name": "stdout",
     "output_type": "stream",
     "text": [
      "ERROR\n"
     ]
    },
    {
     "name": "stderr",
     "output_type": "stream",
     "text": [
      " 72%|██████████████████████████████████████████████████████▊                     | 3620/5015 [1:07:45<32:49,  1.41s/it]"
     ]
    },
    {
     "name": "stdout",
     "output_type": "stream",
     "text": [
      "ERROR\n"
     ]
    },
    {
     "name": "stderr",
     "output_type": "stream",
     "text": [
      " 72%|███████████████████████████████████████████████████████                     | 3632/5015 [1:07:58<24:37,  1.07s/it]"
     ]
    },
    {
     "name": "stdout",
     "output_type": "stream",
     "text": [
      "ERROR\n"
     ]
    },
    {
     "name": "stderr",
     "output_type": "stream",
     "text": [
      " 73%|███████████████████████████████████████████████████████▎                    | 3646/5015 [1:08:13<24:06,  1.06s/it]"
     ]
    },
    {
     "name": "stdout",
     "output_type": "stream",
     "text": [
      "ERROR\n"
     ]
    },
    {
     "name": "stderr",
     "output_type": "stream",
     "text": [
      " 74%|████████████████████████████████████████████████████████                    | 3700/5015 [1:09:10<23:15,  1.06s/it]"
     ]
    },
    {
     "name": "stdout",
     "output_type": "stream",
     "text": [
      "ERROR\n"
     ]
    },
    {
     "name": "stderr",
     "output_type": "stream",
     "text": [
      " 74%|████████████████████████████████████████████████████████▏                   | 3707/5015 [1:09:18<23:09,  1.06s/it]"
     ]
    },
    {
     "name": "stdout",
     "output_type": "stream",
     "text": [
      "ERROR\n"
     ]
    },
    {
     "name": "stderr",
     "output_type": "stream",
     "text": [
      " 74%|████████████████████████████████████████████████████████▎                   | 3719/5015 [1:09:31<22:53,  1.06s/it]"
     ]
    },
    {
     "name": "stdout",
     "output_type": "stream",
     "text": [
      "ERROR\n"
     ]
    },
    {
     "name": "stderr",
     "output_type": "stream",
     "text": [
      " 74%|████████████████████████████████████████████████████████▍                   | 3721/5015 [1:09:33<23:01,  1.07s/it]"
     ]
    },
    {
     "name": "stdout",
     "output_type": "stream",
     "text": [
      "ERROR\n"
     ]
    },
    {
     "name": "stderr",
     "output_type": "stream",
     "text": [
      " 74%|████████████████████████████████████████████████████████▍                   | 3726/5015 [1:09:38<22:53,  1.07s/it]"
     ]
    },
    {
     "name": "stdout",
     "output_type": "stream",
     "text": [
      "ERROR\n"
     ]
    },
    {
     "name": "stderr",
     "output_type": "stream",
     "text": [
      " 74%|████████████████████████████████████████████████████████▌                   | 3736/5015 [1:09:49<22:35,  1.06s/it]"
     ]
    },
    {
     "name": "stdout",
     "output_type": "stream",
     "text": [
      "ERROR\n"
     ]
    },
    {
     "name": "stderr",
     "output_type": "stream",
     "text": [
      " 75%|████████████████████████████████████████████████████████▉                   | 3755/5015 [1:10:09<22:49,  1.09s/it]"
     ]
    },
    {
     "name": "stdout",
     "output_type": "stream",
     "text": [
      "ERROR\n"
     ]
    },
    {
     "name": "stderr",
     "output_type": "stream",
     "text": [
      " 75%|████████████████████████████████████████████████████████▉                   | 3761/5015 [1:10:16<22:48,  1.09s/it]"
     ]
    },
    {
     "name": "stdout",
     "output_type": "stream",
     "text": [
      "ERROR\n"
     ]
    },
    {
     "name": "stderr",
     "output_type": "stream",
     "text": [
      " 75%|█████████████████████████████████████████████████████████▏                  | 3775/5015 [1:10:31<22:13,  1.08s/it]"
     ]
    },
    {
     "name": "stdout",
     "output_type": "stream",
     "text": [
      "ERROR\n"
     ]
    },
    {
     "name": "stderr",
     "output_type": "stream",
     "text": [
      "\r",
      " 75%|█████████████████████████████████████████████████████████▏                  | 3776/5015 [1:10:32<22:30,  1.09s/it]"
     ]
    },
    {
     "name": "stdout",
     "output_type": "stream",
     "text": [
      "ERROR\n"
     ]
    },
    {
     "name": "stderr",
     "output_type": "stream",
     "text": [
      " 75%|█████████████████████████████████████████████████████████▎                  | 3778/5015 [1:10:34<22:30,  1.09s/it]"
     ]
    },
    {
     "name": "stdout",
     "output_type": "stream",
     "text": [
      "ERROR\n"
     ]
    },
    {
     "name": "stderr",
     "output_type": "stream",
     "text": [
      " 75%|█████████████████████████████████████████████████████████▎                  | 3781/5015 [1:10:37<22:18,  1.08s/it]"
     ]
    },
    {
     "name": "stdout",
     "output_type": "stream",
     "text": [
      "ERROR\n"
     ]
    },
    {
     "name": "stderr",
     "output_type": "stream",
     "text": [
      " 76%|█████████████████████████████████████████████████████████▌                  | 3799/5015 [1:10:57<22:16,  1.10s/it]"
     ]
    },
    {
     "name": "stdout",
     "output_type": "stream",
     "text": [
      "ERROR\n"
     ]
    },
    {
     "name": "stderr",
     "output_type": "stream",
     "text": [
      " 76%|██████████████████████████████████████████████████████████                  | 3835/5015 [1:11:36<20:59,  1.07s/it]"
     ]
    },
    {
     "name": "stdout",
     "output_type": "stream",
     "text": [
      "ERROR\n"
     ]
    },
    {
     "name": "stderr",
     "output_type": "stream",
     "text": [
      " 77%|██████████████████████████████████████████████████████████▊                 | 3878/5015 [1:12:22<20:55,  1.10s/it]"
     ]
    },
    {
     "name": "stdout",
     "output_type": "stream",
     "text": [
      "ERROR\n"
     ]
    },
    {
     "name": "stderr",
     "output_type": "stream",
     "text": [
      " 77%|██████████████████████████████████████████████████████████▊                 | 3880/5015 [1:12:24<20:47,  1.10s/it]"
     ]
    },
    {
     "name": "stdout",
     "output_type": "stream",
     "text": [
      "ERROR\n"
     ]
    },
    {
     "name": "stderr",
     "output_type": "stream",
     "text": [
      " 78%|███████████████████████████████████████████████████████████                 | 3898/5015 [1:12:44<20:31,  1.10s/it]"
     ]
    },
    {
     "name": "stdout",
     "output_type": "stream",
     "text": [
      "ERROR\n"
     ]
    },
    {
     "name": "stderr",
     "output_type": "stream",
     "text": [
      " 78%|███████████████████████████████████████████████████████████▎                | 3916/5015 [1:13:04<19:37,  1.07s/it]"
     ]
    },
    {
     "name": "stdout",
     "output_type": "stream",
     "text": [
      "ERROR\n"
     ]
    },
    {
     "name": "stderr",
     "output_type": "stream",
     "text": [
      " 80%|████████████████████████████████████████████████████████████▍               | 3992/5015 [1:14:25<18:20,  1.08s/it]"
     ]
    },
    {
     "name": "stdout",
     "output_type": "stream",
     "text": [
      "ERROR\n"
     ]
    },
    {
     "name": "stderr",
     "output_type": "stream",
     "text": [
      " 81%|█████████████████████████████████████████████████████████████▍              | 4058/5015 [1:15:37<17:04,  1.07s/it]"
     ]
    },
    {
     "name": "stdout",
     "output_type": "stream",
     "text": [
      "ERROR\n"
     ]
    },
    {
     "name": "stderr",
     "output_type": "stream",
     "text": [
      "\r",
      " 81%|█████████████████████████████████████████████████████████████▌              | 4059/5015 [1:15:38<17:19,  1.09s/it]"
     ]
    },
    {
     "name": "stdout",
     "output_type": "stream",
     "text": [
      "ERROR\n"
     ]
    },
    {
     "name": "stderr",
     "output_type": "stream",
     "text": [
      " 83%|██████████████████████████████████████████████████████████████▊             | 4142/5015 [1:17:07<15:23,  1.06s/it]"
     ]
    },
    {
     "name": "stdout",
     "output_type": "stream",
     "text": [
      "ERROR\n"
     ]
    },
    {
     "name": "stderr",
     "output_type": "stream",
     "text": [
      " 83%|███████████████████████████████████████████████████████████████▎            | 4180/5015 [1:17:47<14:44,  1.06s/it]"
     ]
    },
    {
     "name": "stdout",
     "output_type": "stream",
     "text": [
      "ERROR\n"
     ]
    },
    {
     "name": "stderr",
     "output_type": "stream",
     "text": [
      " 85%|████████████████████████████████████████████████████████████████▍           | 4252/5015 [1:19:04<13:35,  1.07s/it]"
     ]
    },
    {
     "name": "stdout",
     "output_type": "stream",
     "text": [
      "ERROR\n"
     ]
    },
    {
     "name": "stderr",
     "output_type": "stream",
     "text": [
      " 85%|████████████████████████████████████████████████████████████████▋           | 4266/5015 [1:19:19<13:25,  1.07s/it]"
     ]
    },
    {
     "name": "stdout",
     "output_type": "stream",
     "text": [
      "ERROR\n"
     ]
    },
    {
     "name": "stderr",
     "output_type": "stream",
     "text": [
      " 85%|████████████████████████████████████████████████████████████████▊           | 4275/5015 [1:19:29<13:00,  1.05s/it]"
     ]
    },
    {
     "name": "stdout",
     "output_type": "stream",
     "text": [
      "ERROR\n"
     ]
    },
    {
     "name": "stderr",
     "output_type": "stream",
     "text": [
      "\r",
      " 85%|████████████████████████████████████████████████████████████████▊           | 4276/5015 [1:19:30<13:10,  1.07s/it]"
     ]
    },
    {
     "name": "stdout",
     "output_type": "stream",
     "text": [
      "ERROR\n"
     ]
    },
    {
     "name": "stderr",
     "output_type": "stream",
     "text": [
      " 85%|████████████████████████████████████████████████████████████████▉           | 4283/5015 [1:19:37<13:00,  1.07s/it]"
     ]
    },
    {
     "name": "stdout",
     "output_type": "stream",
     "text": [
      "ERROR\n"
     ]
    },
    {
     "name": "stderr",
     "output_type": "stream",
     "text": [
      " 86%|█████████████████████████████████████████████████████████████████           | 4292/5015 [1:19:47<12:55,  1.07s/it]"
     ]
    },
    {
     "name": "stdout",
     "output_type": "stream",
     "text": [
      "ERROR\n"
     ]
    },
    {
     "name": "stderr",
     "output_type": "stream",
     "text": [
      " 86%|█████████████████████████████████████████████████████████████████▍          | 4315/5015 [1:20:12<12:55,  1.11s/it]"
     ]
    },
    {
     "name": "stdout",
     "output_type": "stream",
     "text": [
      "ERROR\n"
     ]
    },
    {
     "name": "stderr",
     "output_type": "stream",
     "text": [
      " 86%|█████████████████████████████████████████████████████████████████▍          | 4318/5015 [1:20:16<13:06,  1.13s/it]"
     ]
    },
    {
     "name": "stdout",
     "output_type": "stream",
     "text": [
      "ERROR\n"
     ]
    },
    {
     "name": "stderr",
     "output_type": "stream",
     "text": [
      " 86%|█████████████████████████████████████████████████████████████████▌          | 4330/5015 [1:20:29<12:10,  1.07s/it]"
     ]
    },
    {
     "name": "stdout",
     "output_type": "stream",
     "text": [
      "ERROR\n"
     ]
    },
    {
     "name": "stderr",
     "output_type": "stream",
     "text": [
      " 87%|█████████████████████████████████████████████████████████████████▊          | 4345/5015 [1:20:45<11:54,  1.07s/it]"
     ]
    },
    {
     "name": "stdout",
     "output_type": "stream",
     "text": [
      "ERROR\n"
     ]
    },
    {
     "name": "stderr",
     "output_type": "stream",
     "text": [
      " 87%|██████████████████████████████████████████████████████████████████▍         | 4384/5015 [1:21:27<11:16,  1.07s/it]"
     ]
    },
    {
     "name": "stdout",
     "output_type": "stream",
     "text": [
      "ERROR\n"
     ]
    },
    {
     "name": "stderr",
     "output_type": "stream",
     "text": [
      " 89%|███████████████████████████████████████████████████████████████████▌        | 4456/5015 [1:22:46<10:00,  1.07s/it]"
     ]
    },
    {
     "name": "stdout",
     "output_type": "stream",
     "text": [
      "ERROR\n"
     ]
    },
    {
     "name": "stderr",
     "output_type": "stream",
     "text": [
      " 90%|████████████████████████████████████████████████████████████████████▎       | 4506/5015 [1:23:40<09:00,  1.06s/it]"
     ]
    },
    {
     "name": "stdout",
     "output_type": "stream",
     "text": [
      "ERROR\n"
     ]
    },
    {
     "name": "stderr",
     "output_type": "stream",
     "text": [
      "\r",
      " 90%|████████████████████████████████████████████████████████████████████▎       | 4507/5015 [1:23:41<09:02,  1.07s/it]"
     ]
    },
    {
     "name": "stdout",
     "output_type": "stream",
     "text": [
      "ERROR\n"
     ]
    },
    {
     "name": "stderr",
     "output_type": "stream",
     "text": [
      " 90%|████████████████████████████████████████████████████████████████████▌       | 4522/5015 [1:23:58<08:43,  1.06s/it]"
     ]
    },
    {
     "name": "stdout",
     "output_type": "stream",
     "text": [
      "ERROR\n"
     ]
    },
    {
     "name": "stderr",
     "output_type": "stream",
     "text": [
      " 91%|█████████████████████████████████████████████████████████████████████       | 4556/5015 [1:24:34<08:15,  1.08s/it]"
     ]
    },
    {
     "name": "stdout",
     "output_type": "stream",
     "text": [
      "ERROR\n"
     ]
    },
    {
     "name": "stderr",
     "output_type": "stream",
     "text": [
      " 92%|█████████████████████████████████████████████████████████████████████▌      | 4591/5015 [1:25:12<07:43,  1.09s/it]"
     ]
    },
    {
     "name": "stdout",
     "output_type": "stream",
     "text": [
      "ERROR\n"
     ]
    },
    {
     "name": "stderr",
     "output_type": "stream",
     "text": [
      " 96%|████████████████████████████████████████████████████████████████████████▉   | 4816/5015 [1:29:13<03:31,  1.06s/it]"
     ]
    },
    {
     "name": "stdout",
     "output_type": "stream",
     "text": [
      "ERROR\n"
     ]
    },
    {
     "name": "stderr",
     "output_type": "stream",
     "text": [
      " 97%|█████████████████████████████████████████████████████████████████████████▍  | 4842/5015 [1:29:41<03:04,  1.06s/it]"
     ]
    },
    {
     "name": "stdout",
     "output_type": "stream",
     "text": [
      "ERROR\n"
     ]
    },
    {
     "name": "stderr",
     "output_type": "stream",
     "text": [
      "100%|████████████████████████████████████████████████████████████████████████████| 5015/5015 [1:32:48<00:00,  1.08s/it]\n"
     ]
    }
   ],
   "source": [
    "from geopy.geocoders import Nominatim\n",
    "from tqdm import tqdm\n",
    "import time\n",
    "\n",
    "geolocator = Nominatim(user_agent=\"Stipend\")\n",
    "stipend_stats[\"Location\"]=''\n",
    "\n",
    "def get_locs(i):\n",
    "    try:\n",
    "        location = geolocator.geocode(stipend_stats[\"University\"][i], addressdetails=True)\n",
    "        loc = location.raw\n",
    "        return(loc['address'])       \n",
    "    except:\n",
    "        print(\"ERROR\")\n",
    "        return('NA')\n",
    "\n",
    "    \n",
    "for i in tqdm(range(len(stipend_stats))):\n",
    "    stipend_stats[\"Location\"][i] = get_locs(i)\n",
    "    stipend_stats.to_csv('Stipend.txt', sep='\\t')\n",
    "    time.sleep(.5)"
   ]
  },
  {
   "cell_type": "code",
   "execution_count": 23,
   "metadata": {},
   "outputs": [
    {
     "data": {
      "text/html": [
       "<div>\n",
       "<style scoped>\n",
       "    .dataframe tbody tr th:only-of-type {\n",
       "        vertical-align: middle;\n",
       "    }\n",
       "\n",
       "    .dataframe tbody tr th {\n",
       "        vertical-align: top;\n",
       "    }\n",
       "\n",
       "    .dataframe thead th {\n",
       "        text-align: right;\n",
       "    }\n",
       "</style>\n",
       "<table border=\"1\" class=\"dataframe\">\n",
       "  <thead>\n",
       "    <tr style=\"text-align: right;\">\n",
       "      <th></th>\n",
       "      <th>Unnamed: 0</th>\n",
       "      <th>Unnamed: 0.1</th>\n",
       "      <th>University</th>\n",
       "      <th>Subject</th>\n",
       "      <th>Stipend</th>\n",
       "      <th>LW Ratio</th>\n",
       "      <th>Academic Year</th>\n",
       "      <th>Program Year</th>\n",
       "      <th>Location</th>\n",
       "    </tr>\n",
       "  </thead>\n",
       "  <tbody>\n",
       "    <tr>\n",
       "      <th>0</th>\n",
       "      <td>0</td>\n",
       "      <td>0</td>\n",
       "      <td>Duke University</td>\n",
       "      <td>Bioengineering</td>\n",
       "      <td>$29,700</td>\n",
       "      <td>1.34</td>\n",
       "      <td>2018-2019</td>\n",
       "      <td>3rd</td>\n",
       "      <td>{'university': 'Duke University', 'pedestrian'...</td>\n",
       "    </tr>\n",
       "    <tr>\n",
       "      <th>1</th>\n",
       "      <td>1</td>\n",
       "      <td>2</td>\n",
       "      <td>University of Colorado - Denver</td>\n",
       "      <td>Molecular Biology PhD</td>\n",
       "      <td>$31,000</td>\n",
       "      <td>1.38</td>\n",
       "      <td>2019-2020</td>\n",
       "      <td>2nd</td>\n",
       "      <td>{'university': 'University of Colorado Denver'...</td>\n",
       "    </tr>\n",
       "    <tr>\n",
       "      <th>2</th>\n",
       "      <td>2</td>\n",
       "      <td>3</td>\n",
       "      <td>Michigan State University</td>\n",
       "      <td>Physics/Nuclear</td>\n",
       "      <td>$33,000</td>\n",
       "      <td>1.61</td>\n",
       "      <td>2019-2020</td>\n",
       "      <td>1st</td>\n",
       "      <td>{'university': 'Michigan State University', 'r...</td>\n",
       "    </tr>\n",
       "    <tr>\n",
       "      <th>3</th>\n",
       "      <td>3</td>\n",
       "      <td>4</td>\n",
       "      <td>University of Denver</td>\n",
       "      <td>Mathematics</td>\n",
       "      <td>$20,700</td>\n",
       "      <td>0.92</td>\n",
       "      <td>2019-2020</td>\n",
       "      <td>1st</td>\n",
       "      <td>{'university': 'University of Denver', 'footwa...</td>\n",
       "    </tr>\n",
       "    <tr>\n",
       "      <th>4</th>\n",
       "      <td>4</td>\n",
       "      <td>5</td>\n",
       "      <td>University of California - Los Angeles</td>\n",
       "      <td>biology</td>\n",
       "      <td>$42,000</td>\n",
       "      <td>1.62</td>\n",
       "      <td>2018-2019</td>\n",
       "      <td>1st</td>\n",
       "      <td>{'university': 'University of California - Los...</td>\n",
       "    </tr>\n",
       "    <tr>\n",
       "      <th>5</th>\n",
       "      <td>5</td>\n",
       "      <td>6</td>\n",
       "      <td>Oregon Health and Science University</td>\n",
       "      <td>Neuroscience</td>\n",
       "      <td>$30,000</td>\n",
       "      <td>1.28</td>\n",
       "      <td>2018-2019</td>\n",
       "      <td>1st</td>\n",
       "      <td>{'address29': 'Oregon Health &amp; Science Univers...</td>\n",
       "    </tr>\n",
       "    <tr>\n",
       "      <th>6</th>\n",
       "      <td>6</td>\n",
       "      <td>7</td>\n",
       "      <td>Wake Forest University</td>\n",
       "      <td>Biomedical Informatics</td>\n",
       "      <td>$45,000</td>\n",
       "      <td>2.06</td>\n",
       "      <td>2019-2020</td>\n",
       "      <td>1st</td>\n",
       "      <td>{'university': 'Wake Forest University', 'road...</td>\n",
       "    </tr>\n",
       "    <tr>\n",
       "      <th>7</th>\n",
       "      <td>7</td>\n",
       "      <td>8</td>\n",
       "      <td>University of Arizona</td>\n",
       "      <td>Entomology</td>\n",
       "      <td>$22,022</td>\n",
       "      <td>1.06</td>\n",
       "      <td>2018-2019</td>\n",
       "      <td>1st</td>\n",
       "      <td>{'university': 'University of Arizona', 'road'...</td>\n",
       "    </tr>\n",
       "    <tr>\n",
       "      <th>8</th>\n",
       "      <td>8</td>\n",
       "      <td>9</td>\n",
       "      <td>University of Wisconsin - Madison</td>\n",
       "      <td>Computer Sciences</td>\n",
       "      <td>$20,700</td>\n",
       "      <td>0.91</td>\n",
       "      <td>2019-2020</td>\n",
       "      <td>1st</td>\n",
       "      <td>{'university': 'University of Wisconsin-Madiso...</td>\n",
       "    </tr>\n",
       "    <tr>\n",
       "      <th>9</th>\n",
       "      <td>9</td>\n",
       "      <td>10</td>\n",
       "      <td>Oregon State University</td>\n",
       "      <td>Microbiology</td>\n",
       "      <td>$1,600</td>\n",
       "      <td>0.08</td>\n",
       "      <td>2018-2019</td>\n",
       "      <td>2nd</td>\n",
       "      <td>{'clothes': 'OSU Beaver Store', 'house_number'...</td>\n",
       "    </tr>\n",
       "    <tr>\n",
       "      <th>10</th>\n",
       "      <td>10</td>\n",
       "      <td>11</td>\n",
       "      <td>University of Central Florida</td>\n",
       "      <td>Mechanical Engineering</td>\n",
       "      <td>$24,000</td>\n",
       "      <td>1.04</td>\n",
       "      <td>2019-2020</td>\n",
       "      <td>1st</td>\n",
       "      <td>{'university': 'University of Central Florida'...</td>\n",
       "    </tr>\n",
       "    <tr>\n",
       "      <th>11</th>\n",
       "      <td>11</td>\n",
       "      <td>14</td>\n",
       "      <td>University of Cincinnati</td>\n",
       "      <td>School Psychology</td>\n",
       "      <td>$12,540</td>\n",
       "      <td>0.65</td>\n",
       "      <td>2018-2019</td>\n",
       "      <td>1st</td>\n",
       "      <td>{'university': 'UC', 'road': 'West University ...</td>\n",
       "    </tr>\n",
       "    <tr>\n",
       "      <th>12</th>\n",
       "      <td>12</td>\n",
       "      <td>15</td>\n",
       "      <td>Clark Atlanta University</td>\n",
       "      <td>Chemistry</td>\n",
       "      <td>$17,100</td>\n",
       "      <td>0.73</td>\n",
       "      <td>2019-2020</td>\n",
       "      <td>1st</td>\n",
       "      <td>{'university': 'Clark Atlanta University', 'ro...</td>\n",
       "    </tr>\n",
       "    <tr>\n",
       "      <th>13</th>\n",
       "      <td>13</td>\n",
       "      <td>17</td>\n",
       "      <td>Yeshiva University</td>\n",
       "      <td>Biomedical Sciences</td>\n",
       "      <td>$35,000</td>\n",
       "      <td>1.18</td>\n",
       "      <td>2018-2019</td>\n",
       "      <td>1st</td>\n",
       "      <td>{'school': 'Yeshiva University', 'road': 'Sout...</td>\n",
       "    </tr>\n",
       "    <tr>\n",
       "      <th>14</th>\n",
       "      <td>14</td>\n",
       "      <td>18</td>\n",
       "      <td>Miami University</td>\n",
       "      <td>Mechanical Engineering</td>\n",
       "      <td>$15,800</td>\n",
       "      <td>0.82</td>\n",
       "      <td>2019-2020</td>\n",
       "      <td>1st</td>\n",
       "      <td>{'university': 'MU', 'road': 'East Vine Street...</td>\n",
       "    </tr>\n",
       "    <tr>\n",
       "      <th>15</th>\n",
       "      <td>15</td>\n",
       "      <td>19</td>\n",
       "      <td>Northeastern University</td>\n",
       "      <td>Electrical and Computer Engineering</td>\n",
       "      <td>$33,007</td>\n",
       "      <td>1.15</td>\n",
       "      <td>2018-2019</td>\n",
       "      <td>2nd</td>\n",
       "      <td>{'university': 'Northeastern University', 'roa...</td>\n",
       "    </tr>\n",
       "    <tr>\n",
       "      <th>16</th>\n",
       "      <td>16</td>\n",
       "      <td>20</td>\n",
       "      <td>Stanford University</td>\n",
       "      <td>Civil and Environmental Enineering</td>\n",
       "      <td>$42,000</td>\n",
       "      <td>1.46</td>\n",
       "      <td>2019-2020</td>\n",
       "      <td>1st</td>\n",
       "      <td>{'university': 'Stanford University', 'road': ...</td>\n",
       "    </tr>\n",
       "    <tr>\n",
       "      <th>17</th>\n",
       "      <td>17</td>\n",
       "      <td>21</td>\n",
       "      <td>University of California - Los Angeles</td>\n",
       "      <td>Electrical Engineering</td>\n",
       "      <td>$28,000</td>\n",
       "      <td>1.08</td>\n",
       "      <td>2019-2020</td>\n",
       "      <td>1st</td>\n",
       "      <td>{'university': 'University of California - Los...</td>\n",
       "    </tr>\n",
       "    <tr>\n",
       "      <th>18</th>\n",
       "      <td>18</td>\n",
       "      <td>22</td>\n",
       "      <td>University of California - Berkeley</td>\n",
       "      <td>MCB</td>\n",
       "      <td>$37,000</td>\n",
       "      <td>1.33</td>\n",
       "      <td>2019-2020</td>\n",
       "      <td>1st</td>\n",
       "      <td>{'university': 'UC Berkeley', 'road': 'Centenn...</td>\n",
       "    </tr>\n",
       "    <tr>\n",
       "      <th>19</th>\n",
       "      <td>19</td>\n",
       "      <td>23</td>\n",
       "      <td>University of Minnesota - Twin Cities</td>\n",
       "      <td>German Nordic Slavic and Dutch</td>\n",
       "      <td>$23,500</td>\n",
       "      <td>1.03</td>\n",
       "      <td>2018-2019</td>\n",
       "      <td>1st</td>\n",
       "      <td>{'university': 'UMN', 'road': 'North Brompton ...</td>\n",
       "    </tr>\n",
       "    <tr>\n",
       "      <th>20</th>\n",
       "      <td>20</td>\n",
       "      <td>24</td>\n",
       "      <td>University of North Carolina - Chapel Hill</td>\n",
       "      <td>Biomedical Engineering</td>\n",
       "      <td>$37,500</td>\n",
       "      <td>1.69</td>\n",
       "      <td>2019-2020</td>\n",
       "      <td>1st</td>\n",
       "      <td>{'university': 'UNC-Chapel Hill', 'road': 'Ehr...</td>\n",
       "    </tr>\n",
       "    <tr>\n",
       "      <th>21</th>\n",
       "      <td>21</td>\n",
       "      <td>25</td>\n",
       "      <td>University of California - Los Angeles</td>\n",
       "      <td>Linguistics</td>\n",
       "      <td>$33,000</td>\n",
       "      <td>1.28</td>\n",
       "      <td>2019-2020</td>\n",
       "      <td>1st</td>\n",
       "      <td>{'university': 'University of California - Los...</td>\n",
       "    </tr>\n",
       "    <tr>\n",
       "      <th>22</th>\n",
       "      <td>22</td>\n",
       "      <td>26</td>\n",
       "      <td>Clemson University</td>\n",
       "      <td>Automotive</td>\n",
       "      <td>$20,500</td>\n",
       "      <td>0.98</td>\n",
       "      <td>2018-2019</td>\n",
       "      <td>3rd</td>\n",
       "      <td>{'university': 'Clemson University', 'road': '...</td>\n",
       "    </tr>\n",
       "    <tr>\n",
       "      <th>23</th>\n",
       "      <td>23</td>\n",
       "      <td>27</td>\n",
       "      <td>University of California - Los Angeles</td>\n",
       "      <td>Molecular Biology Interdepartmental Doctoral P...</td>\n",
       "      <td>$33,500</td>\n",
       "      <td>1.29</td>\n",
       "      <td>2019-2020</td>\n",
       "      <td>1st</td>\n",
       "      <td>{'university': 'University of California - Los...</td>\n",
       "    </tr>\n",
       "    <tr>\n",
       "      <th>24</th>\n",
       "      <td>24</td>\n",
       "      <td>28</td>\n",
       "      <td>Duke University</td>\n",
       "      <td>Public Policy</td>\n",
       "      <td>$25,000</td>\n",
       "      <td>1.12</td>\n",
       "      <td>2019-2020</td>\n",
       "      <td>1st</td>\n",
       "      <td>{'university': 'Duke University', 'pedestrian'...</td>\n",
       "    </tr>\n",
       "    <tr>\n",
       "      <th>25</th>\n",
       "      <td>25</td>\n",
       "      <td>30</td>\n",
       "      <td>University of California - San Francisco</td>\n",
       "      <td>Chemistry and Chemical biology</td>\n",
       "      <td>$40,000</td>\n",
       "      <td>1.34</td>\n",
       "      <td>2019-2020</td>\n",
       "      <td>1st</td>\n",
       "      <td>{'university': 'UCSF', 'road': 'Parnassus Aven...</td>\n",
       "    </tr>\n",
       "    <tr>\n",
       "      <th>26</th>\n",
       "      <td>26</td>\n",
       "      <td>31</td>\n",
       "      <td>University of California - San Francisco</td>\n",
       "      <td>Chemistry and Chemical biology</td>\n",
       "      <td>$40,000</td>\n",
       "      <td>1.34</td>\n",
       "      <td>2019-2020</td>\n",
       "      <td>1st</td>\n",
       "      <td>{'university': 'UCSF', 'road': 'Parnassus Aven...</td>\n",
       "    </tr>\n",
       "    <tr>\n",
       "      <th>27</th>\n",
       "      <td>27</td>\n",
       "      <td>32</td>\n",
       "      <td>University of Cincinnati</td>\n",
       "      <td>Communication</td>\n",
       "      <td>$12,550</td>\n",
       "      <td>0.65</td>\n",
       "      <td>2018-2019</td>\n",
       "      <td>1st</td>\n",
       "      <td>{'university': 'UC', 'road': 'West University ...</td>\n",
       "    </tr>\n",
       "    <tr>\n",
       "      <th>28</th>\n",
       "      <td>28</td>\n",
       "      <td>33</td>\n",
       "      <td>California Institute of Technology</td>\n",
       "      <td>Computing and Mathematical Sciences</td>\n",
       "      <td>$35,000</td>\n",
       "      <td>1.35</td>\n",
       "      <td>2018-2019</td>\n",
       "      <td>4th</td>\n",
       "      <td>{'university': 'California Institute of Techno...</td>\n",
       "    </tr>\n",
       "    <tr>\n",
       "      <th>29</th>\n",
       "      <td>29</td>\n",
       "      <td>34</td>\n",
       "      <td>Duke University</td>\n",
       "      <td>University Program in Genetics and Genomics</td>\n",
       "      <td>$31,800</td>\n",
       "      <td>1.43</td>\n",
       "      <td>2018-2019</td>\n",
       "      <td>3rd</td>\n",
       "      <td>{'university': 'Duke University', 'pedestrian'...</td>\n",
       "    </tr>\n",
       "    <tr>\n",
       "      <th>...</th>\n",
       "      <td>...</td>\n",
       "      <td>...</td>\n",
       "      <td>...</td>\n",
       "      <td>...</td>\n",
       "      <td>...</td>\n",
       "      <td>...</td>\n",
       "      <td>...</td>\n",
       "      <td>...</td>\n",
       "      <td>...</td>\n",
       "    </tr>\n",
       "    <tr>\n",
       "      <th>4985</th>\n",
       "      <td>4985</td>\n",
       "      <td>6316</td>\n",
       "      <td>New Mexico State University</td>\n",
       "      <td>Astronomy</td>\n",
       "      <td>$18,058</td>\n",
       "      <td>1.07</td>\n",
       "      <td>2011-2012</td>\n",
       "      <td>2nd</td>\n",
       "      <td>{'city': 'New Mexico State University', 'count...</td>\n",
       "    </tr>\n",
       "    <tr>\n",
       "      <th>4986</th>\n",
       "      <td>4986</td>\n",
       "      <td>6317</td>\n",
       "      <td>New Mexico State University</td>\n",
       "      <td>Astronomy</td>\n",
       "      <td>$14,842</td>\n",
       "      <td>0.88</td>\n",
       "      <td>2010-2011</td>\n",
       "      <td>1st</td>\n",
       "      <td>{'city': 'New Mexico State University', 'count...</td>\n",
       "    </tr>\n",
       "    <tr>\n",
       "      <th>4987</th>\n",
       "      <td>4987</td>\n",
       "      <td>6318</td>\n",
       "      <td>Georgia Institute of Technology</td>\n",
       "      <td>ECE</td>\n",
       "      <td>$28,083</td>\n",
       "      <td>1.34</td>\n",
       "      <td>2014-2015</td>\n",
       "      <td>2nd</td>\n",
       "      <td>{'university': 'Georgia Tech', 'pedestrian': '...</td>\n",
       "    </tr>\n",
       "    <tr>\n",
       "      <th>4988</th>\n",
       "      <td>4988</td>\n",
       "      <td>6320</td>\n",
       "      <td>University of Connecticut</td>\n",
       "      <td>Ecology and Evolution</td>\n",
       "      <td>$21,212</td>\n",
       "      <td>1.01</td>\n",
       "      <td>2013-2014</td>\n",
       "      <td>3rd</td>\n",
       "      <td>{'school': 'University of Connecticut', 'road'...</td>\n",
       "    </tr>\n",
       "    <tr>\n",
       "      <th>4989</th>\n",
       "      <td>4989</td>\n",
       "      <td>6321</td>\n",
       "      <td>University of Connecticut</td>\n",
       "      <td>Ecology and Evolution</td>\n",
       "      <td>$22,061</td>\n",
       "      <td>1.05</td>\n",
       "      <td>2014-2015</td>\n",
       "      <td>4th</td>\n",
       "      <td>{'school': 'University of Connecticut', 'road'...</td>\n",
       "    </tr>\n",
       "    <tr>\n",
       "      <th>4990</th>\n",
       "      <td>4990</td>\n",
       "      <td>6322</td>\n",
       "      <td>University of Connecticut</td>\n",
       "      <td>Ecology and Evolutionary Biology</td>\n",
       "      <td>$22,000</td>\n",
       "      <td>1.05</td>\n",
       "      <td>2014-2015</td>\n",
       "      <td>3rd</td>\n",
       "      <td>{'school': 'University of Connecticut', 'road'...</td>\n",
       "    </tr>\n",
       "    <tr>\n",
       "      <th>4991</th>\n",
       "      <td>4991</td>\n",
       "      <td>6324</td>\n",
       "      <td>Georgia State University</td>\n",
       "      <td>Communication</td>\n",
       "      <td>$15,000</td>\n",
       "      <td>0.71</td>\n",
       "      <td>2011-2012</td>\n",
       "      <td>3rd</td>\n",
       "      <td>{'school': 'Georgia State University', 'road':...</td>\n",
       "    </tr>\n",
       "    <tr>\n",
       "      <th>4992</th>\n",
       "      <td>4992</td>\n",
       "      <td>6325</td>\n",
       "      <td>University of Mississippi</td>\n",
       "      <td>Biology</td>\n",
       "      <td>$19,000</td>\n",
       "      <td>1.09</td>\n",
       "      <td>2013-2014</td>\n",
       "      <td>5th</td>\n",
       "      <td>{'museum': 'University of Mississippi Museum',...</td>\n",
       "    </tr>\n",
       "    <tr>\n",
       "      <th>4993</th>\n",
       "      <td>4993</td>\n",
       "      <td>6326</td>\n",
       "      <td>New Mexico State University</td>\n",
       "      <td>Astronomy</td>\n",
       "      <td>$32,000</td>\n",
       "      <td>1.89</td>\n",
       "      <td>2014-2015</td>\n",
       "      <td>3rd</td>\n",
       "      <td>{'city': 'New Mexico State University', 'count...</td>\n",
       "    </tr>\n",
       "    <tr>\n",
       "      <th>4994</th>\n",
       "      <td>4994</td>\n",
       "      <td>6327</td>\n",
       "      <td>University of California - San Diego</td>\n",
       "      <td>Neurosciences</td>\n",
       "      <td>$31,000</td>\n",
       "      <td>1.31</td>\n",
       "      <td>2013-2014</td>\n",
       "      <td>3rd</td>\n",
       "      <td>{'university': 'UCSD', 'house_number': '9500',...</td>\n",
       "    </tr>\n",
       "    <tr>\n",
       "      <th>4995</th>\n",
       "      <td>4995</td>\n",
       "      <td>6329</td>\n",
       "      <td>University of Washington</td>\n",
       "      <td>Chemistry</td>\n",
       "      <td>$26,000</td>\n",
       "      <td>1.30</td>\n",
       "      <td>2012-2013</td>\n",
       "      <td>1st</td>\n",
       "      <td>{'university': 'University of Washington', 'ro...</td>\n",
       "    </tr>\n",
       "    <tr>\n",
       "      <th>4996</th>\n",
       "      <td>4996</td>\n",
       "      <td>6330</td>\n",
       "      <td>University of Colorado - Boulder</td>\n",
       "      <td>EBIO</td>\n",
       "      <td>$32,000</td>\n",
       "      <td>1.55</td>\n",
       "      <td>2014-2015</td>\n",
       "      <td>2nd</td>\n",
       "      <td>{'museum': 'HEND', 'house_number': '1030', 'ro...</td>\n",
       "    </tr>\n",
       "    <tr>\n",
       "      <th>4997</th>\n",
       "      <td>4997</td>\n",
       "      <td>6332</td>\n",
       "      <td>Georgia Institute of Technology</td>\n",
       "      <td>Biomedical Engineering</td>\n",
       "      <td>$32,000</td>\n",
       "      <td>1.52</td>\n",
       "      <td>2013-2014</td>\n",
       "      <td>3rd</td>\n",
       "      <td>{'university': 'Georgia Tech', 'pedestrian': '...</td>\n",
       "    </tr>\n",
       "    <tr>\n",
       "      <th>4998</th>\n",
       "      <td>4998</td>\n",
       "      <td>6333</td>\n",
       "      <td>Georgia Institute of Technology</td>\n",
       "      <td>Mechanical Engineering</td>\n",
       "      <td>$31,200</td>\n",
       "      <td>1.49</td>\n",
       "      <td>2013-2014</td>\n",
       "      <td>6th and up</td>\n",
       "      <td>{'university': 'Georgia Tech', 'pedestrian': '...</td>\n",
       "    </tr>\n",
       "    <tr>\n",
       "      <th>4999</th>\n",
       "      <td>4999</td>\n",
       "      <td>6334</td>\n",
       "      <td>Harvard University</td>\n",
       "      <td>Epidemiology</td>\n",
       "      <td>$22,000</td>\n",
       "      <td>0.84</td>\n",
       "      <td>2013-2014</td>\n",
       "      <td>1st</td>\n",
       "      <td>{'university': 'Harvard University', 'road': '...</td>\n",
       "    </tr>\n",
       "    <tr>\n",
       "      <th>5000</th>\n",
       "      <td>5000</td>\n",
       "      <td>6335</td>\n",
       "      <td>Georgia Institute of Technology</td>\n",
       "      <td>Biomedical Engineering</td>\n",
       "      <td>$28,000</td>\n",
       "      <td>1.33</td>\n",
       "      <td>2013-2014</td>\n",
       "      <td>4th</td>\n",
       "      <td>{'university': 'Georgia Tech', 'pedestrian': '...</td>\n",
       "    </tr>\n",
       "    <tr>\n",
       "      <th>5001</th>\n",
       "      <td>5001</td>\n",
       "      <td>6336</td>\n",
       "      <td>Georgia Institute of Technology</td>\n",
       "      <td>Aerospace Engineering</td>\n",
       "      <td>$26,000</td>\n",
       "      <td>1.24</td>\n",
       "      <td>2013-2014</td>\n",
       "      <td>6th and up</td>\n",
       "      <td>{'university': 'Georgia Tech', 'pedestrian': '...</td>\n",
       "    </tr>\n",
       "    <tr>\n",
       "      <th>5002</th>\n",
       "      <td>5002</td>\n",
       "      <td>6337</td>\n",
       "      <td>University of Illinois - Urbana- Champaign</td>\n",
       "      <td>Computer Science</td>\n",
       "      <td>$32,000</td>\n",
       "      <td>1.85</td>\n",
       "      <td>2013-2014</td>\n",
       "      <td>5th</td>\n",
       "      <td>{'parking': 'B-3', 'road': 'South Mathews Aven...</td>\n",
       "    </tr>\n",
       "    <tr>\n",
       "      <th>5003</th>\n",
       "      <td>5003</td>\n",
       "      <td>6338</td>\n",
       "      <td>Georgia Institute of Technology</td>\n",
       "      <td>Aerospace Engineering</td>\n",
       "      <td>$33,000</td>\n",
       "      <td>1.57</td>\n",
       "      <td>2013-2014</td>\n",
       "      <td>4th</td>\n",
       "      <td>{'university': 'Georgia Tech', 'pedestrian': '...</td>\n",
       "    </tr>\n",
       "    <tr>\n",
       "      <th>5004</th>\n",
       "      <td>5004</td>\n",
       "      <td>6339</td>\n",
       "      <td>University of California - San Francisco</td>\n",
       "      <td>Neuroscience</td>\n",
       "      <td>$32,000</td>\n",
       "      <td>1.20</td>\n",
       "      <td>2013-2014</td>\n",
       "      <td>3rd</td>\n",
       "      <td>{'university': 'UCSF', 'road': 'Parnassus Aven...</td>\n",
       "    </tr>\n",
       "    <tr>\n",
       "      <th>5005</th>\n",
       "      <td>5005</td>\n",
       "      <td>6340</td>\n",
       "      <td>Stanford University</td>\n",
       "      <td>Graduate School of Education</td>\n",
       "      <td>$24,000</td>\n",
       "      <td>0.96</td>\n",
       "      <td>2013-2014</td>\n",
       "      <td>4th</td>\n",
       "      <td>{'university': 'Stanford University', 'road': ...</td>\n",
       "    </tr>\n",
       "    <tr>\n",
       "      <th>5006</th>\n",
       "      <td>5006</td>\n",
       "      <td>6341</td>\n",
       "      <td>Georgia Institute of Technology</td>\n",
       "      <td>Aerospace Engineering</td>\n",
       "      <td>$33,360</td>\n",
       "      <td>1.59</td>\n",
       "      <td>2012-2013</td>\n",
       "      <td>6th and up</td>\n",
       "      <td>{'university': 'Georgia Tech', 'pedestrian': '...</td>\n",
       "    </tr>\n",
       "    <tr>\n",
       "      <th>5007</th>\n",
       "      <td>5007</td>\n",
       "      <td>6342</td>\n",
       "      <td>Georgia Institute of Technology</td>\n",
       "      <td>aerospace engineering</td>\n",
       "      <td>$27,000</td>\n",
       "      <td>1.29</td>\n",
       "      <td>2012-2013</td>\n",
       "      <td>6th and up</td>\n",
       "      <td>{'university': 'Georgia Tech', 'pedestrian': '...</td>\n",
       "    </tr>\n",
       "    <tr>\n",
       "      <th>5008</th>\n",
       "      <td>5008</td>\n",
       "      <td>6344</td>\n",
       "      <td>Massachusetts Institute of Technology</td>\n",
       "      <td>Math</td>\n",
       "      <td>$33,000</td>\n",
       "      <td>1.29</td>\n",
       "      <td>2013-2014</td>\n",
       "      <td>6th and up</td>\n",
       "      <td>{'university': 'MIT', 'road': 'Massachusetts A...</td>\n",
       "    </tr>\n",
       "    <tr>\n",
       "      <th>5009</th>\n",
       "      <td>5009</td>\n",
       "      <td>6345</td>\n",
       "      <td>Massachusetts Institute of Technology</td>\n",
       "      <td>Biology</td>\n",
       "      <td>$34,000</td>\n",
       "      <td>1.33</td>\n",
       "      <td>2014-2015</td>\n",
       "      <td>6th and up</td>\n",
       "      <td>{'university': 'MIT', 'road': 'Massachusetts A...</td>\n",
       "    </tr>\n",
       "    <tr>\n",
       "      <th>5010</th>\n",
       "      <td>5010</td>\n",
       "      <td>6347</td>\n",
       "      <td>Duke University</td>\n",
       "      <td>Biochemistry</td>\n",
       "      <td>$29,840</td>\n",
       "      <td>1.59</td>\n",
       "      <td>2012-2013</td>\n",
       "      <td>6th and up</td>\n",
       "      <td>{'university': 'Duke University', 'pedestrian'...</td>\n",
       "    </tr>\n",
       "    <tr>\n",
       "      <th>5011</th>\n",
       "      <td>5011</td>\n",
       "      <td>6348</td>\n",
       "      <td>University of Virginia</td>\n",
       "      <td>Chemical Engineering</td>\n",
       "      <td>$32,000</td>\n",
       "      <td>1.63</td>\n",
       "      <td>2013-2014</td>\n",
       "      <td>4th</td>\n",
       "      <td>{'university': 'University of Virginia', 'road...</td>\n",
       "    </tr>\n",
       "    <tr>\n",
       "      <th>5012</th>\n",
       "      <td>5012</td>\n",
       "      <td>6349</td>\n",
       "      <td>Duke University</td>\n",
       "      <td>Biomedical Engineering</td>\n",
       "      <td>$32,000</td>\n",
       "      <td>1.70</td>\n",
       "      <td>2013-2014</td>\n",
       "      <td>2nd</td>\n",
       "      <td>{'university': 'Duke University', 'pedestrian'...</td>\n",
       "    </tr>\n",
       "    <tr>\n",
       "      <th>5013</th>\n",
       "      <td>5013</td>\n",
       "      <td>6350</td>\n",
       "      <td>University of Virginia</td>\n",
       "      <td>Chemical Engineering</td>\n",
       "      <td>$25,000</td>\n",
       "      <td>1.28</td>\n",
       "      <td>2013-2014</td>\n",
       "      <td>4th</td>\n",
       "      <td>{'university': 'University of Virginia', 'road...</td>\n",
       "    </tr>\n",
       "    <tr>\n",
       "      <th>5014</th>\n",
       "      <td>5014</td>\n",
       "      <td>6351</td>\n",
       "      <td>Duke University</td>\n",
       "      <td>Biomedical Engineering</td>\n",
       "      <td>$27,850</td>\n",
       "      <td>1.48</td>\n",
       "      <td>2013-2014</td>\n",
       "      <td>6th and up</td>\n",
       "      <td>{'university': 'Duke University', 'pedestrian'...</td>\n",
       "    </tr>\n",
       "  </tbody>\n",
       "</table>\n",
       "<p>5015 rows × 9 columns</p>\n",
       "</div>"
      ],
      "text/plain": [
       "      Unnamed: 0  Unnamed: 0.1                                   University  \\\n",
       "0              0             0                             Duke University    \n",
       "1              1             2             University of Colorado - Denver    \n",
       "2              2             3                   Michigan State University    \n",
       "3              3             4                        University of Denver    \n",
       "4              4             5      University of California - Los Angeles    \n",
       "5              5             6         Oregon Health and Science University   \n",
       "6              6             7                      Wake Forest University    \n",
       "7              7             8                       University of Arizona    \n",
       "8              8             9           University of Wisconsin - Madison    \n",
       "9              9            10                     Oregon State University    \n",
       "10            10            11               University of Central Florida    \n",
       "11            11            14                    University of Cincinnati    \n",
       "12            12            15                     Clark Atlanta University   \n",
       "13            13            17                          Yeshiva University    \n",
       "14            14            18                            Miami University    \n",
       "15            15            19                     Northeastern University    \n",
       "16            16            20                         Stanford University    \n",
       "17            17            21      University of California - Los Angeles    \n",
       "18            18            22          University of California - Berkeley   \n",
       "19            19            23       University of Minnesota - Twin Cities    \n",
       "20            20            24  University of North Carolina - Chapel Hill    \n",
       "21            21            25      University of California - Los Angeles    \n",
       "22            22            26                          Clemson University    \n",
       "23            23            27      University of California - Los Angeles    \n",
       "24            24            28                             Duke University    \n",
       "25            25            30    University of California - San Francisco    \n",
       "26            26            31    University of California - San Francisco    \n",
       "27            27            32                    University of Cincinnati    \n",
       "28            28            33          California Institute of Technology    \n",
       "29            29            34                             Duke University    \n",
       "...          ...           ...                                          ...   \n",
       "4985        4985          6316                 New Mexico State University    \n",
       "4986        4986          6317                 New Mexico State University    \n",
       "4987        4987          6318             Georgia Institute of Technology    \n",
       "4988        4988          6320                   University of Connecticut    \n",
       "4989        4989          6321                   University of Connecticut    \n",
       "4990        4990          6322                   University of Connecticut    \n",
       "4991        4991          6324                    Georgia State University    \n",
       "4992        4992          6325                   University of Mississippi    \n",
       "4993        4993          6326                 New Mexico State University    \n",
       "4994        4994          6327        University of California - San Diego    \n",
       "4995        4995          6329                    University of Washington    \n",
       "4996        4996          6330            University of Colorado - Boulder    \n",
       "4997        4997          6332             Georgia Institute of Technology    \n",
       "4998        4998          6333             Georgia Institute of Technology    \n",
       "4999        4999          6334                          Harvard University    \n",
       "5000        5000          6335             Georgia Institute of Technology    \n",
       "5001        5001          6336             Georgia Institute of Technology    \n",
       "5002        5002          6337  University of Illinois - Urbana- Champaign    \n",
       "5003        5003          6338             Georgia Institute of Technology    \n",
       "5004        5004          6339    University of California - San Francisco    \n",
       "5005        5005          6340                         Stanford University    \n",
       "5006        5006          6341             Georgia Institute of Technology    \n",
       "5007        5007          6342             Georgia Institute of Technology    \n",
       "5008        5008          6344       Massachusetts Institute of Technology    \n",
       "5009        5009          6345       Massachusetts Institute of Technology    \n",
       "5010        5010          6347                             Duke University    \n",
       "5011        5011          6348                      University of Virginia    \n",
       "5012        5012          6349                             Duke University    \n",
       "5013        5013          6350                      University of Virginia    \n",
       "5014        5014          6351                             Duke University    \n",
       "\n",
       "                                                Subject  Stipend  LW Ratio  \\\n",
       "0                                        Bioengineering  $29,700      1.34   \n",
       "1                                 Molecular Biology PhD  $31,000      1.38   \n",
       "2                                       Physics/Nuclear  $33,000      1.61   \n",
       "3                                           Mathematics  $20,700      0.92   \n",
       "4                                               biology  $42,000      1.62   \n",
       "5                                          Neuroscience  $30,000      1.28   \n",
       "6                                Biomedical Informatics  $45,000      2.06   \n",
       "7                                            Entomology  $22,022      1.06   \n",
       "8                                     Computer Sciences  $20,700      0.91   \n",
       "9                                          Microbiology   $1,600      0.08   \n",
       "10                               Mechanical Engineering  $24,000      1.04   \n",
       "11                                    School Psychology  $12,540      0.65   \n",
       "12                                           Chemistry   $17,100      0.73   \n",
       "13                                  Biomedical Sciences  $35,000      1.18   \n",
       "14                               Mechanical Engineering  $15,800      0.82   \n",
       "15                  Electrical and Computer Engineering  $33,007      1.15   \n",
       "16                   Civil and Environmental Enineering  $42,000      1.46   \n",
       "17                               Electrical Engineering  $28,000      1.08   \n",
       "18                                                  MCB  $37,000      1.33   \n",
       "19                       German Nordic Slavic and Dutch  $23,500      1.03   \n",
       "20                               Biomedical Engineering  $37,500      1.69   \n",
       "21                                          Linguistics  $33,000      1.28   \n",
       "22                                           Automotive  $20,500      0.98   \n",
       "23    Molecular Biology Interdepartmental Doctoral P...  $33,500      1.29   \n",
       "24                                        Public Policy  $25,000      1.12   \n",
       "25                      Chemistry and Chemical biology   $40,000      1.34   \n",
       "26                      Chemistry and Chemical biology   $40,000      1.34   \n",
       "27                                        Communication  $12,550      0.65   \n",
       "28                  Computing and Mathematical Sciences  $35,000      1.35   \n",
       "29          University Program in Genetics and Genomics  $31,800      1.43   \n",
       "...                                                 ...      ...       ...   \n",
       "4985                                          Astronomy  $18,058      1.07   \n",
       "4986                                          Astronomy  $14,842      0.88   \n",
       "4987                                                ECE  $28,083      1.34   \n",
       "4988                              Ecology and Evolution  $21,212      1.01   \n",
       "4989                              Ecology and Evolution  $22,061      1.05   \n",
       "4990                   Ecology and Evolutionary Biology  $22,000      1.05   \n",
       "4991                                     Communication   $15,000      0.71   \n",
       "4992                                            Biology  $19,000      1.09   \n",
       "4993                                          Astronomy  $32,000      1.89   \n",
       "4994                                      Neurosciences  $31,000      1.31   \n",
       "4995                                          Chemistry  $26,000      1.30   \n",
       "4996                                               EBIO  $32,000      1.55   \n",
       "4997                             Biomedical Engineering  $32,000      1.52   \n",
       "4998                             Mechanical Engineering  $31,200      1.49   \n",
       "4999                                       Epidemiology  $22,000      0.84   \n",
       "5000                             Biomedical Engineering  $28,000      1.33   \n",
       "5001                              Aerospace Engineering  $26,000      1.24   \n",
       "5002                                   Computer Science  $32,000      1.85   \n",
       "5003                              Aerospace Engineering  $33,000      1.57   \n",
       "5004                                       Neuroscience  $32,000      1.20   \n",
       "5005                       Graduate School of Education  $24,000      0.96   \n",
       "5006                              Aerospace Engineering  $33,360      1.59   \n",
       "5007                              aerospace engineering  $27,000      1.29   \n",
       "5008                                               Math  $33,000      1.29   \n",
       "5009                                            Biology  $34,000      1.33   \n",
       "5010                                       Biochemistry  $29,840      1.59   \n",
       "5011                               Chemical Engineering  $32,000      1.63   \n",
       "5012                             Biomedical Engineering  $32,000      1.70   \n",
       "5013                               Chemical Engineering  $25,000      1.28   \n",
       "5014                             Biomedical Engineering  $27,850      1.48   \n",
       "\n",
       "     Academic Year Program Year  \\\n",
       "0        2018-2019          3rd   \n",
       "1        2019-2020          2nd   \n",
       "2        2019-2020          1st   \n",
       "3        2019-2020          1st   \n",
       "4        2018-2019          1st   \n",
       "5        2018-2019          1st   \n",
       "6        2019-2020          1st   \n",
       "7        2018-2019          1st   \n",
       "8        2019-2020          1st   \n",
       "9        2018-2019          2nd   \n",
       "10       2019-2020          1st   \n",
       "11       2018-2019          1st   \n",
       "12       2019-2020          1st   \n",
       "13       2018-2019          1st   \n",
       "14       2019-2020          1st   \n",
       "15       2018-2019          2nd   \n",
       "16       2019-2020          1st   \n",
       "17       2019-2020          1st   \n",
       "18       2019-2020          1st   \n",
       "19       2018-2019          1st   \n",
       "20       2019-2020          1st   \n",
       "21       2019-2020          1st   \n",
       "22       2018-2019          3rd   \n",
       "23       2019-2020          1st   \n",
       "24       2019-2020          1st   \n",
       "25       2019-2020          1st   \n",
       "26       2019-2020          1st   \n",
       "27       2018-2019          1st   \n",
       "28       2018-2019          4th   \n",
       "29       2018-2019          3rd   \n",
       "...            ...          ...   \n",
       "4985     2011-2012          2nd   \n",
       "4986     2010-2011          1st   \n",
       "4987     2014-2015          2nd   \n",
       "4988     2013-2014          3rd   \n",
       "4989     2014-2015          4th   \n",
       "4990     2014-2015          3rd   \n",
       "4991     2011-2012          3rd   \n",
       "4992     2013-2014          5th   \n",
       "4993     2014-2015          3rd   \n",
       "4994     2013-2014          3rd   \n",
       "4995     2012-2013          1st   \n",
       "4996     2014-2015          2nd   \n",
       "4997     2013-2014          3rd   \n",
       "4998     2013-2014   6th and up   \n",
       "4999     2013-2014          1st   \n",
       "5000     2013-2014          4th   \n",
       "5001     2013-2014   6th and up   \n",
       "5002     2013-2014          5th   \n",
       "5003     2013-2014          4th   \n",
       "5004     2013-2014          3rd   \n",
       "5005     2013-2014          4th   \n",
       "5006     2012-2013   6th and up   \n",
       "5007     2012-2013   6th and up   \n",
       "5008     2013-2014   6th and up   \n",
       "5009     2014-2015   6th and up   \n",
       "5010     2012-2013   6th and up   \n",
       "5011     2013-2014          4th   \n",
       "5012     2013-2014          2nd   \n",
       "5013     2013-2014          4th   \n",
       "5014     2013-2014   6th and up   \n",
       "\n",
       "                                               Location  \n",
       "0     {'university': 'Duke University', 'pedestrian'...  \n",
       "1     {'university': 'University of Colorado Denver'...  \n",
       "2     {'university': 'Michigan State University', 'r...  \n",
       "3     {'university': 'University of Denver', 'footwa...  \n",
       "4     {'university': 'University of California - Los...  \n",
       "5     {'address29': 'Oregon Health & Science Univers...  \n",
       "6     {'university': 'Wake Forest University', 'road...  \n",
       "7     {'university': 'University of Arizona', 'road'...  \n",
       "8     {'university': 'University of Wisconsin-Madiso...  \n",
       "9     {'clothes': 'OSU Beaver Store', 'house_number'...  \n",
       "10    {'university': 'University of Central Florida'...  \n",
       "11    {'university': 'UC', 'road': 'West University ...  \n",
       "12    {'university': 'Clark Atlanta University', 'ro...  \n",
       "13    {'school': 'Yeshiva University', 'road': 'Sout...  \n",
       "14    {'university': 'MU', 'road': 'East Vine Street...  \n",
       "15    {'university': 'Northeastern University', 'roa...  \n",
       "16    {'university': 'Stanford University', 'road': ...  \n",
       "17    {'university': 'University of California - Los...  \n",
       "18    {'university': 'UC Berkeley', 'road': 'Centenn...  \n",
       "19    {'university': 'UMN', 'road': 'North Brompton ...  \n",
       "20    {'university': 'UNC-Chapel Hill', 'road': 'Ehr...  \n",
       "21    {'university': 'University of California - Los...  \n",
       "22    {'university': 'Clemson University', 'road': '...  \n",
       "23    {'university': 'University of California - Los...  \n",
       "24    {'university': 'Duke University', 'pedestrian'...  \n",
       "25    {'university': 'UCSF', 'road': 'Parnassus Aven...  \n",
       "26    {'university': 'UCSF', 'road': 'Parnassus Aven...  \n",
       "27    {'university': 'UC', 'road': 'West University ...  \n",
       "28    {'university': 'California Institute of Techno...  \n",
       "29    {'university': 'Duke University', 'pedestrian'...  \n",
       "...                                                 ...  \n",
       "4985  {'city': 'New Mexico State University', 'count...  \n",
       "4986  {'city': 'New Mexico State University', 'count...  \n",
       "4987  {'university': 'Georgia Tech', 'pedestrian': '...  \n",
       "4988  {'school': 'University of Connecticut', 'road'...  \n",
       "4989  {'school': 'University of Connecticut', 'road'...  \n",
       "4990  {'school': 'University of Connecticut', 'road'...  \n",
       "4991  {'school': 'Georgia State University', 'road':...  \n",
       "4992  {'museum': 'University of Mississippi Museum',...  \n",
       "4993  {'city': 'New Mexico State University', 'count...  \n",
       "4994  {'university': 'UCSD', 'house_number': '9500',...  \n",
       "4995  {'university': 'University of Washington', 'ro...  \n",
       "4996  {'museum': 'HEND', 'house_number': '1030', 'ro...  \n",
       "4997  {'university': 'Georgia Tech', 'pedestrian': '...  \n",
       "4998  {'university': 'Georgia Tech', 'pedestrian': '...  \n",
       "4999  {'university': 'Harvard University', 'road': '...  \n",
       "5000  {'university': 'Georgia Tech', 'pedestrian': '...  \n",
       "5001  {'university': 'Georgia Tech', 'pedestrian': '...  \n",
       "5002  {'parking': 'B-3', 'road': 'South Mathews Aven...  \n",
       "5003  {'university': 'Georgia Tech', 'pedestrian': '...  \n",
       "5004  {'university': 'UCSF', 'road': 'Parnassus Aven...  \n",
       "5005  {'university': 'Stanford University', 'road': ...  \n",
       "5006  {'university': 'Georgia Tech', 'pedestrian': '...  \n",
       "5007  {'university': 'Georgia Tech', 'pedestrian': '...  \n",
       "5008  {'university': 'MIT', 'road': 'Massachusetts A...  \n",
       "5009  {'university': 'MIT', 'road': 'Massachusetts A...  \n",
       "5010  {'university': 'Duke University', 'pedestrian'...  \n",
       "5011  {'university': 'University of Virginia', 'road...  \n",
       "5012  {'university': 'Duke University', 'pedestrian'...  \n",
       "5013  {'university': 'University of Virginia', 'road...  \n",
       "5014  {'university': 'Duke University', 'pedestrian'...  \n",
       "\n",
       "[5015 rows x 9 columns]"
      ]
     },
     "execution_count": 23,
     "metadata": {},
     "output_type": "execute_result"
    }
   ],
   "source": [
    "#stipend_stats.to_csv('Stipend_Stats.txt', sep='\\t')\n",
    "stipend_stats = pd.read_csv('Stipend.txt', sep='\\t')\n",
    "stipend_stats"
   ]
  },
  {
   "cell_type": "code",
   "execution_count": 24,
   "metadata": {
    "collapsed": true
   },
   "outputs": [],
   "source": [
    "stipend_stats['Stipend'] = stipend_stats['Stipend'].str.replace(',', '')\n",
    "stipend_stats['Stipend'] = stipend_stats['Stipend'].str.replace('$', '')\n",
    "stipend_stats['Stipend'] = pd.to_numeric(stipend_stats['Stipend'])\n"
   ]
  },
  {
   "cell_type": "code",
   "execution_count": 1,
   "metadata": {},
   "outputs": [
    {
     "ename": "NameError",
     "evalue": "name 'stipend_stats' is not defined",
     "output_type": "error",
     "traceback": [
      "\u001b[1;31m---------------------------------------------------------------------------\u001b[0m",
      "\u001b[1;31mNameError\u001b[0m                                 Traceback (most recent call last)",
      "\u001b[1;32m<ipython-input-1-65dfcdf194db>\u001b[0m in \u001b[0;36m<module>\u001b[1;34m\u001b[0m\n\u001b[1;32m----> 1\u001b[1;33m \u001b[1;33m(\u001b[0m\u001b[0mlen\u001b[0m\u001b[1;33m(\u001b[0m\u001b[0mstipend_stats\u001b[0m\u001b[1;33m)\u001b[0m\u001b[1;33m-\u001b[0m\u001b[0mlen\u001b[0m\u001b[1;33m(\u001b[0m\u001b[0mstipend_stats\u001b[0m\u001b[1;33m.\u001b[0m\u001b[0mdropna\u001b[0m\u001b[1;33m(\u001b[0m\u001b[1;33m)\u001b[0m\u001b[1;33m)\u001b[0m\u001b[1;33m)\u001b[0m\u001b[1;33m/\u001b[0m\u001b[0mlen\u001b[0m\u001b[1;33m(\u001b[0m\u001b[0mstipend_stats\u001b[0m\u001b[1;33m)\u001b[0m\u001b[1;33m\u001b[0m\u001b[1;33m\u001b[0m\u001b[0m\n\u001b[0m",
      "\u001b[1;31mNameError\u001b[0m: name 'stipend_stats' is not defined"
     ]
    }
   ],
   "source": [
    "(len(stipend_stats)-len(stipend_stats.dropna()))/len(stipend_stats)"
   ]
  },
  {
   "cell_type": "code",
   "execution_count": 27,
   "metadata": {
    "collapsed": true
   },
   "outputs": [],
   "source": [
    "stipend_stats = stipend_stats.dropna().reset_index(drop=True)"
   ]
  },
  {
   "cell_type": "code",
   "execution_count": 202,
   "metadata": {},
   "outputs": [
    {
     "name": "stdout",
     "output_type": "stream",
     "text": [
      "Ingham County 1.61\n",
      "Denver County 0.92\n",
      "Dane County 0.91\n",
      "Suffolk County 1.15\n",
      "Orange County 1.69\n",
      "Hamilton County 0.65\n",
      "Los Angeles County 1.35\n",
      "Ingham County 1.61\n",
      "Denver County 0.92\n",
      "Dane County 0.91\n",
      "Suffolk County 1.15\n",
      "Orange County 1.69\n",
      "Hamilton County 0.65\n",
      "Los Angeles County 1.35\n",
      "Ingham County 1.61\n",
      "Denver County 0.92\n",
      "Dane County 0.91\n",
      "Suffolk County 1.15\n",
      "Orange County 1.69\n",
      "Hamilton County 0.65\n",
      "Los Angeles County 1.35\n",
      "Ingham County 1.61\n",
      "Denver County 0.92\n",
      "Dane County 0.91\n",
      "Suffolk County 1.15\n",
      "Orange County 1.69\n",
      "Hamilton County 0.65\n",
      "Los Angeles County 1.35\n",
      "Ingham County 1.61\n",
      "Denver County 0.92\n",
      "Dane County 0.91\n",
      "Suffolk County 1.15\n",
      "Orange County 1.69\n",
      "Hamilton County 0.65\n",
      "Los Angeles County 1.35\n",
      "Ingham County 1.61\n",
      "Denver County 0.92\n",
      "Dane County 0.91\n",
      "Suffolk County 1.15\n",
      "Orange County 1.69\n",
      "Hamilton County 0.65\n",
      "Los Angeles County 1.35\n",
      "Ingham County 1.61\n",
      "Denver County 0.92\n",
      "Dane County 0.91\n",
      "Suffolk County 1.15\n",
      "Orange County 1.69\n",
      "Hamilton County 0.65\n",
      "Los Angeles County 1.35\n",
      "Ingham County 1.61\n",
      "Denver County 0.92\n",
      "Dane County 0.91\n",
      "Suffolk County 1.15\n",
      "Orange County 1.69\n",
      "Hamilton County 0.65\n",
      "Los Angeles County 1.35\n",
      "Middlesex County 1.44\n",
      "Riley County 0.86\n",
      "Champaign County 1.08\n",
      "Los Angeles County 1.28\n",
      "Los Angeles County 1.27\n",
      "San Diego County 1.19\n",
      "Middlesex County 1.33\n",
      "Middlesex County 1.37\n",
      "Suffolk County 1.16\n",
      "Athens-Clarke County 1.18\n",
      "Ithaca Town 1.41\n",
      "Philadelphia County 1.45\n",
      "Knox County 0.79\n",
      "Sedgwick County 0.81\n",
      "Cook County 1.22\n",
      "Dallas County 0.86\n",
      "Wayne County 0.67\n",
      "Montgomery County 1.08\n",
      "Knox County 1.27\n",
      "SF 1.27\n",
      "Wake County 0.79\n",
      "Franklin County 1.31\n",
      "Middlesex County 1.34\n",
      "Oklahoma County 1.29\n",
      "Monroe County 1.59\n",
      "Kalamazoo County 0.73\n",
      "Orange County 1.53\n",
      "Dane County 1.11\n",
      "Fulton County 1.76\n",
      "Allegheny County 1.14\n",
      "Los Angeles County 1.24\n",
      "Alameda County 1.28\n",
      "Allegheny County 1.45\n",
      "Santa Cruz County 0.73\n",
      "Galveston County 1.42\n",
      "Wayne County 0.83\n",
      "Middlesex County 1.37\n",
      "Philadelphia County 0.97\n",
      "La Tour-du-Pin 0.15\n",
      "Ithaca Town 1.55\n",
      "Los Angeles County 1.08\n",
      "Davidson County 1.31\n",
      "Davidson County 1.31\n",
      "Philadelphia County 0.97\n",
      "Monroe County 1.35\n",
      "New York County 0.84\n",
      "Lubbock County 0.94\n",
      "Cook County 1.48\n",
      "Suffolk County 1.15\n",
      "Middlesex County 1.23\n",
      "Suffolk County 0.74\n",
      "Maricopa County 1.26\n",
      "Prince George's County 0.6\n",
      "Athens-Clarke County 1.11\n",
      "Los Angeles County 0.96\n",
      "Los Angeles County 1.35\n",
      "Los Angeles County 1.31\n",
      "Bristol 1.32\n",
      "Champaign County 1.14\n",
      "Philadelphia County 1.06\n",
      "Tippecanoe County 1.35\n",
      "Washtenaw County 1.4\n",
      "Boulder County 1.21\n",
      "SF 1.34\n",
      "Bernalillo County 1.09\n",
      "Santa Barbara County 1.29\n",
      "Philadelphia County 0.83\n",
      "Knox County 1.0\n",
      "Santa Clara County 1.18\n",
      "Durham County 1.25\n",
      "East Baton Rouge Parish 0.69\n",
      "Alachua County 1.67\n",
      "Albany County 0.81\n",
      "Saint Joseph County 1.52\n",
      "Dane County 1.02\n",
      "Maricopa County 1.21\n",
      "Mercer County 1.31\n",
      "Yolo County 1.25\n",
      "Northampton County 0.67\n",
      "Wayne County 0.63\n",
      "SF 1.34\n",
      "Durham County 1.63\n",
      "Maricopa County 1.26\n",
      "Maricopa County 1.49\n",
      "Multnomah County 1.13\n",
      "Washtenaw County 1.54\n",
      "Davidson County 1.68\n",
      "Bernalillo County 0.81\n",
      "Philadelphia County 0.97\n",
      "Philadelphia County 1.06\n",
      "Durham County 1.75\n",
      "Dane County 1.18\n",
      "Mercer County 1.35\n",
      "Champaign County 0.4\n",
      "Champaign County 0.41\n",
      "Champaign County 0.55\n",
      "Maricopa County 0.75\n",
      "Orange County 0.95\n",
      "Alameda County 1.3\n",
      "New York County 1.37\n",
      "Orange County 0.81\n",
      "Boulder County 1.07\n",
      "Durham County 1.31\n",
      "SF 1.27\n",
      "Mercer County 1.46\n",
      "Centre County 0.98\n",
      "Montgomery County 1.05\n",
      "Mercer County 1.83\n",
      "Orange County 0.72\n",
      "Mercer County 1.69\n",
      "Travis County 0.57\n",
      "Riverside County 1.22\n",
      "Coconino County 1.2\n",
      "Middlesex County 1.21\n",
      "Alameda County 1.22\n",
      "Philadelphia County 1.05\n",
      "Wayne County 1.18\n",
      "Bristol 1.36\n",
      "Montgomery County 0.68\n",
      "Los Angeles County 1.49\n",
      "Oktibbeha County 1.1\n",
      "City of Saint Louis 1.26\n",
      "Tolland County 1.04\n",
      "Santa Clara County 1.41\n",
      "Middlesex County 0.75\n",
      "Orange County 0.82\n",
      "Prince George's County 0.8\n",
      "New York County 0.8\n",
      "New York County 0.8\n",
      "Alameda County 1.1\n",
      "Ramsey County 1.1\n",
      "Lane County 0.39\n",
      "Cook County 1.22\n",
      "Cache County 0.92\n",
      "Maricopa County 0.77\n",
      "Davidson County 1.05\n",
      "Shelby County 0.71\n",
      "New York County 0.84\n",
      "New York County 0.42\n",
      "Richland County 0.3\n",
      "Athens-Clarke County 1.17\n",
      "Washtenaw County 1.37\n",
      "Miami-Dade County 1.2\n",
      "Honolulu County 0.96\n",
      "Miami-Dade County 1.26\n",
      "Miami-Dade County 1.26\n",
      "Athens-Clarke County 1.16\n",
      "Middlesex County 1.38\n",
      "Suffolk County 1.21\n",
      "Santa Clara County 1.44\n",
      "Athens-Clarke County 1.22\n",
      "Baltimore County 0.81\n",
      "Washoe County 1.08\n",
      "Dane County 1.28\n",
      "Champaign County 0.08\n",
      "Middlesex County 1.25\n",
      "Ramsey County 1.37\n",
      "Hudson County 0.95\n",
      "Monroe County 1.73\n",
      "Lane County 1.26\n",
      "Bristol 1.71\n",
      "Mercer County 1.32\n",
      "Guilford County 0.73\n",
      "Santa Clara County 1.56\n",
      "Orange County 0.85\n",
      "Tolland County 0.99\n",
      "Ithaca Town 1.32\n",
      "Yolo County 1.13\n",
      "Middlesex County 0.09\n",
      "Orange County 1.02\n",
      "Los Angeles County 1.12\n",
      "New York County 1.0\n",
      "Guilford County 0.76\n",
      "Cook County 1.42\n",
      "Dane County 1.07\n",
      "Suffolk County 1.18\n",
      "Payne County 1.23\n",
      "Bannock County 0.88\n",
      "Travis County 1.06\n",
      "Prince George's County 0.73\n",
      "Dane County 0.05\n",
      "Champaign County 1.2\n",
      "Orange County 0.95\n",
      "New York County 1.23\n",
      "Ramsey County 1.1\n",
      "San Diego County 1.21\n",
      "Champaign County 1.07\n",
      "Davidson County 1.62\n",
      "Travis County 0.88\n",
      "King County 0.99\n",
      "Multnomah County 1.6\n",
      "Orange County 1.02\n",
      "Saint Joseph County 1.46\n",
      "Orange County 1.04\n",
      "Orange County 1.04\n",
      "Orange County 0.01\n",
      "Philadelphia County 1.44\n",
      "Mercer County 1.37\n",
      "Champaign County 1.82\n",
      "Champaign County 1.63\n",
      "Champaign County 1.68\n",
      "Champaign County 1.68\n",
      "Champaign County 1.76\n",
      "Champaign County 1.76\n",
      "Fulton County 8.28\n",
      "Champaign County 0.98\n",
      "Bristol 1.54\n",
      "Champaign County 1.55\n",
      "Champaign County 1.2\n",
      "Alachua County 0.59\n",
      "Alachua County 1.01\n",
      "Champaign County 0.93\n",
      "Philadelphia County 1.04\n",
      "Alameda County 1.33\n",
      "Dane County 1.23\n",
      "Washtenaw County 1.37\n",
      "New Haven County 1.48\n",
      "King County 0.99\n",
      "Wayne County 0.67\n",
      "New York County 0.88\n",
      "Alameda County 1.08\n",
      "Alameda County 1.19\n",
      "Mercer County 1.18\n",
      "Centre County 0.76\n",
      "Alameda County 1.22\n",
      "Suffolk County 1.02\n",
      "Ramsey County 0.91\n",
      "Ramsey County 0.97\n",
      "Wake County 1.05\n",
      "Alachua County 1.51\n",
      "Lane County 1.23\n",
      "Multnomah County 0.05\n",
      "Snohomish County 0.96\n",
      "Durham County 1.43\n",
      "Erie County 0.83\n",
      "Yolo County 0.86\n",
      "Hampshire 1.03\n",
      "Johnson County 1.1\n",
      "Onondaga County 0.71\n",
      "Middlesex County 1.25\n",
      "Middlesex County 1.39\n",
      "Maricopa County 1.03\n",
      "King County 0.97\n",
      "Los Angeles County 0.81\n",
      "Santa Clara County 1.56\n",
      "Santa Clara County 1.31\n",
      "Orange County 0.5\n",
      "Washtenaw County 1.25\n",
      "Dane County 0.98\n",
      "Santa Clara County 1.29\n",
      "Washtenaw County 1.07\n",
      "DeKalb County 1.44\n",
      "DeKalb County 1.44\n",
      "Cook County 1.59\n",
      "Knox County 1.59\n",
      "Knox County 1.06\n",
      "New York County 1.0\n",
      "Franklin County 0.86\n",
      "Travis County 1.18\n",
      "Ithaca Town 1.55\n",
      "Wayne County 0.71\n",
      "King County 0.85\n",
      "Cook County 1.35\n",
      "Ithaca Town 1.36\n",
      "Los Angeles County 1.18\n",
      "Washtenaw County 1.17\n",
      "Orange County 0.9\n",
      "Washtenaw County 1.09\n",
      "Middlesex County 1.25\n",
      "Orange County 0.8\n",
      "Centre County 1.14\n",
      "Allegheny County 0.91\n",
      "City of Saint Louis 1.21\n",
      "Durham County 1.75\n",
      "King County 0.93\n",
      "Coconino County 1.15\n",
      "Cook County 1.35\n",
      "Miami-Dade County 1.14\n",
      "Leon County 0.78\n",
      "Alameda County 1.3\n",
      "Los Angeles County 1.44\n",
      "Los Angeles County 1.31\n",
      "Los Angeles County 1.31\n",
      "Los Angeles County 1.31\n",
      "Los Angeles County 1.31\n",
      "Tolland County 1.23\n",
      "Cook County 1.31\n",
      "Alameda County 1.3\n",
      "Milwaukee County 1.4\n",
      "Miami-Dade County 0.88\n",
      "Miami-Dade County 1.05\n",
      "Ithaca Town 1.32\n",
      "Lee County 0.96\n",
      "City of Saint Louis 1.48\n",
      "Snohomish County 1.42\n",
      "Brookings County 2.26\n",
      "New Haven County 1.45\n",
      "King County 1.25\n",
      "Los Angeles County 1.16\n",
      "Athens County 1.09\n",
      "Davidson County 1.49\n",
      "Middlesex County 1.17\n",
      "Los Angeles County 1.16\n",
      "Davidson County 1.31\n",
      "Wayne County 0.96\n",
      "Monroe County 1.5\n",
      "Middlesex County 0.72\n",
      "East Baton Rouge Parish 0.88\n",
      "Missoula County 0.88\n",
      "New York County 0.95\n",
      "Orange County 0.78\n",
      "Alameda County 1.04\n",
      "Philadelphia County 1.24\n",
      "Montgomery County 1.3\n",
      "Santa Clara County 1.32\n",
      "Middlesex County 1.39\n",
      "City of Saint Louis 1.23\n",
      "Franklin County 0.48\n",
      "Athens-Clarke County 0.71\n",
      "Monroe County 0.82\n",
      "Monroe County 0.93\n",
      "Monroe County 1.1\n",
      "Monroe County 0.84\n",
      "DeKalb County 0.33\n",
      "SF 1.27\n",
      "Riverside County 0.75\n",
      "Worcester 1.42\n",
      "Milwaukee County 0.7\n",
      "Boulder County 1.33\n",
      "Shelby County 1.18\n",
      "Montgomery County 2.04\n",
      "Travis County 0.89\n",
      "Boone County 1.0\n",
      "Leon County 0.64\n",
      "Dallas County 1.48\n",
      "Durham County 1.98\n",
      "Monroe County 1.36\n",
      "Houghton County 1.26\n",
      "Ramsey County 0.88\n",
      "Monroe County 1.31\n",
      "East Baton Rouge Parish 0.69\n",
      "Cuyahoga County 0.45\n",
      "Athens-Clarke County 0.03\n",
      "Washtenaw County 1.33\n",
      "Travis County 1.06\n",
      "Fulton County 1.09\n",
      "Leon County 0.6\n",
      "Tippecanoe County 1.12\n",
      "Erie County 0.85\n",
      "DeKalb County 1.3\n",
      "Alameda County 1.1\n",
      "Harris County 1.07\n",
      "Middlesex County 1.31\n",
      "Riverside County 0.49\n",
      "Lee County 1.12\n",
      "Tolland County 0.94\n",
      "Santa Cruz County 1.16\n",
      "Philadelphia County 0.94\n",
      "Alameda County 1.55\n",
      "Franklin County 1.22\n",
      "Suffolk County 1.21\n",
      "Tippecanoe County 1.77\n",
      "Bannock County 0.98\n",
      "Ingham County 1.43\n",
      "Maricopa County 0.84\n",
      "Multnomah County 1.03\n",
      "Walker County 0.99\n",
      "Milwaukee County 0.98\n",
      "Douglas County 1.1\n",
      "Los Angeles County 1.22\n",
      "Durham County 1.39\n",
      "Santa Clara County 1.4\n",
      "Alameda County 1.08\n",
      "Wayne County 0.67\n",
      "Fulton County 0.47\n",
      "Houghton County 1.03\n",
      "Orange County 1.03\n",
      "City of Saint Louis -0.48\n",
      "Boone County 1.0\n",
      "Los Angeles County 1.56\n",
      "Middlesex County 0.49\n",
      "Middlesex County 1.06\n",
      "Santa Cruz County 1.18\n",
      "Yolo County 1.28\n",
      "Multnomah County 1.24\n",
      "New Castle County 0.72\n",
      "Erie County 0.95\n",
      "Maricopa County 0.87\n",
      "Brookings County 1.61\n",
      "Dane County 1.14\n",
      "Dane County 1.14\n",
      "Dane County 1.14\n",
      "Dane County 1.14\n",
      "Dane County 1.14\n",
      "Dane County 1.14\n",
      "Suffolk County 1.12\n",
      "Davidson County 1.13\n",
      "Orange County 1.08\n",
      "Maricopa County 1.28\n",
      "Maricopa County 13.45\n",
      "Wood County 0.67\n",
      "Summit County 0.64\n",
      "Summit County 0.91\n",
      "Hillsborough County 0.73\n",
      "Santa Clara County 1.29\n",
      "Baltimore County 0.58\n",
      "Allegheny County 1.16\n",
      "Montgomery County 1.03\n",
      "Shelby County 0.6\n",
      "Shelby County 0.6\n",
      "Centre County 1.18\n",
      "Tippecanoe County 0.79\n",
      "Fairfax County 0.99\n",
      "Montgomery County 1.32\n",
      "Johnson County 0.83\n",
      "Richland County 0.56\n",
      "Orange County 0.75\n",
      "Prince George's County 0.6\n",
      "Jackson County 0.58\n",
      "King County 1.12\n",
      "Orange County 1.08\n",
      "New York County 1.14\n",
      "King County 1.32\n",
      "Fulton County 0.43\n",
      "Centre County 1.1\n",
      "San Diego County 1.21\n",
      "Cook County 0.98\n",
      "Honolulu County 0.56\n",
      "Dane County 1.07\n",
      "New Castle County 0.83\n",
      "Douglas County 1.25\n",
      "New York County 1.33\n",
      "Los Angeles County 1.31\n",
      "Los Angeles County 1.4\n",
      "Ithaca Town 1.31\n",
      "Bristol 1.46\n",
      "Los Angeles County 1.28\n",
      "Rockingham County 1.3\n",
      "Orange County 0.9\n",
      "Los Angeles County 1.29\n",
      "DeKalb County 1.31\n",
      "Los Angeles County 1.31\n",
      "Cache County 0.94\n",
      "Orange County 1.57\n",
      "Dane County 0.92\n",
      "Maricopa County 1.17\n",
      "Ithaca Town 1.32\n",
      "Middlesex County 2.73\n",
      "New Haven County 1.25\n",
      "Salt Lake County 1.26\n",
      "Gallatin County 1.01\n",
      "Los Angeles County 1.57\n",
      "San Diego County 0.76\n",
      "Washington County 1.95\n",
      "New York County 1.29\n",
      "Oktibbeha County 0.37\n",
      "Ramsey County 1.05\n",
      "Alachua County 1.29\n",
      "Hampshire 1.1\n",
      "Los Angeles County 1.16\n",
      "Middlesex County 1.13\n",
      "East Baton Rouge Parish 1.38\n",
      "Champaign County 1.09\n",
      "Honolulu County 0.7\n",
      "Cook County 1.22\n",
      "Story County 1.19\n",
      "Allegheny County 0.1\n",
      "Denton County 0.09\n",
      "Champaign County 0.72\n",
      "Champaign County 0.65\n",
      "New Haven County 1.42\n",
      "Suffolk County 1.07\n",
      "Fulton County 0.95\n",
      "Mercer County 0.87\n",
      "Fulton County 0.97\n",
      "Middlesex County 1.26\n",
      "Knox County 0.94\n",
      "Dane County 1.01\n",
      "Durham County 1.53\n",
      "East Baton Rouge Parish 0.85\n",
      "Wayne County 0.49\n",
      "Wayne County 0.47\n",
      "Wayne County 0.67\n",
      "Durham County 1.41\n",
      "Northampton County 1.52\n",
      "Athens-Clarke County 1.1\n",
      "Middlesex County 1.56\n",
      "Miami-Dade County 0.83\n",
      "Santa Clara County 1.35\n",
      "New York County 1.15\n",
      "Ingham County 1.3\n",
      "Boone County 1.31\n",
      "King County 1.46\n",
      "SF 1.24\n",
      "Centre County 1.22\n",
      "Centre County 1.02\n",
      "Middlesex County 1.15\n",
      "Bristol 1.7\n",
      "Alameda County 1.15\n",
      "Montgomery County 0.75\n",
      "Monroe County 1.31\n",
      "Hamilton County 0.97\n",
      "Los Angeles County 0.93\n",
      "Los Angeles County 0.93\n",
      "Hamilton County 0.61\n",
      "Tippecanoe County 1.02\n",
      "Boone County 0.88\n",
      "Prince George's County 0.81\n",
      "Prince George's County 0.83\n",
      "Montgomery County 1.17\n",
      "Monroe County 1.26\n",
      "Monroe County 0.13\n",
      "Clark County 0.64\n",
      "Orange County 1.12\n",
      "Champaign County 1.14\n",
      "Cook County 1.24\n",
      "Yolo County 0.77\n",
      "Orange County 0.96\n",
      "Los Angeles County 1.26\n",
      "Orange County 0.36\n",
      "Maricopa County 1.15\n",
      "Orange County 0.81\n",
      "Los Angeles County 1.39\n",
      "Santa Clara County 1.14\n",
      "Harris County 1.24\n",
      "Ithaca Town 1.48\n",
      "Allegheny County 0.89\n",
      "Maricopa County 0.87\n",
      "Boulder County 0.8\n",
      "Maricopa County 0.98\n",
      "Maricopa County 0.9\n",
      "New York County 1.07\n",
      "Montgomery County 0.58\n",
      "Monroe County 1.26\n",
      "Marion County 1.31\n",
      "Wayne County 0.89\n",
      "Cook County 1.09\n",
      "Boone County 1.22\n",
      "Boone County 1.22\n",
      "Ramsey County 0.71\n",
      "Cook County 1.52\n",
      "Gallatin County 1.07\n",
      "Orange County 0.87\n",
      "San Diego County 1.4\n",
      "Bristol 1.32\n",
      "Providence 0.75\n",
      "Fulton County 1.04\n",
      "Orange County 0.86\n",
      "Davidson County 1.13\n",
      "Los Angeles County -0.48\n",
      "Middlesex County 1.29\n",
      "Los Angeles County 1.14\n",
      "Ithaca Town 1.45\n",
      "Bristol County 0.61\n",
      "Montgomery County 1.03\n",
      "Alachua County 0.95\n",
      "Tippecanoe County 0.87\n",
      "Tippecanoe County 0.12\n",
      "Washtenaw County 1.41\n",
      "Athens County 0.81\n",
      "Story County 1.3\n",
      "Franklin County 1.38\n",
      "Harris County 1.37\n",
      "Allegheny County 1.06\n",
      "Middlesex County 1.18\n",
      "Fulton County 0.9\n",
      "Hamilton County 1.35\n",
      "Cook County 1.15\n",
      "Albany County 1.05\n",
      "Tuscaloosa County 1.1\n",
      "Fulton County 1.07\n",
      "Cuyahoga County 1.23\n",
      "Los Angeles County 1.04\n",
      "Los Angeles County 1.04\n",
      "Santa Clara County 1.4\n",
      "Harris County 0.92\n",
      "Philadelphia County 0.87\n",
      "Allegheny County 0.71\n",
      "Allegheny County 0.08\n",
      "Salt Lake County 0.88\n",
      "San Diego County 1.1\n",
      "Столична 0.9\n",
      "Los Angeles County 1.31\n",
      "Allegheny County 0.82\n",
      "New Haven County 1.56\n",
      "Fulton County 0.77\n",
      "Travis County 0.88\n",
      "Franklin County 1.26\n",
      "Middlesex County 1.17\n",
      "Hampshire 0.77\n",
      "Middlesex County 1.23\n",
      "Cache County 0.48\n",
      "Montgomery County 0.75\n",
      "Monroe County 1.24\n",
      "Orleans Parish 1.32\n",
      "Denver County 0.88\n",
      "Middlesex County 1.26\n",
      "Salt Lake County 1.15\n",
      "Middlesex County 0.75\n",
      "Onondaga County 0.84\n",
      "Orange County 0.77\n",
      "Jefferson County 1.0\n",
      "Lancaster County 0.82\n",
      "Miami-Dade County 0.71\n",
      "Cook County 1.31\n",
      "Middlesex County 1.22\n",
      "Middlesex County 1.11\n",
      "New York County 1.18\n",
      "Tippecanoe County 1.35\n",
      "Bronx County 0.77\n",
      "Durham County 1.82\n",
      "Los Angeles County 1.11\n",
      "New York County 1.27\n",
      "Tippecanoe County 0.97\n",
      "Champaign County 1.17\n",
      "Denver County 0.89\n",
      "Maricopa County 0.78\n",
      "Lancaster County 0.59\n",
      "Dallas County 1.6\n",
      "Orleans Parish 0.72\n",
      "Boulder County 0.75\n",
      "San Diego County 1.51\n",
      "Boulder County 0.85\n",
      "Rockingham County 1.26\n",
      "Snohomish County 0.79\n",
      "Salt Lake County 0.7\n",
      "Centre County 0.89\n",
      "Utah County 1.11\n",
      "Allegheny County 1.3\n",
      "Cook County 1.27\n",
      "Tippecanoe County 1.32\n",
      "Harris County 1.37\n",
      "Lafayette County 1.15\n",
      "Santa Barbara County 0.75\n",
      "Ithaca Town 1.79\n",
      "Travis County 1.07\n",
      "East Baton Rouge Parish 1.02\n",
      "Lee County 1.11\n",
      "Salt Lake County 1.26\n",
      "Philadelphia County 1.17\n",
      "Alameda County 1.44\n",
      "Santa Clara County 1.24\n",
      "Erie County 0.91\n",
      "SF 1.2\n",
      "Northampton County 0.31\n",
      "Fulton County 1.05\n",
      "San Diego County 1.13\n",
      "Cook County 1.23\n",
      "Ithaca Town 1.53\n",
      "New Castle County 1.1\n",
      "DeKalb County 0.64\n",
      "Fulton County 1.03\n",
      "Knox County 1.35\n",
      "Middlesex County 1.2\n",
      "Philadelphia County 1.31\n",
      "Durham County 1.37\n",
      "New York County 1.07\n",
      "Orange County 1.44\n",
      "New Castle County 1.16\n",
      "Cook County 1.27\n",
      "Washtenaw County 1.11\n",
      "Fairfax County 0.48\n",
      "Ithaca Town 1.38\n",
      "Shelby County 1.56\n",
      "Washtenaw County 1.28\n",
      "Pickens County 1.34\n",
      "San Diego County 1.32\n",
      "Middlesex County 1.17\n",
      "Lubbock County 0.89\n",
      "Riley County 0.53\n",
      "New York County 0.81\n",
      "Richland County 0.96\n",
      "Orange County 0.79\n",
      "New York County 1.09\n",
      "Montgomery County 0.91\n",
      "Erie County 0.97\n",
      "Worcester 0.11\n",
      "Salt Lake County 1.53\n",
      "Middlesex County 1.21\n",
      "Middlesex County 1.21\n",
      "Athens-Clarke County 1.18\n",
      "Athens-Clarke County 1.18\n",
      "Harris County 1.33\n",
      "Monroe County 1.33\n",
      "Boulder County 0.83\n",
      "Travis County 0.79\n",
      "Travis County 0.73\n",
      "San Diego County 0.87\n",
      "Jackson County 0.55\n",
      "Santa Clara County 1.39\n",
      "Salt Lake County 0.85\n",
      "Los Angeles County 1.0\n",
      "Santa Clara County 1.54\n",
      "Santa Clara County 1.39\n",
      "Fayette County 0.8\n",
      "Alachua County 1.24\n",
      "Monongalia County 1.02\n",
      "Miami-Dade County 0.85\n",
      "Cook County 1.65\n",
      "Coconino County 0.85\n",
      "Saint Joseph County 0.95\n",
      "Onondaga County 1.58\n",
      "Fayette County 1.37\n",
      "Fayette County 1.06\n",
      "Fayette County 1.22\n",
      "Fayette County 0.85\n",
      "Fayette County 0.69\n",
      "Fayette County 1.15\n",
      "Fayette County 1.1\n",
      "Fayette County 0.78\n",
      "Denton County 0.89\n",
      "Richland County 0.73\n",
      "Cass County 0.79\n",
      "Lafayette County 0.99\n",
      "Fayette County 1.07\n",
      "Montgomery County 0.68\n",
      "Wayne County 1.16\n",
      "Montgomery County 0.86\n",
      "Montgomery County 0.72\n",
      "Montgomery County 0.76\n",
      "Montgomery County 0.79\n",
      "Hamilton County 1.41\n",
      "Durham County 1.53\n",
      "Fulton County 0.96\n",
      "Washington County 0.2\n",
      "Fayette County 0.34\n",
      "Washtenaw County 1.28\n",
      "Washtenaw County 0.11\n",
      "Fayette County 1.21\n",
      "Montgomery County 0.86\n",
      "Fayette County 1.22\n",
      "Centre County 1.32\n",
      "El Paso County 1.15\n",
      "Maricopa County 1.09\n",
      "Tippecanoe County 0.91\n",
      "Los Angeles County 1.15\n",
      "Tuscaloosa County 0.83\n",
      "Tuscaloosa County 0.97\n",
      "Erie County 0.77\n",
      "Story County 1.22\n",
      "Montgomery County 1.25\n",
      "Orange County 1.3\n",
      "Wake County 0.59\n",
      "Snohomish County 1.18\n",
      "Palm Beach County 0.75\n",
      "Story County 0.76\n"
     ]
    },
    {
     "name": "stdout",
     "output_type": "stream",
     "text": [
      "Story County 0.07\n",
      "Cache County 1.62\n",
      "Cache County 0.81\n",
      "Wayne County 0.67\n",
      "Hinds County 1.48\n",
      "Orange County 0.81\n",
      "Monroe County 1.26\n",
      "Middlesex County 1.33\n",
      "Davidson County 1.22\n",
      "Athens-Clarke County 0.89\n",
      "Ingham County 1.24\n",
      "Philadelphia County 1.16\n",
      "Yolo County 1.04\n",
      "Orange County 1.03\n",
      "Fairfax County 0.54\n",
      "Suffolk County 1.04\n",
      "Franklin County 1.35\n",
      "San Diego County 0.87\n",
      "Yolo County 1.13\n",
      "Missoula County 0.88\n",
      "Boulder County 0.16\n",
      "DeKalb County 1.25\n",
      "San Diego County 1.1\n",
      "King County 1.01\n",
      "Athens County 0.86\n",
      "Athens County 0.89\n",
      "New York County 1.35\n",
      "Athens-Clarke County 0.6\n",
      "Wayne County 0.73\n",
      "Middlesex County 0.61\n",
      "Orange County 1.33\n",
      "New York County 1.22\n",
      "New York County 1.03\n",
      "Champaign County 1.09\n",
      "Prince George's County 1.03\n",
      "Cook County 1.4\n",
      "Orange County 0.72\n",
      "Orange County 0.67\n",
      "Los Angeles County 1.31\n",
      "Cook County 1.44\n",
      "Alameda County 0.94\n",
      "Maricopa County 0.79\n",
      "Hamilton County 1.4\n",
      "Boulder County 1.27\n",
      "Franklin County 1.5\n",
      "City of Saint Louis 0.94\n",
      "Fayette County 1.02\n",
      "Yolo County 0.9\n",
      "Orange County 0.72\n",
      "Tulsa County 0.89\n",
      "Riverside County 0.66\n",
      "Champaign County 0.9\n",
      "Palm Beach County 0.8\n",
      "Ithaca Town 1.41\n",
      "Durham County 2.02\n",
      "Riverside County 0.94\n",
      "Maricopa County 1.0\n",
      "SF 1.14\n",
      "DeKalb County 0.91\n",
      "Cabell County 1.27\n",
      "Rutherford County 0.39\n",
      "Essex County 0.92\n",
      "Chittenden County 0.96\n",
      "Middlesex County 1.14\n",
      "Ithaca Town 1.25\n",
      "Ithaca Town 1.39\n",
      "Prince George's County 1.19\n",
      "Knox County 1.02\n",
      "Knox County 1.02\n",
      "Knox County 0.94\n",
      "King County 1.17\n",
      "Suffolk County 1.1\n",
      "Alameda County 0.86\n",
      "Maricopa County 0.89\n",
      "Guilford County 0.62\n",
      "Suffolk County 1.12\n",
      "Ithaca Town 1.32\n",
      "Travis County 0.85\n",
      "Saint Joseph County 1.42\n",
      "New Haven County 1.34\n",
      "Santa Clara County 1.29\n",
      "City of Saint Louis 1.04\n",
      "Ithaca Town 1.32\n",
      "Kalamazoo County 0.61\n",
      "New York County 0.84\n",
      "San Diego County 1.02\n",
      "Centre County 1.45\n",
      "Riverside County 1.99\n",
      "Washoe County 0.78\n",
      "Dane County 0.97\n",
      "Middlesex County 1.23\n",
      "Yolo County 1.02\n",
      "Harris County 0.9\n",
      "New York County 1.22\n",
      "Travis County 0.74\n",
      "Franklin County 1.24\n",
      "San Diego County 0.79\n",
      "Cook County 1.2\n",
      "Cook County 11.99\n",
      "Orange County 0.68\n",
      "Ingham County 0.98\n",
      "Fayette County 0.57\n",
      "Albany County 0.37\n",
      "Bristol 1.19\n",
      "Santa Cruz County 0.68\n",
      "Philadelphia County 1.29\n",
      "New Haven County 1.2\n",
      "Lee County 0.69\n",
      "Fulton County 0.91\n",
      "Knox County 1.3\n",
      "Orange County 1.09\n",
      "Suffolk County 0.7\n",
      "Merced County 0.9\n",
      "Bristol 1.19\n",
      "Dallas County 0.74\n",
      "Travis County 1.01\n",
      "Travis County 0.88\n",
      "Middlesex County 1.16\n",
      "Philadelphia County 1.0\n",
      "Cook County 1.23\n",
      "Montgomery County 0.7\n",
      "Middlesex County 1.03\n",
      "Orange County 0.77\n",
      "Davidson County 1.23\n",
      "Saint Louis County 0.58\n",
      "San Diego County 0.83\n",
      "San Diego County 1.04\n",
      "King County 0.89\n",
      "Dane County 0.77\n",
      "Multnomah County 0.87\n",
      "Cook County 1.11\n",
      "Allegheny County 1.08\n",
      "Fayette County 0.7\n",
      "Ithaca Town 1.53\n",
      "New York County 1.2\n",
      "Santa Clara County 1.53\n",
      "Davidson County 0.87\n",
      "Santa Cruz County 1.14\n",
      "Santa Clara County 0.97\n",
      "Travis County 1.45\n",
      "Saint Joseph County 1.12\n",
      "Lubbock County 0.62\n",
      "Oktibbeha County 0.83\n",
      "Washtenaw County 1.1\n",
      "Middlesex County 1.28\n",
      "New York County 1.03\n",
      "Jefferson County 0.99\n",
      "Ithaca Town 1.24\n",
      "Saint Joseph County 1.37\n",
      "Wake County 0.71\n",
      "Boulder County 0.68\n",
      "Yolo County 0.81\n",
      "New Castle County 0.72\n",
      "Hamilton County 1.04\n",
      "Centre County 0.97\n",
      "Cook County 1.26\n",
      "Monongalia County 0.72\n",
      "Cook County 1.26\n",
      "Orange County 0.71\n",
      "Knox County 0.73\n",
      "Washtenaw County 1.14\n",
      "Snohomish County 0.63\n",
      "Durham County 1.26\n",
      "Orange County 0.69\n",
      "Santa Clara County 1.21\n",
      "New York County 0.84\n",
      "SF 1.2\n",
      "Franklin County 1.19\n",
      "Durham County 1.53\n",
      "Wayne County 0.99\n",
      "Dallas County 0.93\n",
      "Dallas County 0.1\n",
      "Hamilton County 1.55\n",
      "Leon County 0.53\n",
      "New York County 0.9\n",
      "Philadelphia County 1.29\n",
      "Cache County 0.67\n",
      "Philadelphia County 0.87\n",
      "Harris County 1.2\n",
      "Shelby County 1.01\n",
      "Shelby County 1.08\n",
      "Franklin County 1.11\n",
      "Ingham County 2.3\n",
      "City of Saint Louis 1.89\n",
      "Hamilton County 1.54\n",
      "Washington County 1.97\n",
      "Champaign County 0.88\n",
      "Lee County 1.07\n",
      "San Diego County 1.13\n",
      "New Haven County 1.29\n",
      "Davidson County 1.18\n",
      "Cook County 1.03\n",
      "Santa Clara County 1.47\n",
      "Cook County 1.48\n",
      "Ithaca Town 1.38\n",
      "Denton County 0.39\n",
      "Cook County 1.34\n",
      "Philadelphia County 1.29\n",
      "Forsyth County 0.46\n",
      "Guilford County 0.76\n",
      "New York County 0.61\n",
      "Cook County 1.35\n",
      "Ithaca Town 2.27\n",
      "Alameda County 1.12\n",
      "Suffolk County 1.08\n",
      "Prince George's County 1.03\n",
      "Champaign County 1.59\n",
      "Saint Joseph County 1.56\n",
      "Cuyahoga County 1.38\n",
      "Santa Barbara County 0.7\n",
      "Champaign County 0.95\n",
      "Champaign County 0.71\n",
      "Champaign County 0.47\n",
      "New York County 0.79\n",
      "Dane County 0.83\n",
      "Fulton County 0.66\n",
      "Montgomery County 1.14\n",
      "East Baton Rouge Parish 1.04\n",
      "Athens County 0.82\n",
      "East Baton Rouge Parish 1.19\n",
      "Boulder County 1.26\n",
      "Suffolk County 0.7\n",
      "Mercer County 1.2\n",
      "Monroe County 1.56\n",
      "Allegheny County 1.2\n",
      "Yolo County 0.81\n",
      "Yolo County 1.2\n",
      "Yolo County 0.96\n",
      "Davidson County 1.24\n",
      "Yolo County 1.03\n",
      "Fulton County -0.06\n",
      "DeKalb County 1.16\n",
      "DeKalb County 1.05\n",
      "Wake County 0.76\n",
      "DeKalb County 0.97\n",
      "DeKalb County 0.91\n",
      "DeKalb County 1.07\n",
      "DeKalb County 1.03\n",
      "Orleans Parish 1.07\n",
      "Wood County 1.16\n",
      "Kodiak Island 1.44\n",
      "Harris County 1.35\n",
      "Maricopa County 0.92\n",
      "Alachua County 0.91\n",
      "Fulton County -0.01\n",
      "Fulton County 1.13\n",
      "Orange County 1.53\n",
      "Orange County 1.81\n",
      "Orange County 1.53\n",
      "Maricopa County 1.31\n",
      "Centre County 1.54\n",
      "Orange County 0.94\n",
      "Orange County 1.17\n",
      "Tarrant County 0.78\n",
      "Suffolk County 1.16\n",
      "Richland County 1.24\n",
      "Santa Clara County 0.84\n",
      "Riley County 0.04\n",
      "Santa Clara County 1.36\n",
      "Maricopa County 0.86\n",
      "Los Angeles County 1.44\n",
      "Philadelphia County 1.33\n",
      "Philadelphia County 1.29\n",
      "Harris County 1.51\n",
      "Mobile County 1.19\n",
      "Wake County 0.41\n",
      "Douglas County 0.75\n",
      "Alameda County 1.74\n",
      "Wayne County 1.06\n",
      "Santa Clara County 1.54\n",
      "Hampshire 0.84\n",
      "Santa Cruz County 0.94\n",
      "Miami-Dade County 1.25\n",
      "Johnson County 0.42\n",
      "Johnson County 1.28\n",
      "Durham County 0.74\n",
      "Story County 0.95\n",
      "Santa Clara County 1.36\n",
      "New Castle County 1.34\n",
      "Monroe County 1.64\n",
      "Monroe County 1.64\n",
      "Monroe County 1.37\n",
      "Davidson County 1.2\n",
      "Santa Barbara County 1.02\n",
      "Cook County 1.29\n",
      "New York County 1.27\n",
      "Los Angeles County 1.18\n",
      "Middlesex County 1.17\n",
      "Fulton County 1.06\n",
      "Tuscaloosa County 0.71\n",
      "Alameda County 1.86\n",
      "Harris County 1.01\n",
      "Harris County 1.01\n",
      "Saint Joseph County 1.26\n",
      "Tippecanoe County 1.01\n",
      "San Diego County 1.27\n",
      "Santa Clara County 1.38\n",
      "Monroe County 1.53\n",
      "Durham County 1.33\n",
      "Wood County 0.63\n",
      "Athens-Clarke County 1.39\n",
      "Los Angeles County 1.3\n",
      "Los Angeles County 1.3\n",
      "Santa Barbara County 1.17\n",
      "Fulton County 0.43\n",
      "New Haven County 1.59\n",
      "Fulton County 1.12\n",
      "Johnson County 1.29\n",
      "Wake County 0.94\n",
      "Fulton County 2.29\n",
      "Durham County 1.15\n",
      "Durham County 1.15\n",
      "Cook County 1.27\n",
      "Orange County 0.59\n",
      "Harris County 1.17\n",
      "Santa Clara County 1.48\n",
      "Durham County 1.57\n",
      "Cook County 1.28\n",
      "Orange County 1.0\n",
      "Los Angeles County 1.27\n",
      "Harris County 1.51\n",
      "Santa Clara County 1.28\n",
      "Cook County -0.14\n",
      "Fulton County 1.45\n",
      "Santa Barbara County 0.75\n"
     ]
    }
   ],
   "source": [
    "\n",
    "i = 0\n",
    "for loc in stipend_stats['Location']:\n",
    "    try:\n",
    "        print(#stipend_stats['University'][i] + ' ' + \n",
    "              literal_eval(loc)['county'] + ' ' + \n",
    "             str(stipend_stats['LW Ratio'][i]))\n",
    "        i += 1\n",
    "    except:\n",
    "        i += 1\n",
    "        pass"
   ]
  },
  {
   "cell_type": "code",
   "execution_count": 29,
   "metadata": {
    "collapsed": true
   },
   "outputs": [],
   "source": [
    "from ast import literal_eval\n",
    "#when reading CSV\n",
    "stipend_stats['Location'] = stipend_stats['Location'].apply(lambda x: literal_eval(x))\n",
    "loc = stipend_stats['Location'].apply(pd.Series)\n",
    "loc.columns = map(str.capitalize, loc.columns)"
   ]
  },
  {
   "cell_type": "code",
   "execution_count": 102,
   "metadata": {
    "collapsed": true
   },
   "outputs": [],
   "source": [
    "#clean the tables\n",
    "stipend_loc = pd.concat([loc, stipend_stats], axis = 1)\n",
    "stipedn_loc = stipend_loc.iloc[:,~stipend_loc.columns.duplicated()]\n",
    "stipend_loc = stipend_loc.drop(['Location', 'Unnamed: 0', 'Unnamed: 0.1'], axis =1 )"
   ]
  },
  {
   "cell_type": "code",
   "execution_count": 104,
   "metadata": {
    "collapsed": true
   },
   "outputs": [],
   "source": [
    "#df.loc[:,~df.columns.duplicated()]\n",
    "stipend_loc.to_csv('Stipe And Locations.txt', sep='\\t')"
   ]
  },
  {
   "cell_type": "code",
   "execution_count": 103,
   "metadata": {},
   "outputs": [
    {
     "data": {
      "text/html": [
       "<div>\n",
       "<style scoped>\n",
       "    .dataframe tbody tr th:only-of-type {\n",
       "        vertical-align: middle;\n",
       "    }\n",
       "\n",
       "    .dataframe tbody tr th {\n",
       "        vertical-align: top;\n",
       "    }\n",
       "\n",
       "    .dataframe thead th {\n",
       "        text-align: right;\n",
       "    }\n",
       "</style>\n",
       "<table border=\"1\" class=\"dataframe\">\n",
       "  <thead>\n",
       "    <tr style=\"text-align: right;\">\n",
       "      <th></th>\n",
       "      <th>University</th>\n",
       "      <th>Pedestrian</th>\n",
       "      <th>Neighbourhood</th>\n",
       "      <th>City</th>\n",
       "      <th>County</th>\n",
       "      <th>State</th>\n",
       "      <th>Country</th>\n",
       "      <th>Country_code</th>\n",
       "      <th>Road</th>\n",
       "      <th>Postcode</th>\n",
       "      <th>...</th>\n",
       "      <th>City_district</th>\n",
       "      <th>Industrial</th>\n",
       "      <th>Commercial</th>\n",
       "      <th>Station</th>\n",
       "      <th>University</th>\n",
       "      <th>Subject</th>\n",
       "      <th>Stipend</th>\n",
       "      <th>LW Ratio</th>\n",
       "      <th>Academic Year</th>\n",
       "      <th>Program Year</th>\n",
       "    </tr>\n",
       "  </thead>\n",
       "  <tbody>\n",
       "    <tr>\n",
       "      <th>0</th>\n",
       "      <td>Duke University</td>\n",
       "      <td>Union Circle</td>\n",
       "      <td>Trinity Heights</td>\n",
       "      <td>Durham</td>\n",
       "      <td>Durham County</td>\n",
       "      <td>North Carolina</td>\n",
       "      <td>USA</td>\n",
       "      <td>us</td>\n",
       "      <td>NaN</td>\n",
       "      <td>NaN</td>\n",
       "      <td>...</td>\n",
       "      <td>NaN</td>\n",
       "      <td>NaN</td>\n",
       "      <td>NaN</td>\n",
       "      <td>NaN</td>\n",
       "      <td>Duke University</td>\n",
       "      <td>Bioengineering</td>\n",
       "      <td>29700</td>\n",
       "      <td>1.34</td>\n",
       "      <td>2018-2019</td>\n",
       "      <td>3rd</td>\n",
       "    </tr>\n",
       "    <tr>\n",
       "      <th>1</th>\n",
       "      <td>University of Colorado Denver</td>\n",
       "      <td>NaN</td>\n",
       "      <td>Auraria</td>\n",
       "      <td>Denver</td>\n",
       "      <td>Denver County</td>\n",
       "      <td>Colorado</td>\n",
       "      <td>United States of America</td>\n",
       "      <td>us</td>\n",
       "      <td>Lawrence Way</td>\n",
       "      <td>80217</td>\n",
       "      <td>...</td>\n",
       "      <td>NaN</td>\n",
       "      <td>NaN</td>\n",
       "      <td>NaN</td>\n",
       "      <td>NaN</td>\n",
       "      <td>University of Colorado - Denver</td>\n",
       "      <td>Molecular Biology PhD</td>\n",
       "      <td>31000</td>\n",
       "      <td>1.38</td>\n",
       "      <td>2019-2020</td>\n",
       "      <td>2nd</td>\n",
       "    </tr>\n",
       "    <tr>\n",
       "      <th>2</th>\n",
       "      <td>Michigan State University</td>\n",
       "      <td>NaN</td>\n",
       "      <td>NaN</td>\n",
       "      <td>East Lansing</td>\n",
       "      <td>Ingham County</td>\n",
       "      <td>Michigan</td>\n",
       "      <td>USA</td>\n",
       "      <td>us</td>\n",
       "      <td>Farm Lane</td>\n",
       "      <td>48824</td>\n",
       "      <td>...</td>\n",
       "      <td>NaN</td>\n",
       "      <td>NaN</td>\n",
       "      <td>NaN</td>\n",
       "      <td>NaN</td>\n",
       "      <td>Michigan State University</td>\n",
       "      <td>Physics/Nuclear</td>\n",
       "      <td>33000</td>\n",
       "      <td>1.61</td>\n",
       "      <td>2019-2020</td>\n",
       "      <td>1st</td>\n",
       "    </tr>\n",
       "    <tr>\n",
       "      <th>3</th>\n",
       "      <td>University of Denver</td>\n",
       "      <td>NaN</td>\n",
       "      <td>NaN</td>\n",
       "      <td>Denver</td>\n",
       "      <td>Denver County</td>\n",
       "      <td>Colorado</td>\n",
       "      <td>USA</td>\n",
       "      <td>us</td>\n",
       "      <td>NaN</td>\n",
       "      <td>80208</td>\n",
       "      <td>...</td>\n",
       "      <td>NaN</td>\n",
       "      <td>NaN</td>\n",
       "      <td>NaN</td>\n",
       "      <td>NaN</td>\n",
       "      <td>University of Denver</td>\n",
       "      <td>Mathematics</td>\n",
       "      <td>20700</td>\n",
       "      <td>0.92</td>\n",
       "      <td>2019-2020</td>\n",
       "      <td>1st</td>\n",
       "    </tr>\n",
       "    <tr>\n",
       "      <th>4</th>\n",
       "      <td>University of California - Los Angeles (Westwood)</td>\n",
       "      <td>Bruin Walk</td>\n",
       "      <td>Westwood Village</td>\n",
       "      <td>LA</td>\n",
       "      <td>Los Angeles County</td>\n",
       "      <td>California</td>\n",
       "      <td>USA</td>\n",
       "      <td>us</td>\n",
       "      <td>NaN</td>\n",
       "      <td>90095</td>\n",
       "      <td>...</td>\n",
       "      <td>NaN</td>\n",
       "      <td>NaN</td>\n",
       "      <td>NaN</td>\n",
       "      <td>NaN</td>\n",
       "      <td>University of California - Los Angeles</td>\n",
       "      <td>biology</td>\n",
       "      <td>42000</td>\n",
       "      <td>1.62</td>\n",
       "      <td>2018-2019</td>\n",
       "      <td>1st</td>\n",
       "    </tr>\n",
       "    <tr>\n",
       "      <th>5</th>\n",
       "      <td>NaN</td>\n",
       "      <td>NaN</td>\n",
       "      <td>Marquam Hill</td>\n",
       "      <td>Portland</td>\n",
       "      <td>Multnomah County</td>\n",
       "      <td>Oregon</td>\n",
       "      <td>USA</td>\n",
       "      <td>us</td>\n",
       "      <td>Southwest Campus Drive</td>\n",
       "      <td>97239</td>\n",
       "      <td>...</td>\n",
       "      <td>NaN</td>\n",
       "      <td>NaN</td>\n",
       "      <td>NaN</td>\n",
       "      <td>NaN</td>\n",
       "      <td>Oregon Health and Science University</td>\n",
       "      <td>Neuroscience</td>\n",
       "      <td>30000</td>\n",
       "      <td>1.28</td>\n",
       "      <td>2018-2019</td>\n",
       "      <td>1st</td>\n",
       "    </tr>\n",
       "    <tr>\n",
       "      <th>6</th>\n",
       "      <td>Wake Forest University</td>\n",
       "      <td>NaN</td>\n",
       "      <td>NaN</td>\n",
       "      <td>Winston-Salem</td>\n",
       "      <td>Forsyth County</td>\n",
       "      <td>North Carolina</td>\n",
       "      <td>USA</td>\n",
       "      <td>us</td>\n",
       "      <td>Wake Forest Road</td>\n",
       "      <td>27106</td>\n",
       "      <td>...</td>\n",
       "      <td>NaN</td>\n",
       "      <td>NaN</td>\n",
       "      <td>NaN</td>\n",
       "      <td>NaN</td>\n",
       "      <td>Wake Forest University</td>\n",
       "      <td>Biomedical Informatics</td>\n",
       "      <td>45000</td>\n",
       "      <td>2.06</td>\n",
       "      <td>2019-2020</td>\n",
       "      <td>1st</td>\n",
       "    </tr>\n",
       "    <tr>\n",
       "      <th>7</th>\n",
       "      <td>University of Arizona</td>\n",
       "      <td>NaN</td>\n",
       "      <td>NaN</td>\n",
       "      <td>Phoenix</td>\n",
       "      <td>Maricopa County</td>\n",
       "      <td>Arizona</td>\n",
       "      <td>USA</td>\n",
       "      <td>us</td>\n",
       "      <td>East Polk Street</td>\n",
       "      <td>85004</td>\n",
       "      <td>...</td>\n",
       "      <td>NaN</td>\n",
       "      <td>NaN</td>\n",
       "      <td>NaN</td>\n",
       "      <td>NaN</td>\n",
       "      <td>University of Arizona</td>\n",
       "      <td>Entomology</td>\n",
       "      <td>22022</td>\n",
       "      <td>1.06</td>\n",
       "      <td>2018-2019</td>\n",
       "      <td>1st</td>\n",
       "    </tr>\n",
       "    <tr>\n",
       "      <th>8</th>\n",
       "      <td>University of Wisconsin-Madison</td>\n",
       "      <td>NaN</td>\n",
       "      <td>Oakland Heights</td>\n",
       "      <td>Madison</td>\n",
       "      <td>Dane County</td>\n",
       "      <td>Wisconsin</td>\n",
       "      <td>USA</td>\n",
       "      <td>us</td>\n",
       "      <td>NaN</td>\n",
       "      <td>53726</td>\n",
       "      <td>...</td>\n",
       "      <td>NaN</td>\n",
       "      <td>NaN</td>\n",
       "      <td>NaN</td>\n",
       "      <td>NaN</td>\n",
       "      <td>University of Wisconsin - Madison</td>\n",
       "      <td>Computer Sciences</td>\n",
       "      <td>20700</td>\n",
       "      <td>0.91</td>\n",
       "      <td>2019-2020</td>\n",
       "      <td>1st</td>\n",
       "    </tr>\n",
       "    <tr>\n",
       "      <th>9</th>\n",
       "      <td>NaN</td>\n",
       "      <td>NaN</td>\n",
       "      <td>NaN</td>\n",
       "      <td>Portland</td>\n",
       "      <td>Multnomah County</td>\n",
       "      <td>Oregon</td>\n",
       "      <td>USA</td>\n",
       "      <td>us</td>\n",
       "      <td>Southwest 6th Avenue</td>\n",
       "      <td>97204</td>\n",
       "      <td>...</td>\n",
       "      <td>NaN</td>\n",
       "      <td>NaN</td>\n",
       "      <td>NaN</td>\n",
       "      <td>NaN</td>\n",
       "      <td>Oregon State University</td>\n",
       "      <td>Microbiology</td>\n",
       "      <td>1600</td>\n",
       "      <td>0.08</td>\n",
       "      <td>2018-2019</td>\n",
       "      <td>2nd</td>\n",
       "    </tr>\n",
       "    <tr>\n",
       "      <th>10</th>\n",
       "      <td>University of Central Florida</td>\n",
       "      <td>NaN</td>\n",
       "      <td>NaN</td>\n",
       "      <td>NaN</td>\n",
       "      <td>Orange County</td>\n",
       "      <td>Florida</td>\n",
       "      <td>USA</td>\n",
       "      <td>us</td>\n",
       "      <td>Libra Drive</td>\n",
       "      <td>32816</td>\n",
       "      <td>...</td>\n",
       "      <td>NaN</td>\n",
       "      <td>NaN</td>\n",
       "      <td>NaN</td>\n",
       "      <td>NaN</td>\n",
       "      <td>University of Central Florida</td>\n",
       "      <td>Mechanical Engineering</td>\n",
       "      <td>24000</td>\n",
       "      <td>1.04</td>\n",
       "      <td>2019-2020</td>\n",
       "      <td>1st</td>\n",
       "    </tr>\n",
       "    <tr>\n",
       "      <th>11</th>\n",
       "      <td>UC</td>\n",
       "      <td>NaN</td>\n",
       "      <td>NaN</td>\n",
       "      <td>Cincinnati</td>\n",
       "      <td>Hamilton County</td>\n",
       "      <td>Ohio</td>\n",
       "      <td>USA</td>\n",
       "      <td>us</td>\n",
       "      <td>West University Avenue</td>\n",
       "      <td>45219</td>\n",
       "      <td>...</td>\n",
       "      <td>NaN</td>\n",
       "      <td>NaN</td>\n",
       "      <td>NaN</td>\n",
       "      <td>NaN</td>\n",
       "      <td>University of Cincinnati</td>\n",
       "      <td>School Psychology</td>\n",
       "      <td>12540</td>\n",
       "      <td>0.65</td>\n",
       "      <td>2018-2019</td>\n",
       "      <td>1st</td>\n",
       "    </tr>\n",
       "    <tr>\n",
       "      <th>12</th>\n",
       "      <td>Clark Atlanta University</td>\n",
       "      <td>NaN</td>\n",
       "      <td>Joel Chandler Harris Homes</td>\n",
       "      <td>Atlanta</td>\n",
       "      <td>Fulton County</td>\n",
       "      <td>Georgia</td>\n",
       "      <td>USA</td>\n",
       "      <td>us</td>\n",
       "      <td>Parsons Street Southwest</td>\n",
       "      <td>30314</td>\n",
       "      <td>...</td>\n",
       "      <td>NaN</td>\n",
       "      <td>NaN</td>\n",
       "      <td>NaN</td>\n",
       "      <td>NaN</td>\n",
       "      <td>Clark Atlanta University</td>\n",
       "      <td>Chemistry</td>\n",
       "      <td>17100</td>\n",
       "      <td>0.73</td>\n",
       "      <td>2019-2020</td>\n",
       "      <td>1st</td>\n",
       "    </tr>\n",
       "    <tr>\n",
       "      <th>13</th>\n",
       "      <td>NaN</td>\n",
       "      <td>NaN</td>\n",
       "      <td>Beverlywood</td>\n",
       "      <td>LA</td>\n",
       "      <td>Los Angeles County</td>\n",
       "      <td>California</td>\n",
       "      <td>USA</td>\n",
       "      <td>us</td>\n",
       "      <td>South Crest Drive</td>\n",
       "      <td>90035</td>\n",
       "      <td>...</td>\n",
       "      <td>NaN</td>\n",
       "      <td>NaN</td>\n",
       "      <td>NaN</td>\n",
       "      <td>NaN</td>\n",
       "      <td>Yeshiva University</td>\n",
       "      <td>Biomedical Sciences</td>\n",
       "      <td>35000</td>\n",
       "      <td>1.18</td>\n",
       "      <td>2018-2019</td>\n",
       "      <td>1st</td>\n",
       "    </tr>\n",
       "    <tr>\n",
       "      <th>14</th>\n",
       "      <td>MU</td>\n",
       "      <td>NaN</td>\n",
       "      <td>NaN</td>\n",
       "      <td>Oxford</td>\n",
       "      <td>Butler County</td>\n",
       "      <td>Ohio</td>\n",
       "      <td>USA</td>\n",
       "      <td>us</td>\n",
       "      <td>East Vine Street</td>\n",
       "      <td>45056</td>\n",
       "      <td>...</td>\n",
       "      <td>NaN</td>\n",
       "      <td>NaN</td>\n",
       "      <td>NaN</td>\n",
       "      <td>NaN</td>\n",
       "      <td>Miami University</td>\n",
       "      <td>Mechanical Engineering</td>\n",
       "      <td>15800</td>\n",
       "      <td>0.82</td>\n",
       "      <td>2019-2020</td>\n",
       "      <td>1st</td>\n",
       "    </tr>\n",
       "    <tr>\n",
       "      <th>15</th>\n",
       "      <td>Northeastern University</td>\n",
       "      <td>NaN</td>\n",
       "      <td>Roxbury Crossing</td>\n",
       "      <td>Boston</td>\n",
       "      <td>Suffolk County</td>\n",
       "      <td>Massachusetts</td>\n",
       "      <td>USA</td>\n",
       "      <td>us</td>\n",
       "      <td>Tremont Street</td>\n",
       "      <td>MA 02118</td>\n",
       "      <td>...</td>\n",
       "      <td>NaN</td>\n",
       "      <td>NaN</td>\n",
       "      <td>NaN</td>\n",
       "      <td>NaN</td>\n",
       "      <td>Northeastern University</td>\n",
       "      <td>Electrical and Computer Engineering</td>\n",
       "      <td>33007</td>\n",
       "      <td>1.15</td>\n",
       "      <td>2018-2019</td>\n",
       "      <td>2nd</td>\n",
       "    </tr>\n",
       "    <tr>\n",
       "      <th>16</th>\n",
       "      <td>Stanford University</td>\n",
       "      <td>NaN</td>\n",
       "      <td>NaN</td>\n",
       "      <td>NaN</td>\n",
       "      <td>Santa Clara County</td>\n",
       "      <td>California</td>\n",
       "      <td>USA</td>\n",
       "      <td>us</td>\n",
       "      <td>Palm Drive</td>\n",
       "      <td>94305-6015</td>\n",
       "      <td>...</td>\n",
       "      <td>NaN</td>\n",
       "      <td>NaN</td>\n",
       "      <td>NaN</td>\n",
       "      <td>NaN</td>\n",
       "      <td>Stanford University</td>\n",
       "      <td>Civil and Environmental Enineering</td>\n",
       "      <td>42000</td>\n",
       "      <td>1.46</td>\n",
       "      <td>2019-2020</td>\n",
       "      <td>1st</td>\n",
       "    </tr>\n",
       "    <tr>\n",
       "      <th>17</th>\n",
       "      <td>University of California - Los Angeles (Westwood)</td>\n",
       "      <td>Bruin Walk</td>\n",
       "      <td>Westwood Village</td>\n",
       "      <td>LA</td>\n",
       "      <td>Los Angeles County</td>\n",
       "      <td>California</td>\n",
       "      <td>USA</td>\n",
       "      <td>us</td>\n",
       "      <td>NaN</td>\n",
       "      <td>90095</td>\n",
       "      <td>...</td>\n",
       "      <td>NaN</td>\n",
       "      <td>NaN</td>\n",
       "      <td>NaN</td>\n",
       "      <td>NaN</td>\n",
       "      <td>University of California - Los Angeles</td>\n",
       "      <td>Electrical Engineering</td>\n",
       "      <td>28000</td>\n",
       "      <td>1.08</td>\n",
       "      <td>2019-2020</td>\n",
       "      <td>1st</td>\n",
       "    </tr>\n",
       "    <tr>\n",
       "      <th>18</th>\n",
       "      <td>UC Berkeley</td>\n",
       "      <td>NaN</td>\n",
       "      <td>NaN</td>\n",
       "      <td>Oakland</td>\n",
       "      <td>Alameda County</td>\n",
       "      <td>California</td>\n",
       "      <td>USA</td>\n",
       "      <td>us</td>\n",
       "      <td>Centennial Drive</td>\n",
       "      <td>94720-1076</td>\n",
       "      <td>...</td>\n",
       "      <td>NaN</td>\n",
       "      <td>NaN</td>\n",
       "      <td>NaN</td>\n",
       "      <td>NaN</td>\n",
       "      <td>University of California - Berkeley</td>\n",
       "      <td>MCB</td>\n",
       "      <td>37000</td>\n",
       "      <td>1.33</td>\n",
       "      <td>2019-2020</td>\n",
       "      <td>1st</td>\n",
       "    </tr>\n",
       "    <tr>\n",
       "      <th>19</th>\n",
       "      <td>UMN</td>\n",
       "      <td>NaN</td>\n",
       "      <td>NaN</td>\n",
       "      <td>St. Paul</td>\n",
       "      <td>Ramsey County</td>\n",
       "      <td>Minnesota</td>\n",
       "      <td>USA</td>\n",
       "      <td>us</td>\n",
       "      <td>North Brompton Street</td>\n",
       "      <td>55108</td>\n",
       "      <td>...</td>\n",
       "      <td>NaN</td>\n",
       "      <td>NaN</td>\n",
       "      <td>NaN</td>\n",
       "      <td>NaN</td>\n",
       "      <td>University of Minnesota - Twin Cities</td>\n",
       "      <td>German Nordic Slavic and Dutch</td>\n",
       "      <td>23500</td>\n",
       "      <td>1.03</td>\n",
       "      <td>2018-2019</td>\n",
       "      <td>1st</td>\n",
       "    </tr>\n",
       "    <tr>\n",
       "      <th>20</th>\n",
       "      <td>UNC-Chapel Hill</td>\n",
       "      <td>NaN</td>\n",
       "      <td>NaN</td>\n",
       "      <td>NaN</td>\n",
       "      <td>Orange County</td>\n",
       "      <td>North Carolina</td>\n",
       "      <td>USA</td>\n",
       "      <td>us</td>\n",
       "      <td>Ehringhaus Drive</td>\n",
       "      <td>275199</td>\n",
       "      <td>...</td>\n",
       "      <td>NaN</td>\n",
       "      <td>NaN</td>\n",
       "      <td>NaN</td>\n",
       "      <td>NaN</td>\n",
       "      <td>University of North Carolina - Chapel Hill</td>\n",
       "      <td>Biomedical Engineering</td>\n",
       "      <td>37500</td>\n",
       "      <td>1.69</td>\n",
       "      <td>2019-2020</td>\n",
       "      <td>1st</td>\n",
       "    </tr>\n",
       "    <tr>\n",
       "      <th>21</th>\n",
       "      <td>University of California - Los Angeles (Westwood)</td>\n",
       "      <td>Bruin Walk</td>\n",
       "      <td>Westwood Village</td>\n",
       "      <td>LA</td>\n",
       "      <td>Los Angeles County</td>\n",
       "      <td>California</td>\n",
       "      <td>USA</td>\n",
       "      <td>us</td>\n",
       "      <td>NaN</td>\n",
       "      <td>90095</td>\n",
       "      <td>...</td>\n",
       "      <td>NaN</td>\n",
       "      <td>NaN</td>\n",
       "      <td>NaN</td>\n",
       "      <td>NaN</td>\n",
       "      <td>University of California - Los Angeles</td>\n",
       "      <td>Linguistics</td>\n",
       "      <td>33000</td>\n",
       "      <td>1.28</td>\n",
       "      <td>2019-2020</td>\n",
       "      <td>1st</td>\n",
       "    </tr>\n",
       "    <tr>\n",
       "      <th>22</th>\n",
       "      <td>Clemson University</td>\n",
       "      <td>NaN</td>\n",
       "      <td>NaN</td>\n",
       "      <td>NaN</td>\n",
       "      <td>Pickens County</td>\n",
       "      <td>South Carolina</td>\n",
       "      <td>USA</td>\n",
       "      <td>us</td>\n",
       "      <td>Old Stadium Road</td>\n",
       "      <td>29631</td>\n",
       "      <td>...</td>\n",
       "      <td>NaN</td>\n",
       "      <td>NaN</td>\n",
       "      <td>NaN</td>\n",
       "      <td>NaN</td>\n",
       "      <td>Clemson University</td>\n",
       "      <td>Automotive</td>\n",
       "      <td>20500</td>\n",
       "      <td>0.98</td>\n",
       "      <td>2018-2019</td>\n",
       "      <td>3rd</td>\n",
       "    </tr>\n",
       "    <tr>\n",
       "      <th>23</th>\n",
       "      <td>University of California - Los Angeles (Westwood)</td>\n",
       "      <td>Bruin Walk</td>\n",
       "      <td>Westwood Village</td>\n",
       "      <td>LA</td>\n",
       "      <td>Los Angeles County</td>\n",
       "      <td>California</td>\n",
       "      <td>USA</td>\n",
       "      <td>us</td>\n",
       "      <td>NaN</td>\n",
       "      <td>90095</td>\n",
       "      <td>...</td>\n",
       "      <td>NaN</td>\n",
       "      <td>NaN</td>\n",
       "      <td>NaN</td>\n",
       "      <td>NaN</td>\n",
       "      <td>University of California - Los Angeles</td>\n",
       "      <td>Molecular Biology Interdepartmental Doctoral P...</td>\n",
       "      <td>33500</td>\n",
       "      <td>1.29</td>\n",
       "      <td>2019-2020</td>\n",
       "      <td>1st</td>\n",
       "    </tr>\n",
       "    <tr>\n",
       "      <th>24</th>\n",
       "      <td>Duke University</td>\n",
       "      <td>Union Circle</td>\n",
       "      <td>Trinity Heights</td>\n",
       "      <td>Durham</td>\n",
       "      <td>Durham County</td>\n",
       "      <td>North Carolina</td>\n",
       "      <td>USA</td>\n",
       "      <td>us</td>\n",
       "      <td>NaN</td>\n",
       "      <td>NaN</td>\n",
       "      <td>...</td>\n",
       "      <td>NaN</td>\n",
       "      <td>NaN</td>\n",
       "      <td>NaN</td>\n",
       "      <td>NaN</td>\n",
       "      <td>Duke University</td>\n",
       "      <td>Public Policy</td>\n",
       "      <td>25000</td>\n",
       "      <td>1.12</td>\n",
       "      <td>2019-2020</td>\n",
       "      <td>1st</td>\n",
       "    </tr>\n",
       "    <tr>\n",
       "      <th>25</th>\n",
       "      <td>UCSF</td>\n",
       "      <td>NaN</td>\n",
       "      <td>Inner Sunset</td>\n",
       "      <td>SF</td>\n",
       "      <td>SF</td>\n",
       "      <td>California</td>\n",
       "      <td>USA</td>\n",
       "      <td>us</td>\n",
       "      <td>Parnassus Avenue</td>\n",
       "      <td>94117</td>\n",
       "      <td>...</td>\n",
       "      <td>NaN</td>\n",
       "      <td>NaN</td>\n",
       "      <td>NaN</td>\n",
       "      <td>NaN</td>\n",
       "      <td>University of California - San Francisco</td>\n",
       "      <td>Chemistry and Chemical biology</td>\n",
       "      <td>40000</td>\n",
       "      <td>1.34</td>\n",
       "      <td>2019-2020</td>\n",
       "      <td>1st</td>\n",
       "    </tr>\n",
       "    <tr>\n",
       "      <th>26</th>\n",
       "      <td>UCSF</td>\n",
       "      <td>NaN</td>\n",
       "      <td>Inner Sunset</td>\n",
       "      <td>SF</td>\n",
       "      <td>SF</td>\n",
       "      <td>California</td>\n",
       "      <td>USA</td>\n",
       "      <td>us</td>\n",
       "      <td>Parnassus Avenue</td>\n",
       "      <td>94117</td>\n",
       "      <td>...</td>\n",
       "      <td>NaN</td>\n",
       "      <td>NaN</td>\n",
       "      <td>NaN</td>\n",
       "      <td>NaN</td>\n",
       "      <td>University of California - San Francisco</td>\n",
       "      <td>Chemistry and Chemical biology</td>\n",
       "      <td>40000</td>\n",
       "      <td>1.34</td>\n",
       "      <td>2019-2020</td>\n",
       "      <td>1st</td>\n",
       "    </tr>\n",
       "    <tr>\n",
       "      <th>27</th>\n",
       "      <td>UC</td>\n",
       "      <td>NaN</td>\n",
       "      <td>NaN</td>\n",
       "      <td>Cincinnati</td>\n",
       "      <td>Hamilton County</td>\n",
       "      <td>Ohio</td>\n",
       "      <td>USA</td>\n",
       "      <td>us</td>\n",
       "      <td>West University Avenue</td>\n",
       "      <td>45219</td>\n",
       "      <td>...</td>\n",
       "      <td>NaN</td>\n",
       "      <td>NaN</td>\n",
       "      <td>NaN</td>\n",
       "      <td>NaN</td>\n",
       "      <td>University of Cincinnati</td>\n",
       "      <td>Communication</td>\n",
       "      <td>12550</td>\n",
       "      <td>0.65</td>\n",
       "      <td>2018-2019</td>\n",
       "      <td>1st</td>\n",
       "    </tr>\n",
       "    <tr>\n",
       "      <th>28</th>\n",
       "      <td>California Institute of Technology</td>\n",
       "      <td>San Pasqual Walk</td>\n",
       "      <td>Madison Heights</td>\n",
       "      <td>Pasadena</td>\n",
       "      <td>Los Angeles County</td>\n",
       "      <td>California</td>\n",
       "      <td>USA</td>\n",
       "      <td>us</td>\n",
       "      <td>NaN</td>\n",
       "      <td>91126</td>\n",
       "      <td>...</td>\n",
       "      <td>NaN</td>\n",
       "      <td>NaN</td>\n",
       "      <td>NaN</td>\n",
       "      <td>NaN</td>\n",
       "      <td>California Institute of Technology</td>\n",
       "      <td>Computing and Mathematical Sciences</td>\n",
       "      <td>35000</td>\n",
       "      <td>1.35</td>\n",
       "      <td>2018-2019</td>\n",
       "      <td>4th</td>\n",
       "    </tr>\n",
       "    <tr>\n",
       "      <th>29</th>\n",
       "      <td>Duke University</td>\n",
       "      <td>Union Circle</td>\n",
       "      <td>Trinity Heights</td>\n",
       "      <td>Durham</td>\n",
       "      <td>Durham County</td>\n",
       "      <td>North Carolina</td>\n",
       "      <td>USA</td>\n",
       "      <td>us</td>\n",
       "      <td>NaN</td>\n",
       "      <td>NaN</td>\n",
       "      <td>...</td>\n",
       "      <td>NaN</td>\n",
       "      <td>NaN</td>\n",
       "      <td>NaN</td>\n",
       "      <td>NaN</td>\n",
       "      <td>Duke University</td>\n",
       "      <td>University Program in Genetics and Genomics</td>\n",
       "      <td>31800</td>\n",
       "      <td>1.43</td>\n",
       "      <td>2018-2019</td>\n",
       "      <td>3rd</td>\n",
       "    </tr>\n",
       "    <tr>\n",
       "      <th>...</th>\n",
       "      <td>...</td>\n",
       "      <td>...</td>\n",
       "      <td>...</td>\n",
       "      <td>...</td>\n",
       "      <td>...</td>\n",
       "      <td>...</td>\n",
       "      <td>...</td>\n",
       "      <td>...</td>\n",
       "      <td>...</td>\n",
       "      <td>...</td>\n",
       "      <td>...</td>\n",
       "      <td>...</td>\n",
       "      <td>...</td>\n",
       "      <td>...</td>\n",
       "      <td>...</td>\n",
       "      <td>...</td>\n",
       "      <td>...</td>\n",
       "      <td>...</td>\n",
       "      <td>...</td>\n",
       "      <td>...</td>\n",
       "      <td>...</td>\n",
       "    </tr>\n",
       "    <tr>\n",
       "      <th>4767</th>\n",
       "      <td>NaN</td>\n",
       "      <td>NaN</td>\n",
       "      <td>NaN</td>\n",
       "      <td>New Mexico State University</td>\n",
       "      <td>Doña Ana County</td>\n",
       "      <td>New Mexico</td>\n",
       "      <td>USA</td>\n",
       "      <td>us</td>\n",
       "      <td>NaN</td>\n",
       "      <td>88003</td>\n",
       "      <td>...</td>\n",
       "      <td>NaN</td>\n",
       "      <td>NaN</td>\n",
       "      <td>NaN</td>\n",
       "      <td>NaN</td>\n",
       "      <td>New Mexico State University</td>\n",
       "      <td>Astronomy</td>\n",
       "      <td>18058</td>\n",
       "      <td>1.07</td>\n",
       "      <td>2011-2012</td>\n",
       "      <td>2nd</td>\n",
       "    </tr>\n",
       "    <tr>\n",
       "      <th>4768</th>\n",
       "      <td>NaN</td>\n",
       "      <td>NaN</td>\n",
       "      <td>NaN</td>\n",
       "      <td>New Mexico State University</td>\n",
       "      <td>Doña Ana County</td>\n",
       "      <td>New Mexico</td>\n",
       "      <td>USA</td>\n",
       "      <td>us</td>\n",
       "      <td>NaN</td>\n",
       "      <td>88003</td>\n",
       "      <td>...</td>\n",
       "      <td>NaN</td>\n",
       "      <td>NaN</td>\n",
       "      <td>NaN</td>\n",
       "      <td>NaN</td>\n",
       "      <td>New Mexico State University</td>\n",
       "      <td>Astronomy</td>\n",
       "      <td>14842</td>\n",
       "      <td>0.88</td>\n",
       "      <td>2010-2011</td>\n",
       "      <td>1st</td>\n",
       "    </tr>\n",
       "    <tr>\n",
       "      <th>4769</th>\n",
       "      <td>Georgia Tech</td>\n",
       "      <td>Atlantic Drive Northwest</td>\n",
       "      <td>Bellwood</td>\n",
       "      <td>Atlanta</td>\n",
       "      <td>Fulton County</td>\n",
       "      <td>Georgia</td>\n",
       "      <td>USA</td>\n",
       "      <td>us</td>\n",
       "      <td>NaN</td>\n",
       "      <td>30318</td>\n",
       "      <td>...</td>\n",
       "      <td>NaN</td>\n",
       "      <td>NaN</td>\n",
       "      <td>NaN</td>\n",
       "      <td>NaN</td>\n",
       "      <td>Georgia Institute of Technology</td>\n",
       "      <td>ECE</td>\n",
       "      <td>28083</td>\n",
       "      <td>1.34</td>\n",
       "      <td>2014-2015</td>\n",
       "      <td>2nd</td>\n",
       "    </tr>\n",
       "    <tr>\n",
       "      <th>4770</th>\n",
       "      <td>NaN</td>\n",
       "      <td>NaN</td>\n",
       "      <td>East Campus</td>\n",
       "      <td>NaN</td>\n",
       "      <td>Tolland County</td>\n",
       "      <td>Connecticut</td>\n",
       "      <td>USA</td>\n",
       "      <td>us</td>\n",
       "      <td>Glenbrook Road</td>\n",
       "      <td>06269</td>\n",
       "      <td>...</td>\n",
       "      <td>NaN</td>\n",
       "      <td>NaN</td>\n",
       "      <td>NaN</td>\n",
       "      <td>NaN</td>\n",
       "      <td>University of Connecticut</td>\n",
       "      <td>Ecology and Evolution</td>\n",
       "      <td>21212</td>\n",
       "      <td>1.01</td>\n",
       "      <td>2013-2014</td>\n",
       "      <td>3rd</td>\n",
       "    </tr>\n",
       "    <tr>\n",
       "      <th>4771</th>\n",
       "      <td>NaN</td>\n",
       "      <td>NaN</td>\n",
       "      <td>East Campus</td>\n",
       "      <td>NaN</td>\n",
       "      <td>Tolland County</td>\n",
       "      <td>Connecticut</td>\n",
       "      <td>USA</td>\n",
       "      <td>us</td>\n",
       "      <td>Glenbrook Road</td>\n",
       "      <td>06269</td>\n",
       "      <td>...</td>\n",
       "      <td>NaN</td>\n",
       "      <td>NaN</td>\n",
       "      <td>NaN</td>\n",
       "      <td>NaN</td>\n",
       "      <td>University of Connecticut</td>\n",
       "      <td>Ecology and Evolution</td>\n",
       "      <td>22061</td>\n",
       "      <td>1.05</td>\n",
       "      <td>2014-2015</td>\n",
       "      <td>4th</td>\n",
       "    </tr>\n",
       "    <tr>\n",
       "      <th>4772</th>\n",
       "      <td>NaN</td>\n",
       "      <td>NaN</td>\n",
       "      <td>East Campus</td>\n",
       "      <td>NaN</td>\n",
       "      <td>Tolland County</td>\n",
       "      <td>Connecticut</td>\n",
       "      <td>USA</td>\n",
       "      <td>us</td>\n",
       "      <td>Glenbrook Road</td>\n",
       "      <td>06269</td>\n",
       "      <td>...</td>\n",
       "      <td>NaN</td>\n",
       "      <td>NaN</td>\n",
       "      <td>NaN</td>\n",
       "      <td>NaN</td>\n",
       "      <td>University of Connecticut</td>\n",
       "      <td>Ecology and Evolutionary Biology</td>\n",
       "      <td>22000</td>\n",
       "      <td>1.05</td>\n",
       "      <td>2014-2015</td>\n",
       "      <td>3rd</td>\n",
       "    </tr>\n",
       "    <tr>\n",
       "      <th>4773</th>\n",
       "      <td>NaN</td>\n",
       "      <td>NaN</td>\n",
       "      <td>Five Points</td>\n",
       "      <td>Atlanta</td>\n",
       "      <td>Fulton County</td>\n",
       "      <td>Georgia</td>\n",
       "      <td>USA</td>\n",
       "      <td>us</td>\n",
       "      <td>Courtland Street Southeast</td>\n",
       "      <td>30303</td>\n",
       "      <td>...</td>\n",
       "      <td>NaN</td>\n",
       "      <td>NaN</td>\n",
       "      <td>NaN</td>\n",
       "      <td>NaN</td>\n",
       "      <td>Georgia State University</td>\n",
       "      <td>Communication</td>\n",
       "      <td>15000</td>\n",
       "      <td>0.71</td>\n",
       "      <td>2011-2012</td>\n",
       "      <td>3rd</td>\n",
       "    </tr>\n",
       "    <tr>\n",
       "      <th>4774</th>\n",
       "      <td>NaN</td>\n",
       "      <td>NaN</td>\n",
       "      <td>NaN</td>\n",
       "      <td>Oxford</td>\n",
       "      <td>Lafayette County</td>\n",
       "      <td>Mississippi</td>\n",
       "      <td>United States of America</td>\n",
       "      <td>us</td>\n",
       "      <td>University Avenue</td>\n",
       "      <td>38677</td>\n",
       "      <td>...</td>\n",
       "      <td>NaN</td>\n",
       "      <td>NaN</td>\n",
       "      <td>NaN</td>\n",
       "      <td>NaN</td>\n",
       "      <td>University of Mississippi</td>\n",
       "      <td>Biology</td>\n",
       "      <td>19000</td>\n",
       "      <td>1.09</td>\n",
       "      <td>2013-2014</td>\n",
       "      <td>5th</td>\n",
       "    </tr>\n",
       "    <tr>\n",
       "      <th>4775</th>\n",
       "      <td>NaN</td>\n",
       "      <td>NaN</td>\n",
       "      <td>NaN</td>\n",
       "      <td>New Mexico State University</td>\n",
       "      <td>Doña Ana County</td>\n",
       "      <td>New Mexico</td>\n",
       "      <td>USA</td>\n",
       "      <td>us</td>\n",
       "      <td>NaN</td>\n",
       "      <td>88003</td>\n",
       "      <td>...</td>\n",
       "      <td>NaN</td>\n",
       "      <td>NaN</td>\n",
       "      <td>NaN</td>\n",
       "      <td>NaN</td>\n",
       "      <td>New Mexico State University</td>\n",
       "      <td>Astronomy</td>\n",
       "      <td>32000</td>\n",
       "      <td>1.89</td>\n",
       "      <td>2014-2015</td>\n",
       "      <td>3rd</td>\n",
       "    </tr>\n",
       "    <tr>\n",
       "      <th>4776</th>\n",
       "      <td>UCSD</td>\n",
       "      <td>NaN</td>\n",
       "      <td>University Center</td>\n",
       "      <td>San Diego</td>\n",
       "      <td>San Diego County</td>\n",
       "      <td>California</td>\n",
       "      <td>USA</td>\n",
       "      <td>us</td>\n",
       "      <td>Gilman Drive</td>\n",
       "      <td>92093</td>\n",
       "      <td>...</td>\n",
       "      <td>NaN</td>\n",
       "      <td>NaN</td>\n",
       "      <td>NaN</td>\n",
       "      <td>NaN</td>\n",
       "      <td>University of California - San Diego</td>\n",
       "      <td>Neurosciences</td>\n",
       "      <td>31000</td>\n",
       "      <td>1.31</td>\n",
       "      <td>2013-2014</td>\n",
       "      <td>3rd</td>\n",
       "    </tr>\n",
       "    <tr>\n",
       "      <th>4777</th>\n",
       "      <td>University of Washington</td>\n",
       "      <td>NaN</td>\n",
       "      <td>Montlake</td>\n",
       "      <td>Seattle</td>\n",
       "      <td>King County</td>\n",
       "      <td>Washington</td>\n",
       "      <td>USA</td>\n",
       "      <td>us</td>\n",
       "      <td>Jefferson Road Northeast</td>\n",
       "      <td>98195-2350</td>\n",
       "      <td>...</td>\n",
       "      <td>NaN</td>\n",
       "      <td>NaN</td>\n",
       "      <td>NaN</td>\n",
       "      <td>NaN</td>\n",
       "      <td>University of Washington</td>\n",
       "      <td>Chemistry</td>\n",
       "      <td>26000</td>\n",
       "      <td>1.30</td>\n",
       "      <td>2012-2013</td>\n",
       "      <td>1st</td>\n",
       "    </tr>\n",
       "    <tr>\n",
       "      <th>4778</th>\n",
       "      <td>NaN</td>\n",
       "      <td>NaN</td>\n",
       "      <td>The Hill</td>\n",
       "      <td>Boulder</td>\n",
       "      <td>Boulder County</td>\n",
       "      <td>Colorado</td>\n",
       "      <td>USA</td>\n",
       "      <td>us</td>\n",
       "      <td>Broadway</td>\n",
       "      <td>80802</td>\n",
       "      <td>...</td>\n",
       "      <td>NaN</td>\n",
       "      <td>NaN</td>\n",
       "      <td>NaN</td>\n",
       "      <td>NaN</td>\n",
       "      <td>University of Colorado - Boulder</td>\n",
       "      <td>EBIO</td>\n",
       "      <td>32000</td>\n",
       "      <td>1.55</td>\n",
       "      <td>2014-2015</td>\n",
       "      <td>2nd</td>\n",
       "    </tr>\n",
       "    <tr>\n",
       "      <th>4779</th>\n",
       "      <td>Georgia Tech</td>\n",
       "      <td>Atlantic Drive Northwest</td>\n",
       "      <td>Bellwood</td>\n",
       "      <td>Atlanta</td>\n",
       "      <td>Fulton County</td>\n",
       "      <td>Georgia</td>\n",
       "      <td>USA</td>\n",
       "      <td>us</td>\n",
       "      <td>NaN</td>\n",
       "      <td>30318</td>\n",
       "      <td>...</td>\n",
       "      <td>NaN</td>\n",
       "      <td>NaN</td>\n",
       "      <td>NaN</td>\n",
       "      <td>NaN</td>\n",
       "      <td>Georgia Institute of Technology</td>\n",
       "      <td>Biomedical Engineering</td>\n",
       "      <td>32000</td>\n",
       "      <td>1.52</td>\n",
       "      <td>2013-2014</td>\n",
       "      <td>3rd</td>\n",
       "    </tr>\n",
       "    <tr>\n",
       "      <th>4780</th>\n",
       "      <td>Georgia Tech</td>\n",
       "      <td>Atlantic Drive Northwest</td>\n",
       "      <td>Bellwood</td>\n",
       "      <td>Atlanta</td>\n",
       "      <td>Fulton County</td>\n",
       "      <td>Georgia</td>\n",
       "      <td>USA</td>\n",
       "      <td>us</td>\n",
       "      <td>NaN</td>\n",
       "      <td>30318</td>\n",
       "      <td>...</td>\n",
       "      <td>NaN</td>\n",
       "      <td>NaN</td>\n",
       "      <td>NaN</td>\n",
       "      <td>NaN</td>\n",
       "      <td>Georgia Institute of Technology</td>\n",
       "      <td>Mechanical Engineering</td>\n",
       "      <td>31200</td>\n",
       "      <td>1.49</td>\n",
       "      <td>2013-2014</td>\n",
       "      <td>6th and up</td>\n",
       "    </tr>\n",
       "    <tr>\n",
       "      <th>4781</th>\n",
       "      <td>Harvard University</td>\n",
       "      <td>NaN</td>\n",
       "      <td>Old Cambridge</td>\n",
       "      <td>NaN</td>\n",
       "      <td>Middlesex County</td>\n",
       "      <td>Massachusetts</td>\n",
       "      <td>USA</td>\n",
       "      <td>us</td>\n",
       "      <td>John F. Kennedy Street</td>\n",
       "      <td>02163</td>\n",
       "      <td>...</td>\n",
       "      <td>NaN</td>\n",
       "      <td>NaN</td>\n",
       "      <td>NaN</td>\n",
       "      <td>NaN</td>\n",
       "      <td>Harvard University</td>\n",
       "      <td>Epidemiology</td>\n",
       "      <td>22000</td>\n",
       "      <td>0.84</td>\n",
       "      <td>2013-2014</td>\n",
       "      <td>1st</td>\n",
       "    </tr>\n",
       "    <tr>\n",
       "      <th>4782</th>\n",
       "      <td>Georgia Tech</td>\n",
       "      <td>Atlantic Drive Northwest</td>\n",
       "      <td>Bellwood</td>\n",
       "      <td>Atlanta</td>\n",
       "      <td>Fulton County</td>\n",
       "      <td>Georgia</td>\n",
       "      <td>USA</td>\n",
       "      <td>us</td>\n",
       "      <td>NaN</td>\n",
       "      <td>30318</td>\n",
       "      <td>...</td>\n",
       "      <td>NaN</td>\n",
       "      <td>NaN</td>\n",
       "      <td>NaN</td>\n",
       "      <td>NaN</td>\n",
       "      <td>Georgia Institute of Technology</td>\n",
       "      <td>Biomedical Engineering</td>\n",
       "      <td>28000</td>\n",
       "      <td>1.33</td>\n",
       "      <td>2013-2014</td>\n",
       "      <td>4th</td>\n",
       "    </tr>\n",
       "    <tr>\n",
       "      <th>4783</th>\n",
       "      <td>Georgia Tech</td>\n",
       "      <td>Atlantic Drive Northwest</td>\n",
       "      <td>Bellwood</td>\n",
       "      <td>Atlanta</td>\n",
       "      <td>Fulton County</td>\n",
       "      <td>Georgia</td>\n",
       "      <td>USA</td>\n",
       "      <td>us</td>\n",
       "      <td>NaN</td>\n",
       "      <td>30318</td>\n",
       "      <td>...</td>\n",
       "      <td>NaN</td>\n",
       "      <td>NaN</td>\n",
       "      <td>NaN</td>\n",
       "      <td>NaN</td>\n",
       "      <td>Georgia Institute of Technology</td>\n",
       "      <td>Aerospace Engineering</td>\n",
       "      <td>26000</td>\n",
       "      <td>1.24</td>\n",
       "      <td>2013-2014</td>\n",
       "      <td>6th and up</td>\n",
       "    </tr>\n",
       "    <tr>\n",
       "      <th>4784</th>\n",
       "      <td>NaN</td>\n",
       "      <td>NaN</td>\n",
       "      <td>NaN</td>\n",
       "      <td>Urbana</td>\n",
       "      <td>Champaign County</td>\n",
       "      <td>Illinois</td>\n",
       "      <td>USA</td>\n",
       "      <td>us</td>\n",
       "      <td>South Mathews Avenue</td>\n",
       "      <td>61801</td>\n",
       "      <td>...</td>\n",
       "      <td>NaN</td>\n",
       "      <td>NaN</td>\n",
       "      <td>NaN</td>\n",
       "      <td>NaN</td>\n",
       "      <td>University of Illinois - Urbana- Champaign</td>\n",
       "      <td>Computer Science</td>\n",
       "      <td>32000</td>\n",
       "      <td>1.85</td>\n",
       "      <td>2013-2014</td>\n",
       "      <td>5th</td>\n",
       "    </tr>\n",
       "    <tr>\n",
       "      <th>4785</th>\n",
       "      <td>Georgia Tech</td>\n",
       "      <td>Atlantic Drive Northwest</td>\n",
       "      <td>Bellwood</td>\n",
       "      <td>Atlanta</td>\n",
       "      <td>Fulton County</td>\n",
       "      <td>Georgia</td>\n",
       "      <td>USA</td>\n",
       "      <td>us</td>\n",
       "      <td>NaN</td>\n",
       "      <td>30318</td>\n",
       "      <td>...</td>\n",
       "      <td>NaN</td>\n",
       "      <td>NaN</td>\n",
       "      <td>NaN</td>\n",
       "      <td>NaN</td>\n",
       "      <td>Georgia Institute of Technology</td>\n",
       "      <td>Aerospace Engineering</td>\n",
       "      <td>33000</td>\n",
       "      <td>1.57</td>\n",
       "      <td>2013-2014</td>\n",
       "      <td>4th</td>\n",
       "    </tr>\n",
       "    <tr>\n",
       "      <th>4786</th>\n",
       "      <td>UCSF</td>\n",
       "      <td>NaN</td>\n",
       "      <td>Inner Sunset</td>\n",
       "      <td>SF</td>\n",
       "      <td>SF</td>\n",
       "      <td>California</td>\n",
       "      <td>USA</td>\n",
       "      <td>us</td>\n",
       "      <td>Parnassus Avenue</td>\n",
       "      <td>94117</td>\n",
       "      <td>...</td>\n",
       "      <td>NaN</td>\n",
       "      <td>NaN</td>\n",
       "      <td>NaN</td>\n",
       "      <td>NaN</td>\n",
       "      <td>University of California - San Francisco</td>\n",
       "      <td>Neuroscience</td>\n",
       "      <td>32000</td>\n",
       "      <td>1.20</td>\n",
       "      <td>2013-2014</td>\n",
       "      <td>3rd</td>\n",
       "    </tr>\n",
       "    <tr>\n",
       "      <th>4787</th>\n",
       "      <td>Stanford University</td>\n",
       "      <td>NaN</td>\n",
       "      <td>NaN</td>\n",
       "      <td>NaN</td>\n",
       "      <td>Santa Clara County</td>\n",
       "      <td>California</td>\n",
       "      <td>USA</td>\n",
       "      <td>us</td>\n",
       "      <td>Palm Drive</td>\n",
       "      <td>94305-6015</td>\n",
       "      <td>...</td>\n",
       "      <td>NaN</td>\n",
       "      <td>NaN</td>\n",
       "      <td>NaN</td>\n",
       "      <td>NaN</td>\n",
       "      <td>Stanford University</td>\n",
       "      <td>Graduate School of Education</td>\n",
       "      <td>24000</td>\n",
       "      <td>0.96</td>\n",
       "      <td>2013-2014</td>\n",
       "      <td>4th</td>\n",
       "    </tr>\n",
       "    <tr>\n",
       "      <th>4788</th>\n",
       "      <td>Georgia Tech</td>\n",
       "      <td>Atlantic Drive Northwest</td>\n",
       "      <td>Bellwood</td>\n",
       "      <td>Atlanta</td>\n",
       "      <td>Fulton County</td>\n",
       "      <td>Georgia</td>\n",
       "      <td>USA</td>\n",
       "      <td>us</td>\n",
       "      <td>NaN</td>\n",
       "      <td>30318</td>\n",
       "      <td>...</td>\n",
       "      <td>NaN</td>\n",
       "      <td>NaN</td>\n",
       "      <td>NaN</td>\n",
       "      <td>NaN</td>\n",
       "      <td>Georgia Institute of Technology</td>\n",
       "      <td>Aerospace Engineering</td>\n",
       "      <td>33360</td>\n",
       "      <td>1.59</td>\n",
       "      <td>2012-2013</td>\n",
       "      <td>6th and up</td>\n",
       "    </tr>\n",
       "    <tr>\n",
       "      <th>4789</th>\n",
       "      <td>Georgia Tech</td>\n",
       "      <td>Atlantic Drive Northwest</td>\n",
       "      <td>Bellwood</td>\n",
       "      <td>Atlanta</td>\n",
       "      <td>Fulton County</td>\n",
       "      <td>Georgia</td>\n",
       "      <td>USA</td>\n",
       "      <td>us</td>\n",
       "      <td>NaN</td>\n",
       "      <td>30318</td>\n",
       "      <td>...</td>\n",
       "      <td>NaN</td>\n",
       "      <td>NaN</td>\n",
       "      <td>NaN</td>\n",
       "      <td>NaN</td>\n",
       "      <td>Georgia Institute of Technology</td>\n",
       "      <td>aerospace engineering</td>\n",
       "      <td>27000</td>\n",
       "      <td>1.29</td>\n",
       "      <td>2012-2013</td>\n",
       "      <td>6th and up</td>\n",
       "    </tr>\n",
       "    <tr>\n",
       "      <th>4790</th>\n",
       "      <td>MIT</td>\n",
       "      <td>NaN</td>\n",
       "      <td>Central Square</td>\n",
       "      <td>NaN</td>\n",
       "      <td>Middlesex County</td>\n",
       "      <td>Massachusetts</td>\n",
       "      <td>USA</td>\n",
       "      <td>us</td>\n",
       "      <td>Massachusetts Avenue</td>\n",
       "      <td>02238</td>\n",
       "      <td>...</td>\n",
       "      <td>NaN</td>\n",
       "      <td>NaN</td>\n",
       "      <td>NaN</td>\n",
       "      <td>NaN</td>\n",
       "      <td>Massachusetts Institute of Technology</td>\n",
       "      <td>Math</td>\n",
       "      <td>33000</td>\n",
       "      <td>1.29</td>\n",
       "      <td>2013-2014</td>\n",
       "      <td>6th and up</td>\n",
       "    </tr>\n",
       "    <tr>\n",
       "      <th>4791</th>\n",
       "      <td>MIT</td>\n",
       "      <td>NaN</td>\n",
       "      <td>Central Square</td>\n",
       "      <td>NaN</td>\n",
       "      <td>Middlesex County</td>\n",
       "      <td>Massachusetts</td>\n",
       "      <td>USA</td>\n",
       "      <td>us</td>\n",
       "      <td>Massachusetts Avenue</td>\n",
       "      <td>02238</td>\n",
       "      <td>...</td>\n",
       "      <td>NaN</td>\n",
       "      <td>NaN</td>\n",
       "      <td>NaN</td>\n",
       "      <td>NaN</td>\n",
       "      <td>Massachusetts Institute of Technology</td>\n",
       "      <td>Biology</td>\n",
       "      <td>34000</td>\n",
       "      <td>1.33</td>\n",
       "      <td>2014-2015</td>\n",
       "      <td>6th and up</td>\n",
       "    </tr>\n",
       "    <tr>\n",
       "      <th>4792</th>\n",
       "      <td>Duke University</td>\n",
       "      <td>Union Circle</td>\n",
       "      <td>Trinity Heights</td>\n",
       "      <td>Durham</td>\n",
       "      <td>Durham County</td>\n",
       "      <td>North Carolina</td>\n",
       "      <td>USA</td>\n",
       "      <td>us</td>\n",
       "      <td>NaN</td>\n",
       "      <td>NaN</td>\n",
       "      <td>...</td>\n",
       "      <td>NaN</td>\n",
       "      <td>NaN</td>\n",
       "      <td>NaN</td>\n",
       "      <td>NaN</td>\n",
       "      <td>Duke University</td>\n",
       "      <td>Biochemistry</td>\n",
       "      <td>29840</td>\n",
       "      <td>1.59</td>\n",
       "      <td>2012-2013</td>\n",
       "      <td>6th and up</td>\n",
       "    </tr>\n",
       "    <tr>\n",
       "      <th>4793</th>\n",
       "      <td>University of Virginia</td>\n",
       "      <td>NaN</td>\n",
       "      <td>NaN</td>\n",
       "      <td>Charlottesville</td>\n",
       "      <td>NaN</td>\n",
       "      <td>Virginia</td>\n",
       "      <td>USA</td>\n",
       "      <td>us</td>\n",
       "      <td>Emmet Street North</td>\n",
       "      <td>22901</td>\n",
       "      <td>...</td>\n",
       "      <td>NaN</td>\n",
       "      <td>NaN</td>\n",
       "      <td>NaN</td>\n",
       "      <td>NaN</td>\n",
       "      <td>University of Virginia</td>\n",
       "      <td>Chemical Engineering</td>\n",
       "      <td>32000</td>\n",
       "      <td>1.63</td>\n",
       "      <td>2013-2014</td>\n",
       "      <td>4th</td>\n",
       "    </tr>\n",
       "    <tr>\n",
       "      <th>4794</th>\n",
       "      <td>Duke University</td>\n",
       "      <td>Union Circle</td>\n",
       "      <td>Trinity Heights</td>\n",
       "      <td>Durham</td>\n",
       "      <td>Durham County</td>\n",
       "      <td>North Carolina</td>\n",
       "      <td>USA</td>\n",
       "      <td>us</td>\n",
       "      <td>NaN</td>\n",
       "      <td>NaN</td>\n",
       "      <td>...</td>\n",
       "      <td>NaN</td>\n",
       "      <td>NaN</td>\n",
       "      <td>NaN</td>\n",
       "      <td>NaN</td>\n",
       "      <td>Duke University</td>\n",
       "      <td>Biomedical Engineering</td>\n",
       "      <td>32000</td>\n",
       "      <td>1.70</td>\n",
       "      <td>2013-2014</td>\n",
       "      <td>2nd</td>\n",
       "    </tr>\n",
       "    <tr>\n",
       "      <th>4795</th>\n",
       "      <td>University of Virginia</td>\n",
       "      <td>NaN</td>\n",
       "      <td>NaN</td>\n",
       "      <td>Charlottesville</td>\n",
       "      <td>NaN</td>\n",
       "      <td>Virginia</td>\n",
       "      <td>USA</td>\n",
       "      <td>us</td>\n",
       "      <td>Emmet Street North</td>\n",
       "      <td>22901</td>\n",
       "      <td>...</td>\n",
       "      <td>NaN</td>\n",
       "      <td>NaN</td>\n",
       "      <td>NaN</td>\n",
       "      <td>NaN</td>\n",
       "      <td>University of Virginia</td>\n",
       "      <td>Chemical Engineering</td>\n",
       "      <td>25000</td>\n",
       "      <td>1.28</td>\n",
       "      <td>2013-2014</td>\n",
       "      <td>4th</td>\n",
       "    </tr>\n",
       "    <tr>\n",
       "      <th>4796</th>\n",
       "      <td>Duke University</td>\n",
       "      <td>Union Circle</td>\n",
       "      <td>Trinity Heights</td>\n",
       "      <td>Durham</td>\n",
       "      <td>Durham County</td>\n",
       "      <td>North Carolina</td>\n",
       "      <td>USA</td>\n",
       "      <td>us</td>\n",
       "      <td>NaN</td>\n",
       "      <td>NaN</td>\n",
       "      <td>...</td>\n",
       "      <td>NaN</td>\n",
       "      <td>NaN</td>\n",
       "      <td>NaN</td>\n",
       "      <td>NaN</td>\n",
       "      <td>Duke University</td>\n",
       "      <td>Biomedical Engineering</td>\n",
       "      <td>27850</td>\n",
       "      <td>1.48</td>\n",
       "      <td>2013-2014</td>\n",
       "      <td>6th and up</td>\n",
       "    </tr>\n",
       "  </tbody>\n",
       "</table>\n",
       "<p>4797 rows × 42 columns</p>\n",
       "</div>"
      ],
      "text/plain": [
       "                                             University  \\\n",
       "0                                       Duke University   \n",
       "1                         University of Colorado Denver   \n",
       "2                             Michigan State University   \n",
       "3                                  University of Denver   \n",
       "4     University of California - Los Angeles (Westwood)   \n",
       "5                                                   NaN   \n",
       "6                                Wake Forest University   \n",
       "7                                 University of Arizona   \n",
       "8                       University of Wisconsin-Madison   \n",
       "9                                                   NaN   \n",
       "10                        University of Central Florida   \n",
       "11                                                   UC   \n",
       "12                             Clark Atlanta University   \n",
       "13                                                  NaN   \n",
       "14                                                   MU   \n",
       "15                              Northeastern University   \n",
       "16                                  Stanford University   \n",
       "17    University of California - Los Angeles (Westwood)   \n",
       "18                                          UC Berkeley   \n",
       "19                                                  UMN   \n",
       "20                                      UNC-Chapel Hill   \n",
       "21    University of California - Los Angeles (Westwood)   \n",
       "22                                   Clemson University   \n",
       "23    University of California - Los Angeles (Westwood)   \n",
       "24                                      Duke University   \n",
       "25                                                 UCSF   \n",
       "26                                                 UCSF   \n",
       "27                                                   UC   \n",
       "28                   California Institute of Technology   \n",
       "29                                      Duke University   \n",
       "...                                                 ...   \n",
       "4767                                                NaN   \n",
       "4768                                                NaN   \n",
       "4769                                       Georgia Tech   \n",
       "4770                                                NaN   \n",
       "4771                                                NaN   \n",
       "4772                                                NaN   \n",
       "4773                                                NaN   \n",
       "4774                                                NaN   \n",
       "4775                                                NaN   \n",
       "4776                                               UCSD   \n",
       "4777                           University of Washington   \n",
       "4778                                                NaN   \n",
       "4779                                       Georgia Tech   \n",
       "4780                                       Georgia Tech   \n",
       "4781                                 Harvard University   \n",
       "4782                                       Georgia Tech   \n",
       "4783                                       Georgia Tech   \n",
       "4784                                                NaN   \n",
       "4785                                       Georgia Tech   \n",
       "4786                                               UCSF   \n",
       "4787                                Stanford University   \n",
       "4788                                       Georgia Tech   \n",
       "4789                                       Georgia Tech   \n",
       "4790                                                MIT   \n",
       "4791                                                MIT   \n",
       "4792                                    Duke University   \n",
       "4793                             University of Virginia   \n",
       "4794                                    Duke University   \n",
       "4795                             University of Virginia   \n",
       "4796                                    Duke University   \n",
       "\n",
       "                    Pedestrian               Neighbourhood  \\\n",
       "0                 Union Circle             Trinity Heights   \n",
       "1                          NaN                     Auraria   \n",
       "2                          NaN                         NaN   \n",
       "3                          NaN                         NaN   \n",
       "4                   Bruin Walk            Westwood Village   \n",
       "5                          NaN                Marquam Hill   \n",
       "6                          NaN                         NaN   \n",
       "7                          NaN                         NaN   \n",
       "8                          NaN             Oakland Heights   \n",
       "9                          NaN                         NaN   \n",
       "10                         NaN                         NaN   \n",
       "11                         NaN                         NaN   \n",
       "12                         NaN  Joel Chandler Harris Homes   \n",
       "13                         NaN                 Beverlywood   \n",
       "14                         NaN                         NaN   \n",
       "15                         NaN            Roxbury Crossing   \n",
       "16                         NaN                         NaN   \n",
       "17                  Bruin Walk            Westwood Village   \n",
       "18                         NaN                         NaN   \n",
       "19                         NaN                         NaN   \n",
       "20                         NaN                         NaN   \n",
       "21                  Bruin Walk            Westwood Village   \n",
       "22                         NaN                         NaN   \n",
       "23                  Bruin Walk            Westwood Village   \n",
       "24                Union Circle             Trinity Heights   \n",
       "25                         NaN                Inner Sunset   \n",
       "26                         NaN                Inner Sunset   \n",
       "27                         NaN                         NaN   \n",
       "28            San Pasqual Walk             Madison Heights   \n",
       "29                Union Circle             Trinity Heights   \n",
       "...                        ...                         ...   \n",
       "4767                       NaN                         NaN   \n",
       "4768                       NaN                         NaN   \n",
       "4769  Atlantic Drive Northwest                    Bellwood   \n",
       "4770                       NaN                 East Campus   \n",
       "4771                       NaN                 East Campus   \n",
       "4772                       NaN                 East Campus   \n",
       "4773                       NaN                 Five Points   \n",
       "4774                       NaN                         NaN   \n",
       "4775                       NaN                         NaN   \n",
       "4776                       NaN           University Center   \n",
       "4777                       NaN                    Montlake   \n",
       "4778                       NaN                    The Hill   \n",
       "4779  Atlantic Drive Northwest                    Bellwood   \n",
       "4780  Atlantic Drive Northwest                    Bellwood   \n",
       "4781                       NaN               Old Cambridge   \n",
       "4782  Atlantic Drive Northwest                    Bellwood   \n",
       "4783  Atlantic Drive Northwest                    Bellwood   \n",
       "4784                       NaN                         NaN   \n",
       "4785  Atlantic Drive Northwest                    Bellwood   \n",
       "4786                       NaN                Inner Sunset   \n",
       "4787                       NaN                         NaN   \n",
       "4788  Atlantic Drive Northwest                    Bellwood   \n",
       "4789  Atlantic Drive Northwest                    Bellwood   \n",
       "4790                       NaN              Central Square   \n",
       "4791                       NaN              Central Square   \n",
       "4792              Union Circle             Trinity Heights   \n",
       "4793                       NaN                         NaN   \n",
       "4794              Union Circle             Trinity Heights   \n",
       "4795                       NaN                         NaN   \n",
       "4796              Union Circle             Trinity Heights   \n",
       "\n",
       "                             City              County           State  \\\n",
       "0                          Durham       Durham County  North Carolina   \n",
       "1                          Denver       Denver County        Colorado   \n",
       "2                    East Lansing       Ingham County        Michigan   \n",
       "3                          Denver       Denver County        Colorado   \n",
       "4                              LA  Los Angeles County      California   \n",
       "5                        Portland    Multnomah County          Oregon   \n",
       "6                   Winston-Salem      Forsyth County  North Carolina   \n",
       "7                         Phoenix     Maricopa County         Arizona   \n",
       "8                         Madison         Dane County       Wisconsin   \n",
       "9                        Portland    Multnomah County          Oregon   \n",
       "10                            NaN       Orange County         Florida   \n",
       "11                     Cincinnati     Hamilton County            Ohio   \n",
       "12                        Atlanta       Fulton County         Georgia   \n",
       "13                             LA  Los Angeles County      California   \n",
       "14                         Oxford       Butler County            Ohio   \n",
       "15                         Boston      Suffolk County   Massachusetts   \n",
       "16                            NaN  Santa Clara County      California   \n",
       "17                             LA  Los Angeles County      California   \n",
       "18                        Oakland      Alameda County      California   \n",
       "19                       St. Paul       Ramsey County       Minnesota   \n",
       "20                            NaN       Orange County  North Carolina   \n",
       "21                             LA  Los Angeles County      California   \n",
       "22                            NaN      Pickens County  South Carolina   \n",
       "23                             LA  Los Angeles County      California   \n",
       "24                         Durham       Durham County  North Carolina   \n",
       "25                             SF                  SF      California   \n",
       "26                             SF                  SF      California   \n",
       "27                     Cincinnati     Hamilton County            Ohio   \n",
       "28                       Pasadena  Los Angeles County      California   \n",
       "29                         Durham       Durham County  North Carolina   \n",
       "...                           ...                 ...             ...   \n",
       "4767  New Mexico State University     Doña Ana County      New Mexico   \n",
       "4768  New Mexico State University     Doña Ana County      New Mexico   \n",
       "4769                      Atlanta       Fulton County         Georgia   \n",
       "4770                          NaN      Tolland County     Connecticut   \n",
       "4771                          NaN      Tolland County     Connecticut   \n",
       "4772                          NaN      Tolland County     Connecticut   \n",
       "4773                      Atlanta       Fulton County         Georgia   \n",
       "4774                       Oxford    Lafayette County     Mississippi   \n",
       "4775  New Mexico State University     Doña Ana County      New Mexico   \n",
       "4776                    San Diego    San Diego County      California   \n",
       "4777                      Seattle         King County      Washington   \n",
       "4778                      Boulder      Boulder County        Colorado   \n",
       "4779                      Atlanta       Fulton County         Georgia   \n",
       "4780                      Atlanta       Fulton County         Georgia   \n",
       "4781                          NaN    Middlesex County   Massachusetts   \n",
       "4782                      Atlanta       Fulton County         Georgia   \n",
       "4783                      Atlanta       Fulton County         Georgia   \n",
       "4784                       Urbana    Champaign County        Illinois   \n",
       "4785                      Atlanta       Fulton County         Georgia   \n",
       "4786                           SF                  SF      California   \n",
       "4787                          NaN  Santa Clara County      California   \n",
       "4788                      Atlanta       Fulton County         Georgia   \n",
       "4789                      Atlanta       Fulton County         Georgia   \n",
       "4790                          NaN    Middlesex County   Massachusetts   \n",
       "4791                          NaN    Middlesex County   Massachusetts   \n",
       "4792                       Durham       Durham County  North Carolina   \n",
       "4793              Charlottesville                 NaN        Virginia   \n",
       "4794                       Durham       Durham County  North Carolina   \n",
       "4795              Charlottesville                 NaN        Virginia   \n",
       "4796                       Durham       Durham County  North Carolina   \n",
       "\n",
       "                       Country Country_code                        Road  \\\n",
       "0                          USA           us                         NaN   \n",
       "1     United States of America           us                Lawrence Way   \n",
       "2                          USA           us                   Farm Lane   \n",
       "3                          USA           us                         NaN   \n",
       "4                          USA           us                         NaN   \n",
       "5                          USA           us      Southwest Campus Drive   \n",
       "6                          USA           us            Wake Forest Road   \n",
       "7                          USA           us            East Polk Street   \n",
       "8                          USA           us                         NaN   \n",
       "9                          USA           us        Southwest 6th Avenue   \n",
       "10                         USA           us                 Libra Drive   \n",
       "11                         USA           us      West University Avenue   \n",
       "12                         USA           us    Parsons Street Southwest   \n",
       "13                         USA           us           South Crest Drive   \n",
       "14                         USA           us            East Vine Street   \n",
       "15                         USA           us              Tremont Street   \n",
       "16                         USA           us                  Palm Drive   \n",
       "17                         USA           us                         NaN   \n",
       "18                         USA           us            Centennial Drive   \n",
       "19                         USA           us       North Brompton Street   \n",
       "20                         USA           us            Ehringhaus Drive   \n",
       "21                         USA           us                         NaN   \n",
       "22                         USA           us            Old Stadium Road   \n",
       "23                         USA           us                         NaN   \n",
       "24                         USA           us                         NaN   \n",
       "25                         USA           us            Parnassus Avenue   \n",
       "26                         USA           us            Parnassus Avenue   \n",
       "27                         USA           us      West University Avenue   \n",
       "28                         USA           us                         NaN   \n",
       "29                         USA           us                         NaN   \n",
       "...                        ...          ...                         ...   \n",
       "4767                       USA           us                         NaN   \n",
       "4768                       USA           us                         NaN   \n",
       "4769                       USA           us                         NaN   \n",
       "4770                       USA           us              Glenbrook Road   \n",
       "4771                       USA           us              Glenbrook Road   \n",
       "4772                       USA           us              Glenbrook Road   \n",
       "4773                       USA           us  Courtland Street Southeast   \n",
       "4774  United States of America           us           University Avenue   \n",
       "4775                       USA           us                         NaN   \n",
       "4776                       USA           us                Gilman Drive   \n",
       "4777                       USA           us    Jefferson Road Northeast   \n",
       "4778                       USA           us                    Broadway   \n",
       "4779                       USA           us                         NaN   \n",
       "4780                       USA           us                         NaN   \n",
       "4781                       USA           us      John F. Kennedy Street   \n",
       "4782                       USA           us                         NaN   \n",
       "4783                       USA           us                         NaN   \n",
       "4784                       USA           us        South Mathews Avenue   \n",
       "4785                       USA           us                         NaN   \n",
       "4786                       USA           us            Parnassus Avenue   \n",
       "4787                       USA           us                  Palm Drive   \n",
       "4788                       USA           us                         NaN   \n",
       "4789                       USA           us                         NaN   \n",
       "4790                       USA           us        Massachusetts Avenue   \n",
       "4791                       USA           us        Massachusetts Avenue   \n",
       "4792                       USA           us                         NaN   \n",
       "4793                       USA           us          Emmet Street North   \n",
       "4794                       USA           us                         NaN   \n",
       "4795                       USA           us          Emmet Street North   \n",
       "4796                       USA           us                         NaN   \n",
       "\n",
       "        Postcode  ... City_district Industrial Commercial Station  \\\n",
       "0            NaN  ...           NaN        NaN        NaN     NaN   \n",
       "1          80217  ...           NaN        NaN        NaN     NaN   \n",
       "2          48824  ...           NaN        NaN        NaN     NaN   \n",
       "3          80208  ...           NaN        NaN        NaN     NaN   \n",
       "4          90095  ...           NaN        NaN        NaN     NaN   \n",
       "5          97239  ...           NaN        NaN        NaN     NaN   \n",
       "6          27106  ...           NaN        NaN        NaN     NaN   \n",
       "7          85004  ...           NaN        NaN        NaN     NaN   \n",
       "8          53726  ...           NaN        NaN        NaN     NaN   \n",
       "9          97204  ...           NaN        NaN        NaN     NaN   \n",
       "10         32816  ...           NaN        NaN        NaN     NaN   \n",
       "11         45219  ...           NaN        NaN        NaN     NaN   \n",
       "12         30314  ...           NaN        NaN        NaN     NaN   \n",
       "13         90035  ...           NaN        NaN        NaN     NaN   \n",
       "14         45056  ...           NaN        NaN        NaN     NaN   \n",
       "15      MA 02118  ...           NaN        NaN        NaN     NaN   \n",
       "16    94305-6015  ...           NaN        NaN        NaN     NaN   \n",
       "17         90095  ...           NaN        NaN        NaN     NaN   \n",
       "18    94720-1076  ...           NaN        NaN        NaN     NaN   \n",
       "19         55108  ...           NaN        NaN        NaN     NaN   \n",
       "20        275199  ...           NaN        NaN        NaN     NaN   \n",
       "21         90095  ...           NaN        NaN        NaN     NaN   \n",
       "22         29631  ...           NaN        NaN        NaN     NaN   \n",
       "23         90095  ...           NaN        NaN        NaN     NaN   \n",
       "24           NaN  ...           NaN        NaN        NaN     NaN   \n",
       "25         94117  ...           NaN        NaN        NaN     NaN   \n",
       "26         94117  ...           NaN        NaN        NaN     NaN   \n",
       "27         45219  ...           NaN        NaN        NaN     NaN   \n",
       "28         91126  ...           NaN        NaN        NaN     NaN   \n",
       "29           NaN  ...           NaN        NaN        NaN     NaN   \n",
       "...          ...  ...           ...        ...        ...     ...   \n",
       "4767       88003  ...           NaN        NaN        NaN     NaN   \n",
       "4768       88003  ...           NaN        NaN        NaN     NaN   \n",
       "4769       30318  ...           NaN        NaN        NaN     NaN   \n",
       "4770       06269  ...           NaN        NaN        NaN     NaN   \n",
       "4771       06269  ...           NaN        NaN        NaN     NaN   \n",
       "4772       06269  ...           NaN        NaN        NaN     NaN   \n",
       "4773       30303  ...           NaN        NaN        NaN     NaN   \n",
       "4774       38677  ...           NaN        NaN        NaN     NaN   \n",
       "4775       88003  ...           NaN        NaN        NaN     NaN   \n",
       "4776       92093  ...           NaN        NaN        NaN     NaN   \n",
       "4777  98195-2350  ...           NaN        NaN        NaN     NaN   \n",
       "4778       80802  ...           NaN        NaN        NaN     NaN   \n",
       "4779       30318  ...           NaN        NaN        NaN     NaN   \n",
       "4780       30318  ...           NaN        NaN        NaN     NaN   \n",
       "4781       02163  ...           NaN        NaN        NaN     NaN   \n",
       "4782       30318  ...           NaN        NaN        NaN     NaN   \n",
       "4783       30318  ...           NaN        NaN        NaN     NaN   \n",
       "4784       61801  ...           NaN        NaN        NaN     NaN   \n",
       "4785       30318  ...           NaN        NaN        NaN     NaN   \n",
       "4786       94117  ...           NaN        NaN        NaN     NaN   \n",
       "4787  94305-6015  ...           NaN        NaN        NaN     NaN   \n",
       "4788       30318  ...           NaN        NaN        NaN     NaN   \n",
       "4789       30318  ...           NaN        NaN        NaN     NaN   \n",
       "4790       02238  ...           NaN        NaN        NaN     NaN   \n",
       "4791       02238  ...           NaN        NaN        NaN     NaN   \n",
       "4792         NaN  ...           NaN        NaN        NaN     NaN   \n",
       "4793       22901  ...           NaN        NaN        NaN     NaN   \n",
       "4794         NaN  ...           NaN        NaN        NaN     NaN   \n",
       "4795       22901  ...           NaN        NaN        NaN     NaN   \n",
       "4796         NaN  ...           NaN        NaN        NaN     NaN   \n",
       "\n",
       "                                       University  \\\n",
       "0                                Duke University    \n",
       "1                University of Colorado - Denver    \n",
       "2                      Michigan State University    \n",
       "3                           University of Denver    \n",
       "4         University of California - Los Angeles    \n",
       "5            Oregon Health and Science University   \n",
       "6                         Wake Forest University    \n",
       "7                          University of Arizona    \n",
       "8              University of Wisconsin - Madison    \n",
       "9                        Oregon State University    \n",
       "10                 University of Central Florida    \n",
       "11                      University of Cincinnati    \n",
       "12                       Clark Atlanta University   \n",
       "13                            Yeshiva University    \n",
       "14                              Miami University    \n",
       "15                       Northeastern University    \n",
       "16                           Stanford University    \n",
       "17        University of California - Los Angeles    \n",
       "18            University of California - Berkeley   \n",
       "19         University of Minnesota - Twin Cities    \n",
       "20    University of North Carolina - Chapel Hill    \n",
       "21        University of California - Los Angeles    \n",
       "22                            Clemson University    \n",
       "23        University of California - Los Angeles    \n",
       "24                               Duke University    \n",
       "25      University of California - San Francisco    \n",
       "26      University of California - San Francisco    \n",
       "27                      University of Cincinnati    \n",
       "28            California Institute of Technology    \n",
       "29                               Duke University    \n",
       "...                                           ...   \n",
       "4767                 New Mexico State University    \n",
       "4768                 New Mexico State University    \n",
       "4769             Georgia Institute of Technology    \n",
       "4770                   University of Connecticut    \n",
       "4771                   University of Connecticut    \n",
       "4772                   University of Connecticut    \n",
       "4773                    Georgia State University    \n",
       "4774                   University of Mississippi    \n",
       "4775                 New Mexico State University    \n",
       "4776        University of California - San Diego    \n",
       "4777                    University of Washington    \n",
       "4778            University of Colorado - Boulder    \n",
       "4779             Georgia Institute of Technology    \n",
       "4780             Georgia Institute of Technology    \n",
       "4781                          Harvard University    \n",
       "4782             Georgia Institute of Technology    \n",
       "4783             Georgia Institute of Technology    \n",
       "4784  University of Illinois - Urbana- Champaign    \n",
       "4785             Georgia Institute of Technology    \n",
       "4786    University of California - San Francisco    \n",
       "4787                         Stanford University    \n",
       "4788             Georgia Institute of Technology    \n",
       "4789             Georgia Institute of Technology    \n",
       "4790       Massachusetts Institute of Technology    \n",
       "4791       Massachusetts Institute of Technology    \n",
       "4792                             Duke University    \n",
       "4793                      University of Virginia    \n",
       "4794                             Duke University    \n",
       "4795                      University of Virginia    \n",
       "4796                             Duke University    \n",
       "\n",
       "                                                Subject Stipend LW Ratio  \\\n",
       "0                                        Bioengineering   29700     1.34   \n",
       "1                                 Molecular Biology PhD   31000     1.38   \n",
       "2                                       Physics/Nuclear   33000     1.61   \n",
       "3                                           Mathematics   20700     0.92   \n",
       "4                                               biology   42000     1.62   \n",
       "5                                          Neuroscience   30000     1.28   \n",
       "6                                Biomedical Informatics   45000     2.06   \n",
       "7                                            Entomology   22022     1.06   \n",
       "8                                     Computer Sciences   20700     0.91   \n",
       "9                                          Microbiology    1600     0.08   \n",
       "10                               Mechanical Engineering   24000     1.04   \n",
       "11                                    School Psychology   12540     0.65   \n",
       "12                                           Chemistry    17100     0.73   \n",
       "13                                  Biomedical Sciences   35000     1.18   \n",
       "14                               Mechanical Engineering   15800     0.82   \n",
       "15                  Electrical and Computer Engineering   33007     1.15   \n",
       "16                   Civil and Environmental Enineering   42000     1.46   \n",
       "17                               Electrical Engineering   28000     1.08   \n",
       "18                                                  MCB   37000     1.33   \n",
       "19                       German Nordic Slavic and Dutch   23500     1.03   \n",
       "20                               Biomedical Engineering   37500     1.69   \n",
       "21                                          Linguistics   33000     1.28   \n",
       "22                                           Automotive   20500     0.98   \n",
       "23    Molecular Biology Interdepartmental Doctoral P...   33500     1.29   \n",
       "24                                        Public Policy   25000     1.12   \n",
       "25                      Chemistry and Chemical biology    40000     1.34   \n",
       "26                      Chemistry and Chemical biology    40000     1.34   \n",
       "27                                        Communication   12550     0.65   \n",
       "28                  Computing and Mathematical Sciences   35000     1.35   \n",
       "29          University Program in Genetics and Genomics   31800     1.43   \n",
       "...                                                 ...     ...      ...   \n",
       "4767                                          Astronomy   18058     1.07   \n",
       "4768                                          Astronomy   14842     0.88   \n",
       "4769                                                ECE   28083     1.34   \n",
       "4770                              Ecology and Evolution   21212     1.01   \n",
       "4771                              Ecology and Evolution   22061     1.05   \n",
       "4772                   Ecology and Evolutionary Biology   22000     1.05   \n",
       "4773                                     Communication    15000     0.71   \n",
       "4774                                            Biology   19000     1.09   \n",
       "4775                                          Astronomy   32000     1.89   \n",
       "4776                                      Neurosciences   31000     1.31   \n",
       "4777                                          Chemistry   26000     1.30   \n",
       "4778                                               EBIO   32000     1.55   \n",
       "4779                             Biomedical Engineering   32000     1.52   \n",
       "4780                             Mechanical Engineering   31200     1.49   \n",
       "4781                                       Epidemiology   22000     0.84   \n",
       "4782                             Biomedical Engineering   28000     1.33   \n",
       "4783                              Aerospace Engineering   26000     1.24   \n",
       "4784                                   Computer Science   32000     1.85   \n",
       "4785                              Aerospace Engineering   33000     1.57   \n",
       "4786                                       Neuroscience   32000     1.20   \n",
       "4787                       Graduate School of Education   24000     0.96   \n",
       "4788                              Aerospace Engineering   33360     1.59   \n",
       "4789                              aerospace engineering   27000     1.29   \n",
       "4790                                               Math   33000     1.29   \n",
       "4791                                            Biology   34000     1.33   \n",
       "4792                                       Biochemistry   29840     1.59   \n",
       "4793                               Chemical Engineering   32000     1.63   \n",
       "4794                             Biomedical Engineering   32000     1.70   \n",
       "4795                               Chemical Engineering   25000     1.28   \n",
       "4796                             Biomedical Engineering   27850     1.48   \n",
       "\n",
       "     Academic Year Program Year  \n",
       "0        2018-2019          3rd  \n",
       "1        2019-2020          2nd  \n",
       "2        2019-2020          1st  \n",
       "3        2019-2020          1st  \n",
       "4        2018-2019          1st  \n",
       "5        2018-2019          1st  \n",
       "6        2019-2020          1st  \n",
       "7        2018-2019          1st  \n",
       "8        2019-2020          1st  \n",
       "9        2018-2019          2nd  \n",
       "10       2019-2020          1st  \n",
       "11       2018-2019          1st  \n",
       "12       2019-2020          1st  \n",
       "13       2018-2019          1st  \n",
       "14       2019-2020          1st  \n",
       "15       2018-2019          2nd  \n",
       "16       2019-2020          1st  \n",
       "17       2019-2020          1st  \n",
       "18       2019-2020          1st  \n",
       "19       2018-2019          1st  \n",
       "20       2019-2020          1st  \n",
       "21       2019-2020          1st  \n",
       "22       2018-2019          3rd  \n",
       "23       2019-2020          1st  \n",
       "24       2019-2020          1st  \n",
       "25       2019-2020          1st  \n",
       "26       2019-2020          1st  \n",
       "27       2018-2019          1st  \n",
       "28       2018-2019          4th  \n",
       "29       2018-2019          3rd  \n",
       "...            ...          ...  \n",
       "4767     2011-2012          2nd  \n",
       "4768     2010-2011          1st  \n",
       "4769     2014-2015          2nd  \n",
       "4770     2013-2014          3rd  \n",
       "4771     2014-2015          4th  \n",
       "4772     2014-2015          3rd  \n",
       "4773     2011-2012          3rd  \n",
       "4774     2013-2014          5th  \n",
       "4775     2014-2015          3rd  \n",
       "4776     2013-2014          3rd  \n",
       "4777     2012-2013          1st  \n",
       "4778     2014-2015          2nd  \n",
       "4779     2013-2014          3rd  \n",
       "4780     2013-2014   6th and up  \n",
       "4781     2013-2014          1st  \n",
       "4782     2013-2014          4th  \n",
       "4783     2013-2014   6th and up  \n",
       "4784     2013-2014          5th  \n",
       "4785     2013-2014          4th  \n",
       "4786     2013-2014          3rd  \n",
       "4787     2013-2014          4th  \n",
       "4788     2012-2013   6th and up  \n",
       "4789     2012-2013   6th and up  \n",
       "4790     2013-2014   6th and up  \n",
       "4791     2014-2015   6th and up  \n",
       "4792     2012-2013   6th and up  \n",
       "4793     2013-2014          4th  \n",
       "4794     2013-2014          2nd  \n",
       "4795     2013-2014          4th  \n",
       "4796     2013-2014   6th and up  \n",
       "\n",
       "[4797 rows x 42 columns]"
      ]
     },
     "execution_count": 103,
     "metadata": {},
     "output_type": "execute_result"
    }
   ],
   "source": [
    "stipend_loc"
   ]
  }
 ],
 "metadata": {
  "kernelspec": {
   "display_name": "Python 3",
   "language": "python",
   "name": "python3"
  },
  "language_info": {
   "codemirror_mode": {
    "name": "ipython",
    "version": 3
   },
   "file_extension": ".py",
   "mimetype": "text/x-python",
   "name": "python",
   "nbconvert_exporter": "python",
   "pygments_lexer": "ipython3",
   "version": "3.7.2"
  }
 },
 "nbformat": 4,
 "nbformat_minor": 2
}
